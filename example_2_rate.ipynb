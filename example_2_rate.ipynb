{
  "cells": [
    {
      "cell_type": "markdown",
      "metadata": {
        "id": "view-in-github",
        "colab_type": "text"
      },
      "source": [
        "<a href=\"https://colab.research.google.com/github/anaferreira744/DE-DP-ADF/blob/main/example_2_rate.ipynb\" target=\"_parent\"><img src=\"https://colab.research.google.com/assets/colab-badge.svg\" alt=\"Open In Colab\"/></a>"
      ]
    },
    {
      "cell_type": "markdown",
      "metadata": {
        "id": "4_GBE9UsyxwK"
      },
      "source": []
    },
    {
      "cell_type": "markdown",
      "metadata": {
        "id": "BOA_wQSmLd9z"
      },
      "source": [
        "# Usecase 2\n",
        "- Reading data from \"rate\"\n",
        "- Aggregating data by window time\n",
        "- Checking results from query in memory"
      ]
    },
    {
      "cell_type": "markdown",
      "metadata": {
        "id": "d9LeYFsPTjAb"
      },
      "source": [
        "# Setting up PySpark"
      ]
    },
    {
      "cell_type": "code",
      "execution_count": null,
      "metadata": {
        "colab": {
          "base_uri": "https://localhost:8080/"
        },
        "id": "uYXeODL0T1fO",
        "outputId": "c410e46c-4a50-43aa-926f-d0417c6280d2"
      },
      "outputs": [
        {
          "name": "stdout",
          "output_type": "stream",
          "text": [
            "Requirement already satisfied: pyspark in /usr/local/lib/python3.10/dist-packages (3.5.3)\n",
            "Requirement already satisfied: py4j==0.10.9.7 in /usr/local/lib/python3.10/dist-packages (from pyspark) (0.10.9.7)\n"
          ]
        }
      ],
      "source": [
        "%pip install pyspark"
      ]
    },
    {
      "cell_type": "code",
      "execution_count": 1,
      "metadata": {
        "id": "637HFw00T3LP"
      },
      "outputs": [],
      "source": [
        "from pyspark.sql import SparkSession\n",
        "\n",
        "spark = SparkSession.builder.master('local').appName('Test streaming').getOrCreate()"
      ]
    },
    {
      "cell_type": "markdown",
      "source": [
        "# Write output in memory"
      ],
      "metadata": {
        "id": "NwzaZIoxqvrd"
      }
    },
    {
      "cell_type": "code",
      "execution_count": 2,
      "metadata": {
        "id": "I4mGPfB-Xg_C"
      },
      "outputs": [],
      "source": [
        "import pyspark.sql.functions as F\n",
        "\n",
        "# read stream\n",
        "stream1 = spark.readStream.format(\"rate\").option(\"rowsPerSecond\", 10).load()\n",
        "\n",
        "# transform\n",
        "transformed = stream1.withColumn(\"minute\", F.minute(\"timestamp\"))\n",
        "agg = transformed.groupBy(F.window(transformed.timestamp, \"5 seconds\")).count()\n",
        "\n",
        "# write stream in memory\n",
        "query = (agg.writeStream\n",
        ".format('memory')\n",
        ".queryName('my_query')\n",
        ".outputMode('complete')\n",
        ".start()\n",
        ")"
      ]
    },
    {
      "cell_type": "code",
      "execution_count": 5,
      "metadata": {
        "colab": {
          "base_uri": "https://localhost:8080/"
        },
        "id": "UmLQLr1uX6w-",
        "outputId": "457b6820-31a3-4f15-e57f-6d49538ab764"
      },
      "outputs": [
        {
          "output_type": "stream",
          "name": "stdout",
          "text": [
            "+------------------------------------------+-----+\n",
            "|window                                    |count|\n",
            "+------------------------------------------+-----+\n",
            "|{2024-11-23 15:47:40, 2024-11-23 15:47:45}|23   |\n",
            "|{2024-11-23 15:47:35, 2024-11-23 15:47:40}|50   |\n",
            "|{2024-11-23 15:47:30, 2024-11-23 15:47:35}|50   |\n",
            "|{2024-11-23 15:47:25, 2024-11-23 15:47:30}|50   |\n",
            "|{2024-11-23 15:47:20, 2024-11-23 15:47:25}|50   |\n",
            "|{2024-11-23 15:47:15, 2024-11-23 15:47:20}|50   |\n",
            "|{2024-11-23 15:47:10, 2024-11-23 15:47:15}|50   |\n",
            "|{2024-11-23 15:47:05, 2024-11-23 15:47:10}|50   |\n",
            "|{2024-11-23 15:47:00, 2024-11-23 15:47:05}|50   |\n",
            "|{2024-11-23 15:46:55, 2024-11-23 15:47:00}|50   |\n",
            "+------------------------------------------+-----+\n",
            "only showing top 10 rows\n",
            "\n"
          ]
        }
      ],
      "source": [
        "spark.sql(\"select * from my_query order by window desc\").show(10,False)"
      ]
    },
    {
      "cell_type": "code",
      "execution_count": null,
      "metadata": {
        "id": "TbLt4cUkX-JZ"
      },
      "outputs": [],
      "source": [
        "query.stop()"
      ]
    },
    {
      "cell_type": "markdown",
      "source": [
        "# Write output as parquet"
      ],
      "metadata": {
        "id": "Dc3r3j-wj16K"
      }
    },
    {
      "cell_type": "code",
      "source": [
        "!rm -rf content/output"
      ],
      "metadata": {
        "id": "N_BZRFCCpGq9"
      },
      "execution_count": null,
      "outputs": []
    },
    {
      "cell_type": "code",
      "execution_count": 6,
      "metadata": {
        "id": "v180mzIciVZH"
      },
      "outputs": [],
      "source": [
        "import pyspark.sql.functions as F\n",
        "from pyspark.sql import DataFrame\n",
        "\n",
        "def save_parquet(df, batch_id):\n",
        "  (df\n",
        "   .withColumn(\"batch_id\",F.lit(batch_id))\n",
        "   .withColumn(\"load_time\",F.current_timestamp())\n",
        "   .write.mode(\"append\")\n",
        "   .parquet(\"content/output/rate_parquet\")\n",
        "  )\n",
        "\n",
        "# read stream\n",
        "stream1 = spark.readStream.format(\"rate\").option(\"rowsPerSecond\", 10).load()\n",
        "\n",
        "# transform\n",
        "transformed = stream1.withWatermark(\"timestamp\", \"5 seconds\").withColumn(\"minute\", F.minute(\"timestamp\"))\n",
        "agg = transformed.groupBy(F.window(transformed.timestamp, \"5 seconds\")).count()\n",
        "\n",
        "# write stream as parquet with foreachBatch\n",
        "query = (agg.writeStream\n",
        ".option('checkpointLocation', 'content/output/checkpoint')\n",
        ".trigger(processingTime='20 seconds')\n",
        ".outputMode('append')\n",
        ".foreachBatch(save_parquet)\n",
        ".start()\n",
        ")\n"
      ]
    },
    {
      "cell_type": "code",
      "source": [
        "result = spark.read.format(\"parquet\").load(\"content/output/rate_parquet/\")\n",
        "result.sort(F.asc(\"window\")).show(100, False)"
      ],
      "metadata": {
        "colab": {
          "base_uri": "https://localhost:8080/"
        },
        "id": "-3SWIR6Ml8Al",
        "outputId": "640bf19b-9418-4e8b-a08a-eec085949e5a"
      },
      "execution_count": 11,
      "outputs": [
        {
          "output_type": "stream",
          "name": "stdout",
          "text": [
            "+------------------------------------------+-----+--------+--------------------------+\n",
            "|window                                    |count|batch_id|load_time                 |\n",
            "+------------------------------------------+-----+--------+--------------------------+\n",
            "|{2024-11-23 15:55:20, 2024-11-23 15:55:25}|13   |2       |2024-11-23 15:56:12.414428|\n",
            "|{2024-11-23 15:55:25, 2024-11-23 15:55:30}|50   |2       |2024-11-23 15:56:12.414428|\n",
            "|{2024-11-23 15:55:30, 2024-11-23 15:55:35}|50   |2       |2024-11-23 15:56:12.414428|\n",
            "|{2024-11-23 15:55:35, 2024-11-23 15:55:40}|50   |2       |2024-11-23 15:56:12.414428|\n",
            "|{2024-11-23 15:55:40, 2024-11-23 15:55:45}|50   |3       |2024-11-23 15:56:36.292465|\n",
            "|{2024-11-23 15:55:45, 2024-11-23 15:55:50}|50   |3       |2024-11-23 15:56:36.292465|\n",
            "|{2024-11-23 15:55:50, 2024-11-23 15:55:55}|50   |3       |2024-11-23 15:56:36.292465|\n",
            "|{2024-11-23 15:55:55, 2024-11-23 15:56:00}|50   |3       |2024-11-23 15:56:36.292465|\n",
            "|{2024-11-23 15:56:00, 2024-11-23 15:56:05}|50   |3       |2024-11-23 15:56:36.292465|\n",
            "|{2024-11-23 15:56:05, 2024-11-23 15:56:10}|50   |4       |2024-11-23 15:56:57.973364|\n",
            "|{2024-11-23 15:56:10, 2024-11-23 15:56:15}|50   |4       |2024-11-23 15:56:57.973364|\n",
            "|{2024-11-23 15:56:15, 2024-11-23 15:56:20}|50   |4       |2024-11-23 15:56:57.973364|\n",
            "|{2024-11-23 15:56:20, 2024-11-23 15:56:25}|50   |4       |2024-11-23 15:56:57.973364|\n",
            "|{2024-11-23 15:56:25, 2024-11-23 15:56:30}|50   |4       |2024-11-23 15:56:57.973364|\n",
            "|{2024-11-23 15:56:30, 2024-11-23 15:56:35}|50   |5       |2024-11-23 15:57:19.681483|\n",
            "|{2024-11-23 15:56:35, 2024-11-23 15:56:40}|50   |5       |2024-11-23 15:57:19.681483|\n",
            "|{2024-11-23 15:56:40, 2024-11-23 15:56:45}|50   |5       |2024-11-23 15:57:19.681483|\n",
            "|{2024-11-23 15:56:45, 2024-11-23 15:56:50}|50   |5       |2024-11-23 15:57:19.681483|\n",
            "|{2024-11-23 15:56:50, 2024-11-23 15:56:55}|50   |6       |2024-11-23 15:57:44.798173|\n",
            "|{2024-11-23 15:56:55, 2024-11-23 15:57:00}|50   |6       |2024-11-23 15:57:44.798173|\n",
            "|{2024-11-23 15:57:00, 2024-11-23 15:57:05}|50   |6       |2024-11-23 15:57:44.798173|\n",
            "|{2024-11-23 15:57:05, 2024-11-23 15:57:10}|50   |6       |2024-11-23 15:57:44.798173|\n",
            "|{2024-11-23 15:57:10, 2024-11-23 15:57:15}|50   |7       |2024-11-23 15:58:05.607761|\n",
            "|{2024-11-23 15:57:15, 2024-11-23 15:57:20}|50   |7       |2024-11-23 15:58:05.607761|\n",
            "|{2024-11-23 15:57:20, 2024-11-23 15:57:25}|50   |7       |2024-11-23 15:58:05.607761|\n",
            "|{2024-11-23 15:57:25, 2024-11-23 15:57:30}|50   |7       |2024-11-23 15:58:05.607761|\n",
            "|{2024-11-23 15:57:30, 2024-11-23 15:57:35}|50   |7       |2024-11-23 15:58:05.607761|\n",
            "+------------------------------------------+-----+--------+--------------------------+\n",
            "\n"
          ]
        }
      ]
    },
    {
      "cell_type": "code",
      "source": [
        "query.stop()"
      ],
      "metadata": {
        "id": "DKB-MAPOoEre"
      },
      "execution_count": null,
      "outputs": []
    },
    {
      "cell_type": "markdown",
      "source": [
        "# Enrich data with faker"
      ],
      "metadata": {
        "id": "GjAp1IKnvteX"
      }
    },
    {
      "cell_type": "code",
      "source": [
        "!pip install faker"
      ],
      "metadata": {
        "id": "_gauZX8MFP5f",
        "outputId": "9b160fc7-d251-4abb-cbde-1cfe58c02b74",
        "colab": {
          "base_uri": "https://localhost:8080/"
        }
      },
      "execution_count": 12,
      "outputs": [
        {
          "output_type": "stream",
          "name": "stdout",
          "text": [
            "Collecting faker\n",
            "  Downloading Faker-33.0.0-py3-none-any.whl.metadata (15 kB)\n",
            "Requirement already satisfied: python-dateutil>=2.4 in /usr/local/lib/python3.10/dist-packages (from faker) (2.8.2)\n",
            "Requirement already satisfied: typing-extensions in /usr/local/lib/python3.10/dist-packages (from faker) (4.12.2)\n",
            "Requirement already satisfied: six>=1.5 in /usr/local/lib/python3.10/dist-packages (from python-dateutil>=2.4->faker) (1.16.0)\n",
            "Downloading Faker-33.0.0-py3-none-any.whl (1.9 MB)\n",
            "\u001b[?25l   \u001b[90m━━━━━━━━━━━━━━━━━━━━━━━━━━━━━━━━━━━━━━━━\u001b[0m \u001b[32m0.0/1.9 MB\u001b[0m \u001b[31m?\u001b[0m eta \u001b[36m-:--:--\u001b[0m\r\u001b[2K   \u001b[91m━━━\u001b[0m\u001b[90m╺\u001b[0m\u001b[90m━━━━━━━━━━━━━━━━━━━━━━━━━━━━━━━━━━━━\u001b[0m \u001b[32m0.2/1.9 MB\u001b[0m \u001b[31m4.4 MB/s\u001b[0m eta \u001b[36m0:00:01\u001b[0m\r\u001b[2K   \u001b[91m━━━━━━━━━━━━━━━━━━━━━━━━━━━\u001b[0m\u001b[90m╺\u001b[0m\u001b[90m━━━━━━━━━━━━\u001b[0m \u001b[32m1.3/1.9 MB\u001b[0m \u001b[31m17.9 MB/s\u001b[0m eta \u001b[36m0:00:01\u001b[0m\r\u001b[2K   \u001b[90m━━━━━━━━━━━━━━━━━━━━━━━━━━━━━━━━━━━━━━━━\u001b[0m \u001b[32m1.9/1.9 MB\u001b[0m \u001b[31m18.2 MB/s\u001b[0m eta \u001b[36m0:00:00\u001b[0m\n",
            "\u001b[?25hInstalling collected packages: faker\n",
            "Successfully installed faker-33.0.0\n"
          ]
        }
      ]
    },
    {
      "cell_type": "code",
      "source": [
        "!rm -rf content/output/events"
      ],
      "metadata": {
        "id": "UFND4p5-2Na5"
      },
      "execution_count": null,
      "outputs": []
    },
    {
      "cell_type": "code",
      "source": [
        "import pyspark.sql.functions as F\n",
        "from pyspark.sql import DataFrame\n",
        "from faker import Faker\n",
        "\n",
        "def insert_into_table(df, batch_id):\n",
        "  fake = Faker()\n",
        "  new_columns = {\n",
        "      'name': F.lit(fake.name()),\n",
        "      'address': F.lit(fake.address()),\n",
        "      'email': F.lit(fake.email()),\n",
        "      'dob': F.lit(fake.date_of_birth()),\n",
        "      'phone': F.lit(fake.phone_number())\n",
        "  }\n",
        "  df = df.withColumns(new_columns)\n",
        "  df.write.mode(\"append\").format(\"parquet\").save(\"content/output/events\")\n",
        "\n",
        "# read stream\n",
        "df_stream = spark.readStream.format(\"rate\").option(\"rowsPerSecond\", 1).load()\n",
        "\n",
        "# write stream\n",
        "query = (df_stream.writeStream\n",
        ".outputMode('append')\n",
        ".trigger(processingTime='1 seconds')\n",
        ".foreachBatch(insert_into_table)\n",
        ".start()\n",
        ")"
      ],
      "metadata": {
        "id": "WCUhAzDOD4Q3"
      },
      "execution_count": 13,
      "outputs": []
    },
    {
      "cell_type": "code",
      "source": [
        "query.stop()\n"
      ],
      "metadata": {
        "id": "KEMAlpKhwLNu",
        "colab": {
          "base_uri": "https://localhost:8080/"
        },
        "outputId": "0b68c1b9-778c-4ffb-cd8b-2306f667c0e6"
      },
      "execution_count": 17,
      "outputs": [
        {
          "output_type": "stream",
          "name": "stderr",
          "text": [
            "ERROR:py4j.clientserver:There was an exception while executing the Python Proxy on the Python Side.\n",
            "Traceback (most recent call last):\n",
            "  File \"/usr/local/lib/python3.10/dist-packages/py4j/clientserver.py\", line 617, in _call_proxy\n",
            "    return_value = getattr(self.pool[obj_id], method)(*params)\n",
            "  File \"/usr/local/lib/python3.10/dist-packages/pyspark/sql/utils.py\", line 120, in call\n",
            "    raise e\n",
            "  File \"/usr/local/lib/python3.10/dist-packages/pyspark/sql/utils.py\", line 117, in call\n",
            "    self.func(DataFrame(jdf, wrapped_session_jdf), batch_id)\n",
            "  File \"<ipython-input-13-6dab22f90f5d>\", line 15, in insert_into_table\n",
            "    df.write.mode(\"append\").format(\"parquet\").save(\"content/output/events\")\n",
            "  File \"/usr/local/lib/python3.10/dist-packages/pyspark/sql/readwriter.py\", line 1463, in save\n",
            "    self._jwrite.save(path)\n",
            "  File \"/usr/local/lib/python3.10/dist-packages/py4j/java_gateway.py\", line 1322, in __call__\n",
            "    return_value = get_return_value(\n",
            "  File \"/usr/local/lib/python3.10/dist-packages/pyspark/errors/exceptions/captured.py\", line 179, in deco\n",
            "    return f(*a, **kw)\n",
            "  File \"/usr/local/lib/python3.10/dist-packages/py4j/protocol.py\", line 326, in get_return_value\n",
            "    raise Py4JJavaError(\n",
            "py4j.protocol.Py4JJavaError: An error occurred while calling o845.save.\n",
            ": java.lang.InterruptedException\n",
            "\tat java.base/java.util.concurrent.locks.AbstractQueuedSynchronizer.doAcquireSharedInterruptibly(AbstractQueuedSynchronizer.java:1040)\n",
            "\tat java.base/java.util.concurrent.locks.AbstractQueuedSynchronizer.acquireSharedInterruptibly(AbstractQueuedSynchronizer.java:1345)\n",
            "\tat scala.concurrent.impl.Promise$DefaultPromise.tryAwait(Promise.scala:242)\n",
            "\tat scala.concurrent.impl.Promise$DefaultPromise.ready(Promise.scala:258)\n",
            "\tat scala.concurrent.impl.Promise$DefaultPromise.ready(Promise.scala:187)\n",
            "\tat org.apache.spark.util.ThreadUtils$.awaitReady(ThreadUtils.scala:342)\n",
            "\tat org.apache.spark.scheduler.DAGScheduler.runJob(DAGScheduler.scala:980)\n",
            "\tat org.apache.spark.SparkContext.runJob(SparkContext.scala:2393)\n",
            "\tat org.apache.spark.sql.execution.datasources.FileFormatWriter$.$anonfun$executeWrite$4(FileFormatWriter.scala:307)\n",
            "\tat org.apache.spark.sql.execution.datasources.FileFormatWriter$.writeAndCommit(FileFormatWriter.scala:271)\n",
            "\tat org.apache.spark.sql.execution.datasources.FileFormatWriter$.executeWrite(FileFormatWriter.scala:304)\n",
            "\tat org.apache.spark.sql.execution.datasources.FileFormatWriter$.write(FileFormatWriter.scala:190)\n",
            "\tat org.apache.spark.sql.execution.datasources.InsertIntoHadoopFsRelationCommand.run(InsertIntoHadoopFsRelationCommand.scala:190)\n",
            "\tat org.apache.spark.sql.execution.command.DataWritingCommandExec.sideEffectResult$lzycompute(commands.scala:113)\n",
            "\tat org.apache.spark.sql.execution.command.DataWritingCommandExec.sideEffectResult(commands.scala:111)\n",
            "\tat org.apache.spark.sql.execution.command.DataWritingCommandExec.executeCollect(commands.scala:125)\n",
            "\tat org.apache.spark.sql.execution.QueryExecution$$anonfun$eagerlyExecuteCommands$1.$anonfun$applyOrElse$1(QueryExecution.scala:107)\n",
            "\tat org.apache.spark.sql.execution.SQLExecution$.$anonfun$withNewExecutionId$6(SQLExecution.scala:125)\n",
            "\tat org.apache.spark.sql.execution.SQLExecution$.withSQLConfPropagated(SQLExecution.scala:201)\n",
            "\tat org.apache.spark.sql.execution.SQLExecution$.$anonfun$withNewExecutionId$1(SQLExecution.scala:108)\n",
            "\tat org.apache.spark.sql.SparkSession.withActive(SparkSession.scala:900)\n",
            "\tat org.apache.spark.sql.execution.SQLExecution$.withNewExecutionId(SQLExecution.scala:66)\n",
            "\tat org.apache.spark.sql.execution.QueryExecution$$anonfun$eagerlyExecuteCommands$1.applyOrElse(QueryExecution.scala:107)\n",
            "\tat org.apache.spark.sql.execution.QueryExecution$$anonfun$eagerlyExecuteCommands$1.applyOrElse(QueryExecution.scala:98)\n",
            "\tat org.apache.spark.sql.catalyst.trees.TreeNode.$anonfun$transformDownWithPruning$1(TreeNode.scala:461)\n",
            "\tat org.apache.spark.sql.catalyst.trees.CurrentOrigin$.withOrigin(origin.scala:76)\n",
            "\tat org.apache.spark.sql.catalyst.trees.TreeNode.transformDownWithPruning(TreeNode.scala:461)\n",
            "\tat org.apache.spark.sql.catalyst.plans.logical.LogicalPlan.org$apache$spark$sql$catalyst$plans$logical$AnalysisHelper$$super$transformDownWithPruning(LogicalPlan.scala:32)\n",
            "\tat org.apache.spark.sql.catalyst.plans.logical.AnalysisHelper.transformDownWithPruning(AnalysisHelper.scala:267)\n",
            "\tat org.apache.spark.sql.catalyst.plans.logical.AnalysisHelper.transformDownWithPruning$(AnalysisHelper.scala:263)\n",
            "\tat org.apache.spark.sql.catalyst.plans.logical.LogicalPlan.transformDownWithPruning(LogicalPlan.scala:32)\n",
            "\tat org.apache.spark.sql.catalyst.plans.logical.LogicalPlan.transformDownWithPruning(LogicalPlan.scala:32)\n",
            "\tat org.apache.spark.sql.catalyst.trees.TreeNode.transformDown(TreeNode.scala:437)\n",
            "\tat org.apache.spark.sql.execution.QueryExecution.eagerlyExecuteCommands(QueryExecution.scala:98)\n",
            "\tat org.apache.spark.sql.execution.QueryExecution.commandExecuted$lzycompute(QueryExecution.scala:85)\n",
            "\tat org.apache.spark.sql.execution.QueryExecution.commandExecuted(QueryExecution.scala:83)\n",
            "\tat org.apache.spark.sql.execution.QueryExecution.assertCommandExecuted(QueryExecution.scala:142)\n",
            "\tat org.apache.spark.sql.DataFrameWriter.runCommand(DataFrameWriter.scala:869)\n",
            "\tat org.apache.spark.sql.DataFrameWriter.saveToV1Source(DataFrameWriter.scala:391)\n",
            "\tat org.apache.spark.sql.DataFrameWriter.saveInternal(DataFrameWriter.scala:364)\n",
            "\tat org.apache.spark.sql.DataFrameWriter.save(DataFrameWriter.scala:243)\n",
            "\tat jdk.internal.reflect.GeneratedMethodAccessor88.invoke(Unknown Source)\n",
            "\tat java.base/jdk.internal.reflect.DelegatingMethodAccessorImpl.invoke(DelegatingMethodAccessorImpl.java:43)\n",
            "\tat java.base/java.lang.reflect.Method.invoke(Method.java:566)\n",
            "\tat py4j.reflection.MethodInvoker.invoke(MethodInvoker.java:244)\n",
            "\tat py4j.reflection.ReflectionEngine.invoke(ReflectionEngine.java:374)\n",
            "\tat py4j.Gateway.invoke(Gateway.java:282)\n",
            "\tat py4j.commands.AbstractCommand.invokeMethod(AbstractCommand.java:132)\n",
            "\tat py4j.commands.CallCommand.execute(CallCommand.java:79)\n",
            "\tat py4j.ClientServerConnection.sendCommand(ClientServerConnection.java:244)\n",
            "\tat py4j.CallbackClient.sendCommand(CallbackClient.java:384)\n",
            "\tat py4j.CallbackClient.sendCommand(CallbackClient.java:356)\n",
            "\tat py4j.reflection.PythonProxyHandler.invoke(PythonProxyHandler.java:106)\n",
            "\tat com.sun.proxy.$Proxy36.call(Unknown Source)\n",
            "\tat org.apache.spark.sql.execution.streaming.sources.PythonForeachBatchHelper$.$anonfun$callForeachBatch$1(ForeachBatchSink.scala:53)\n",
            "\tat org.apache.spark.sql.execution.streaming.sources.PythonForeachBatchHelper$.$anonfun$callForeachBatch$1$adapted(ForeachBatchSink.scala:53)\n",
            "\tat org.apache.spark.sql.execution.streaming.sources.ForeachBatchSink.addBatch(ForeachBatchSink.scala:34)\n",
            "\tat org.apache.spark.sql.execution.streaming.MicroBatchExecution.$anonfun$runBatch$17(MicroBatchExecution.scala:732)\n",
            "\tat org.apache.spark.sql.execution.SQLExecution$.$anonfun$withNewExecutionId$6(SQLExecution.scala:125)\n",
            "\tat org.apache.spark.sql.execution.SQLExecution$.withSQLConfPropagated(SQLExecution.scala:201)\n",
            "\tat org.apache.spark.sql.execution.SQLExecution$.$anonfun$withNewExecutionId$1(SQLExecution.scala:108)\n",
            "\tat org.apache.spark.sql.SparkSession.withActive(SparkSession.scala:900)\n",
            "\tat org.apache.spark.sql.execution.SQLExecution$.withNewExecutionId(SQLExecution.scala:66)\n",
            "\tat org.apache.spark.sql.execution.streaming.MicroBatchExecution.$anonfun$runBatch$16(MicroBatchExecution.scala:729)\n",
            "\tat org.apache.spark.sql.execution.streaming.ProgressReporter.reportTimeTaken(ProgressReporter.scala:427)\n",
            "\tat org.apache.spark.sql.execution.streaming.ProgressReporter.reportTimeTaken$(ProgressReporter.scala:425)\n",
            "\tat org.apache.spark.sql.execution.streaming.StreamExecution.reportTimeTaken(StreamExecution.scala:67)\n",
            "\tat org.apache.spark.sql.execution.streaming.MicroBatchExecution.runBatch(MicroBatchExecution.scala:729)\n",
            "\tat org.apache.spark.sql.execution.streaming.MicroBatchExecution.$anonfun$runActivatedStream$2(MicroBatchExecution.scala:286)\n",
            "\tat scala.runtime.java8.JFunction0$mcV$sp.apply(JFunction0$mcV$sp.java:23)\n",
            "\tat org.apache.spark.sql.execution.streaming.ProgressReporter.reportTimeTaken(ProgressReporter.scala:427)\n",
            "\tat org.apache.spark.sql.execution.streaming.ProgressReporter.reportTimeTaken$(ProgressReporter.scala:425)\n",
            "\tat org.apache.spark.sql.execution.streaming.StreamExecution.reportTimeTaken(StreamExecution.scala:67)\n",
            "\tat org.apache.spark.sql.execution.streaming.MicroBatchExecution.$anonfun$runActivatedStream$1(MicroBatchExecution.scala:249)\n",
            "\tat org.apache.spark.sql.execution.streaming.ProcessingTimeExecutor.execute(TriggerExecutor.scala:67)\n",
            "\tat org.apache.spark.sql.execution.streaming.MicroBatchExecution.runActivatedStream(MicroBatchExecution.scala:239)\n",
            "\tat org.apache.spark.sql.execution.streaming.StreamExecution.$anonfun$runStream$1(StreamExecution.scala:311)\n",
            "\tat scala.runtime.java8.JFunction0$mcV$sp.apply(JFunction0$mcV$sp.java:23)\n",
            "\tat org.apache.spark.sql.SparkSession.withActive(SparkSession.scala:900)\n",
            "\tat org.apache.spark.sql.execution.streaming.StreamExecution.org$apache$spark$sql$execution$streaming$StreamExecution$$runStream(StreamExecution.scala:289)\n",
            "\tat org.apache.spark.sql.execution.streaming.StreamExecution$$anon$1.$anonfun$run$1(StreamExecution.scala:211)\n",
            "\tat scala.runtime.java8.JFunction0$mcV$sp.apply(JFunction0$mcV$sp.java:23)\n",
            "\tat org.apache.spark.JobArtifactSet$.withActiveJobArtifactState(JobArtifactSet.scala:94)\n",
            "\tat org.apache.spark.sql.execution.streaming.StreamExecution$$anon$1.run(StreamExecution.scala:211)\n",
            "\n"
          ]
        }
      ]
    },
    {
      "cell_type": "code",
      "source": [
        "spark.read.parquet(\"content/output/events\").show(100, False)"
      ],
      "metadata": {
        "id": "89s50dHjECqk",
        "outputId": "9fe13107-8587-4697-84bb-ca574aa3e5df",
        "colab": {
          "base_uri": "https://localhost:8080/"
        }
      },
      "execution_count": 16,
      "outputs": [
        {
          "output_type": "stream",
          "name": "stdout",
          "text": [
            "+-----------------------+-----+----------------+---------------------------------------------------------+-------------------------------+----------+---------------------+\n",
            "|timestamp              |value|name            |address                                                  |email                          |dob       |phone                |\n",
            "+-----------------------+-----+----------------+---------------------------------------------------------+-------------------------------+----------+---------------------+\n",
            "|2024-11-23 16:02:20.782|39   |Linda Anderson  |7407 Thomas Locks Apt. 617\\nNorth Yvonnechester, ME 90143|simpsonnicole@example.org      |1959-03-30|759-390-9614x29026   |\n",
            "|2024-11-23 16:02:21.782|40   |Linda Anderson  |7407 Thomas Locks Apt. 617\\nNorth Yvonnechester, ME 90143|simpsonnicole@example.org      |1959-03-30|759-390-9614x29026   |\n",
            "|2024-11-23 16:02:22.782|41   |Linda Anderson  |7407 Thomas Locks Apt. 617\\nNorth Yvonnechester, ME 90143|simpsonnicole@example.org      |1959-03-30|759-390-9614x29026   |\n",
            "|2024-11-23 16:02:23.782|42   |Linda Anderson  |7407 Thomas Locks Apt. 617\\nNorth Yvonnechester, ME 90143|simpsonnicole@example.org      |1959-03-30|759-390-9614x29026   |\n",
            "|2024-11-23 16:02:24.782|43   |Linda Anderson  |7407 Thomas Locks Apt. 617\\nNorth Yvonnechester, ME 90143|simpsonnicole@example.org      |1959-03-30|759-390-9614x29026   |\n",
            "|2024-11-23 16:02:25.782|44   |Linda Anderson  |7407 Thomas Locks Apt. 617\\nNorth Yvonnechester, ME 90143|simpsonnicole@example.org      |1959-03-30|759-390-9614x29026   |\n",
            "|2024-11-23 16:02:26.782|45   |Linda Anderson  |7407 Thomas Locks Apt. 617\\nNorth Yvonnechester, ME 90143|simpsonnicole@example.org      |1959-03-30|759-390-9614x29026   |\n",
            "|2024-11-23 16:02:27.782|46   |Linda Anderson  |7407 Thomas Locks Apt. 617\\nNorth Yvonnechester, ME 90143|simpsonnicole@example.org      |1959-03-30|759-390-9614x29026   |\n",
            "|2024-11-23 16:02:28.782|47   |Linda Anderson  |7407 Thomas Locks Apt. 617\\nNorth Yvonnechester, ME 90143|simpsonnicole@example.org      |1959-03-30|759-390-9614x29026   |\n",
            "|2024-11-23 16:02:29.782|48   |Linda Anderson  |7407 Thomas Locks Apt. 617\\nNorth Yvonnechester, ME 90143|simpsonnicole@example.org      |1959-03-30|759-390-9614x29026   |\n",
            "|2024-11-23 16:02:30.782|49   |Linda Anderson  |7407 Thomas Locks Apt. 617\\nNorth Yvonnechester, ME 90143|simpsonnicole@example.org      |1959-03-30|759-390-9614x29026   |\n",
            "|2024-11-23 16:02:31.782|50   |Linda Anderson  |7407 Thomas Locks Apt. 617\\nNorth Yvonnechester, ME 90143|simpsonnicole@example.org      |1959-03-30|759-390-9614x29026   |\n",
            "|2024-11-23 16:02:32.782|51   |Linda Anderson  |7407 Thomas Locks Apt. 617\\nNorth Yvonnechester, ME 90143|simpsonnicole@example.org      |1959-03-30|759-390-9614x29026   |\n",
            "|2024-11-23 16:03:18.782|97   |Henry Smith     |22037 Clark Cliff Apt. 405\\nNorth Vincent, GA 16148      |christophermckinney@example.org|1910-10-15|933-304-8449x81956   |\n",
            "|2024-11-23 16:03:19.782|98   |Henry Smith     |22037 Clark Cliff Apt. 405\\nNorth Vincent, GA 16148      |christophermckinney@example.org|1910-10-15|933-304-8449x81956   |\n",
            "|2024-11-23 16:03:20.782|99   |Henry Smith     |22037 Clark Cliff Apt. 405\\nNorth Vincent, GA 16148      |christophermckinney@example.org|1910-10-15|933-304-8449x81956   |\n",
            "|2024-11-23 16:03:21.782|100  |Henry Smith     |22037 Clark Cliff Apt. 405\\nNorth Vincent, GA 16148      |christophermckinney@example.org|1910-10-15|933-304-8449x81956   |\n",
            "|2024-11-23 16:03:22.782|101  |Henry Smith     |22037 Clark Cliff Apt. 405\\nNorth Vincent, GA 16148      |christophermckinney@example.org|1910-10-15|933-304-8449x81956   |\n",
            "|2024-11-23 16:03:23.782|102  |Henry Smith     |22037 Clark Cliff Apt. 405\\nNorth Vincent, GA 16148      |christophermckinney@example.org|1910-10-15|933-304-8449x81956   |\n",
            "|2024-11-23 16:03:24.782|103  |Henry Smith     |22037 Clark Cliff Apt. 405\\nNorth Vincent, GA 16148      |christophermckinney@example.org|1910-10-15|933-304-8449x81956   |\n",
            "|2024-11-23 16:03:25.782|104  |Henry Smith     |22037 Clark Cliff Apt. 405\\nNorth Vincent, GA 16148      |christophermckinney@example.org|1910-10-15|933-304-8449x81956   |\n",
            "|2024-11-23 16:03:26.782|105  |Henry Smith     |22037 Clark Cliff Apt. 405\\nNorth Vincent, GA 16148      |christophermckinney@example.org|1910-10-15|933-304-8449x81956   |\n",
            "|2024-11-23 16:03:27.782|106  |Henry Smith     |22037 Clark Cliff Apt. 405\\nNorth Vincent, GA 16148      |christophermckinney@example.org|1910-10-15|933-304-8449x81956   |\n",
            "|2024-11-23 16:03:28.782|107  |Henry Smith     |22037 Clark Cliff Apt. 405\\nNorth Vincent, GA 16148      |christophermckinney@example.org|1910-10-15|933-304-8449x81956   |\n",
            "|2024-11-23 16:03:29.782|108  |Henry Smith     |22037 Clark Cliff Apt. 405\\nNorth Vincent, GA 16148      |christophermckinney@example.org|1910-10-15|933-304-8449x81956   |\n",
            "|2024-11-23 16:03:30.782|109  |Henry Smith     |22037 Clark Cliff Apt. 405\\nNorth Vincent, GA 16148      |christophermckinney@example.org|1910-10-15|933-304-8449x81956   |\n",
            "|2024-11-23 16:01:45.782|4    |Andrea Hart     |25457 Michael Parks Suite 063\\nWest Susan, IA 24957      |cassidyrobinson@example.net    |2015-08-11|+1-812-435-7487x23321|\n",
            "|2024-11-23 16:01:46.782|5    |Andrea Hart     |25457 Michael Parks Suite 063\\nWest Susan, IA 24957      |cassidyrobinson@example.net    |2015-08-11|+1-812-435-7487x23321|\n",
            "|2024-11-23 16:01:47.782|6    |Andrea Hart     |25457 Michael Parks Suite 063\\nWest Susan, IA 24957      |cassidyrobinson@example.net    |2015-08-11|+1-812-435-7487x23321|\n",
            "|2024-11-23 16:01:48.782|7    |Andrea Hart     |25457 Michael Parks Suite 063\\nWest Susan, IA 24957      |cassidyrobinson@example.net    |2015-08-11|+1-812-435-7487x23321|\n",
            "|2024-11-23 16:01:49.782|8    |Andrea Hart     |25457 Michael Parks Suite 063\\nWest Susan, IA 24957      |cassidyrobinson@example.net    |2015-08-11|+1-812-435-7487x23321|\n",
            "|2024-11-23 16:01:50.782|9    |Andrea Hart     |25457 Michael Parks Suite 063\\nWest Susan, IA 24957      |cassidyrobinson@example.net    |2015-08-11|+1-812-435-7487x23321|\n",
            "|2024-11-23 16:01:51.782|10   |Andrea Hart     |25457 Michael Parks Suite 063\\nWest Susan, IA 24957      |cassidyrobinson@example.net    |2015-08-11|+1-812-435-7487x23321|\n",
            "|2024-11-23 16:01:52.782|11   |Andrea Hart     |25457 Michael Parks Suite 063\\nWest Susan, IA 24957      |cassidyrobinson@example.net    |2015-08-11|+1-812-435-7487x23321|\n",
            "|2024-11-23 16:01:53.782|12   |Andrea Hart     |25457 Michael Parks Suite 063\\nWest Susan, IA 24957      |cassidyrobinson@example.net    |2015-08-11|+1-812-435-7487x23321|\n",
            "|2024-11-23 16:01:54.782|13   |Andrea Hart     |25457 Michael Parks Suite 063\\nWest Susan, IA 24957      |cassidyrobinson@example.net    |2015-08-11|+1-812-435-7487x23321|\n",
            "|2024-11-23 16:01:55.782|14   |Andrea Hart     |25457 Michael Parks Suite 063\\nWest Susan, IA 24957      |cassidyrobinson@example.net    |2015-08-11|+1-812-435-7487x23321|\n",
            "|2024-11-23 16:01:56.782|15   |Andrea Hart     |25457 Michael Parks Suite 063\\nWest Susan, IA 24957      |cassidyrobinson@example.net    |2015-08-11|+1-812-435-7487x23321|\n",
            "|2024-11-23 16:02:33.782|52   |Rachel Haley    |9373 Peter Ways Suite 971\\nWest Jenniferville, IA 47559  |jennifer30@example.net         |2011-03-21|001-576-678-9697     |\n",
            "|2024-11-23 16:02:34.782|53   |Rachel Haley    |9373 Peter Ways Suite 971\\nWest Jenniferville, IA 47559  |jennifer30@example.net         |2011-03-21|001-576-678-9697     |\n",
            "|2024-11-23 16:02:35.782|54   |Rachel Haley    |9373 Peter Ways Suite 971\\nWest Jenniferville, IA 47559  |jennifer30@example.net         |2011-03-21|001-576-678-9697     |\n",
            "|2024-11-23 16:02:36.782|55   |Rachel Haley    |9373 Peter Ways Suite 971\\nWest Jenniferville, IA 47559  |jennifer30@example.net         |2011-03-21|001-576-678-9697     |\n",
            "|2024-11-23 16:02:37.782|56   |Rachel Haley    |9373 Peter Ways Suite 971\\nWest Jenniferville, IA 47559  |jennifer30@example.net         |2011-03-21|001-576-678-9697     |\n",
            "|2024-11-23 16:02:38.782|57   |Rachel Haley    |9373 Peter Ways Suite 971\\nWest Jenniferville, IA 47559  |jennifer30@example.net         |2011-03-21|001-576-678-9697     |\n",
            "|2024-11-23 16:02:39.782|58   |Rachel Haley    |9373 Peter Ways Suite 971\\nWest Jenniferville, IA 47559  |jennifer30@example.net         |2011-03-21|001-576-678-9697     |\n",
            "|2024-11-23 16:02:40.782|59   |Rachel Haley    |9373 Peter Ways Suite 971\\nWest Jenniferville, IA 47559  |jennifer30@example.net         |2011-03-21|001-576-678-9697     |\n",
            "|2024-11-23 16:02:41.782|60   |Rachel Haley    |9373 Peter Ways Suite 971\\nWest Jenniferville, IA 47559  |jennifer30@example.net         |2011-03-21|001-576-678-9697     |\n",
            "|2024-11-23 16:02:42.782|61   |Rachel Haley    |9373 Peter Ways Suite 971\\nWest Jenniferville, IA 47559  |jennifer30@example.net         |2011-03-21|001-576-678-9697     |\n",
            "|2024-11-23 16:02:43.782|62   |Rachel Haley    |9373 Peter Ways Suite 971\\nWest Jenniferville, IA 47559  |jennifer30@example.net         |2011-03-21|001-576-678-9697     |\n",
            "|2024-11-23 16:02:44.782|63   |Rachel Haley    |9373 Peter Ways Suite 971\\nWest Jenniferville, IA 47559  |jennifer30@example.net         |2011-03-21|001-576-678-9697     |\n",
            "|2024-11-23 16:02:45.782|64   |Rachel Haley    |9373 Peter Ways Suite 971\\nWest Jenniferville, IA 47559  |jennifer30@example.net         |2011-03-21|001-576-678-9697     |\n",
            "|2024-11-23 16:02:46.782|65   |Rachel Haley    |9373 Peter Ways Suite 971\\nWest Jenniferville, IA 47559  |jennifer30@example.net         |2011-03-21|001-576-678-9697     |\n",
            "|2024-11-23 16:02:07.782|26   |Anthony Anderson|46819 Justin Streets\\nNorth Shelleychester, IA 18361     |jessica05@example.net          |1990-03-21|(614)901-2960        |\n",
            "|2024-11-23 16:02:08.782|27   |Anthony Anderson|46819 Justin Streets\\nNorth Shelleychester, IA 18361     |jessica05@example.net          |1990-03-21|(614)901-2960        |\n",
            "|2024-11-23 16:02:09.782|28   |Anthony Anderson|46819 Justin Streets\\nNorth Shelleychester, IA 18361     |jessica05@example.net          |1990-03-21|(614)901-2960        |\n",
            "|2024-11-23 16:02:10.782|29   |Anthony Anderson|46819 Justin Streets\\nNorth Shelleychester, IA 18361     |jessica05@example.net          |1990-03-21|(614)901-2960        |\n",
            "|2024-11-23 16:02:11.782|30   |Anthony Anderson|46819 Justin Streets\\nNorth Shelleychester, IA 18361     |jessica05@example.net          |1990-03-21|(614)901-2960        |\n",
            "|2024-11-23 16:02:12.782|31   |Anthony Anderson|46819 Justin Streets\\nNorth Shelleychester, IA 18361     |jessica05@example.net          |1990-03-21|(614)901-2960        |\n",
            "|2024-11-23 16:02:13.782|32   |Anthony Anderson|46819 Justin Streets\\nNorth Shelleychester, IA 18361     |jessica05@example.net          |1990-03-21|(614)901-2960        |\n",
            "|2024-11-23 16:02:14.782|33   |Anthony Anderson|46819 Justin Streets\\nNorth Shelleychester, IA 18361     |jessica05@example.net          |1990-03-21|(614)901-2960        |\n",
            "|2024-11-23 16:02:15.782|34   |Anthony Anderson|46819 Justin Streets\\nNorth Shelleychester, IA 18361     |jessica05@example.net          |1990-03-21|(614)901-2960        |\n",
            "|2024-11-23 16:02:16.782|35   |Anthony Anderson|46819 Justin Streets\\nNorth Shelleychester, IA 18361     |jessica05@example.net          |1990-03-21|(614)901-2960        |\n",
            "|2024-11-23 16:02:17.782|36   |Anthony Anderson|46819 Justin Streets\\nNorth Shelleychester, IA 18361     |jessica05@example.net          |1990-03-21|(614)901-2960        |\n",
            "|2024-11-23 16:02:18.782|37   |Anthony Anderson|46819 Justin Streets\\nNorth Shelleychester, IA 18361     |jessica05@example.net          |1990-03-21|(614)901-2960        |\n",
            "|2024-11-23 16:02:19.782|38   |Anthony Anderson|46819 Justin Streets\\nNorth Shelleychester, IA 18361     |jessica05@example.net          |1990-03-21|(614)901-2960        |\n",
            "|2024-11-23 16:03:42.782|121  |Katrina Johns   |3903 Hill Trail Suite 679\\nOwensport, GU 03498           |fryenicholas@example.org       |1950-04-13|778.205.0642x08490   |\n",
            "|2024-11-23 16:03:43.782|122  |Katrina Johns   |3903 Hill Trail Suite 679\\nOwensport, GU 03498           |fryenicholas@example.org       |1950-04-13|778.205.0642x08490   |\n",
            "|2024-11-23 16:03:44.782|123  |Katrina Johns   |3903 Hill Trail Suite 679\\nOwensport, GU 03498           |fryenicholas@example.org       |1950-04-13|778.205.0642x08490   |\n",
            "|2024-11-23 16:03:45.782|124  |Katrina Johns   |3903 Hill Trail Suite 679\\nOwensport, GU 03498           |fryenicholas@example.org       |1950-04-13|778.205.0642x08490   |\n",
            "|2024-11-23 16:03:46.782|125  |Katrina Johns   |3903 Hill Trail Suite 679\\nOwensport, GU 03498           |fryenicholas@example.org       |1950-04-13|778.205.0642x08490   |\n",
            "|2024-11-23 16:03:47.782|126  |Katrina Johns   |3903 Hill Trail Suite 679\\nOwensport, GU 03498           |fryenicholas@example.org       |1950-04-13|778.205.0642x08490   |\n",
            "|2024-11-23 16:03:48.782|127  |Katrina Johns   |3903 Hill Trail Suite 679\\nOwensport, GU 03498           |fryenicholas@example.org       |1950-04-13|778.205.0642x08490   |\n",
            "|2024-11-23 16:03:49.782|128  |Katrina Johns   |3903 Hill Trail Suite 679\\nOwensport, GU 03498           |fryenicholas@example.org       |1950-04-13|778.205.0642x08490   |\n",
            "|2024-11-23 16:03:50.782|129  |Katrina Johns   |3903 Hill Trail Suite 679\\nOwensport, GU 03498           |fryenicholas@example.org       |1950-04-13|778.205.0642x08490   |\n",
            "|2024-11-23 16:03:51.782|130  |Katrina Johns   |3903 Hill Trail Suite 679\\nOwensport, GU 03498           |fryenicholas@example.org       |1950-04-13|778.205.0642x08490   |\n",
            "|2024-11-23 16:03:52.782|131  |Katrina Johns   |3903 Hill Trail Suite 679\\nOwensport, GU 03498           |fryenicholas@example.org       |1950-04-13|778.205.0642x08490   |\n",
            "|2024-11-23 16:03:53.782|132  |Katrina Johns   |3903 Hill Trail Suite 679\\nOwensport, GU 03498           |fryenicholas@example.org       |1950-04-13|778.205.0642x08490   |\n",
            "|2024-11-23 16:03:54.782|133  |Katrina Johns   |3903 Hill Trail Suite 679\\nOwensport, GU 03498           |fryenicholas@example.org       |1950-04-13|778.205.0642x08490   |\n",
            "|2024-11-23 16:01:57.782|16   |Noah Hodges     |64051 Williams Island Suite 295\\nShawberg, VI 18496      |gonzalezemma@example.com       |1995-09-19|385.276.3418x8799    |\n",
            "|2024-11-23 16:01:58.782|17   |Noah Hodges     |64051 Williams Island Suite 295\\nShawberg, VI 18496      |gonzalezemma@example.com       |1995-09-19|385.276.3418x8799    |\n",
            "|2024-11-23 16:01:59.782|18   |Noah Hodges     |64051 Williams Island Suite 295\\nShawberg, VI 18496      |gonzalezemma@example.com       |1995-09-19|385.276.3418x8799    |\n",
            "|2024-11-23 16:02:00.782|19   |Noah Hodges     |64051 Williams Island Suite 295\\nShawberg, VI 18496      |gonzalezemma@example.com       |1995-09-19|385.276.3418x8799    |\n",
            "|2024-11-23 16:02:01.782|20   |Noah Hodges     |64051 Williams Island Suite 295\\nShawberg, VI 18496      |gonzalezemma@example.com       |1995-09-19|385.276.3418x8799    |\n",
            "|2024-11-23 16:02:02.782|21   |Noah Hodges     |64051 Williams Island Suite 295\\nShawberg, VI 18496      |gonzalezemma@example.com       |1995-09-19|385.276.3418x8799    |\n",
            "|2024-11-23 16:02:03.782|22   |Noah Hodges     |64051 Williams Island Suite 295\\nShawberg, VI 18496      |gonzalezemma@example.com       |1995-09-19|385.276.3418x8799    |\n",
            "|2024-11-23 16:02:04.782|23   |Noah Hodges     |64051 Williams Island Suite 295\\nShawberg, VI 18496      |gonzalezemma@example.com       |1995-09-19|385.276.3418x8799    |\n",
            "|2024-11-23 16:02:05.782|24   |Noah Hodges     |64051 Williams Island Suite 295\\nShawberg, VI 18496      |gonzalezemma@example.com       |1995-09-19|385.276.3418x8799    |\n",
            "|2024-11-23 16:02:06.782|25   |Noah Hodges     |64051 Williams Island Suite 295\\nShawberg, VI 18496      |gonzalezemma@example.com       |1995-09-19|385.276.3418x8799    |\n",
            "|2024-11-23 16:02:57.782|76   |William Brown   |45280 Michelle Road\\nNew Sallyview, GU 36792             |lisabaird@example.net          |1977-05-13|372.592.2199x860     |\n",
            "|2024-11-23 16:02:58.782|77   |William Brown   |45280 Michelle Road\\nNew Sallyview, GU 36792             |lisabaird@example.net          |1977-05-13|372.592.2199x860     |\n",
            "|2024-11-23 16:02:59.782|78   |William Brown   |45280 Michelle Road\\nNew Sallyview, GU 36792             |lisabaird@example.net          |1977-05-13|372.592.2199x860     |\n",
            "|2024-11-23 16:03:00.782|79   |William Brown   |45280 Michelle Road\\nNew Sallyview, GU 36792             |lisabaird@example.net          |1977-05-13|372.592.2199x860     |\n",
            "|2024-11-23 16:03:01.782|80   |William Brown   |45280 Michelle Road\\nNew Sallyview, GU 36792             |lisabaird@example.net          |1977-05-13|372.592.2199x860     |\n",
            "|2024-11-23 16:03:02.782|81   |William Brown   |45280 Michelle Road\\nNew Sallyview, GU 36792             |lisabaird@example.net          |1977-05-13|372.592.2199x860     |\n",
            "|2024-11-23 16:03:03.782|82   |William Brown   |45280 Michelle Road\\nNew Sallyview, GU 36792             |lisabaird@example.net          |1977-05-13|372.592.2199x860     |\n",
            "|2024-11-23 16:03:04.782|83   |William Brown   |45280 Michelle Road\\nNew Sallyview, GU 36792             |lisabaird@example.net          |1977-05-13|372.592.2199x860     |\n",
            "|2024-11-23 16:03:05.782|84   |William Brown   |45280 Michelle Road\\nNew Sallyview, GU 36792             |lisabaird@example.net          |1977-05-13|372.592.2199x860     |\n",
            "|2024-11-23 16:03:06.782|85   |William Brown   |45280 Michelle Road\\nNew Sallyview, GU 36792             |lisabaird@example.net          |1977-05-13|372.592.2199x860     |\n",
            "|2024-11-23 16:03:07.782|86   |William Brown   |45280 Michelle Road\\nNew Sallyview, GU 36792             |lisabaird@example.net          |1977-05-13|372.592.2199x860     |\n",
            "|2024-11-23 16:03:55.782|134  |Keith Nelson    |49994 Katie Coves\\nSouth Aaron, KY 54201                 |sydneyorozco@example.net       |1934-07-19|506.717.4824x93001   |\n",
            "+-----------------------+-----+----------------+---------------------------------------------------------+-------------------------------+----------+---------------------+\n",
            "only showing top 100 rows\n",
            "\n"
          ]
        }
      ]
    },
    {
      "cell_type": "code",
      "source": [
        "query.stop()"
      ],
      "metadata": {
        "id": "m22vpxcxIUNa"
      },
      "execution_count": null,
      "outputs": []
    }
  ],
  "metadata": {
    "colab": {
      "provenance": [],
      "include_colab_link": true
    },
    "kernelspec": {
      "display_name": "Python 3",
      "name": "python3"
    },
    "language_info": {
      "name": "python"
    }
  },
  "nbformat": 4,
  "nbformat_minor": 0
}