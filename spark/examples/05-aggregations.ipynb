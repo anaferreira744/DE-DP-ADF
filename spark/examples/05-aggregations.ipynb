{
  "cells": [
    {
      "cell_type": "markdown",
      "metadata": {
        "id": "view-in-github",
        "colab_type": "text"
      },
      "source": [
        "<a href=\"https://colab.research.google.com/github/anaferreira744/DE-DP-ADF/blob/main/spark/examples/05-aggregations.ipynb\" target=\"_parent\"><img src=\"https://colab.research.google.com/assets/colab-badge.svg\" alt=\"Open In Colab\"/></a>"
      ]
    },
    {
      "cell_type": "markdown",
      "metadata": {
        "id": "-y331t1OSI1s"
      },
      "source": [
        "<a href=\"https://colab.research.google.com/github/lucprosa/dataeng-basic-course/blob/main/spark/examples/05-aggregations.ipynb\" target=\"_parent\"><img src=\"https://colab.research.google.com/assets/colab-badge.svg\" alt=\"Open In Colab\"/></a>"
      ]
    },
    {
      "cell_type": "markdown",
      "metadata": {
        "id": "BOA_wQSmLd9z"
      },
      "source": [
        "# Aggregations\n",
        "- Group By\n",
        "- Windows Functions"
      ]
    },
    {
      "cell_type": "markdown",
      "metadata": {
        "id": "d9LeYFsPTjAb"
      },
      "source": [
        "# Setting up PySpark"
      ]
    },
    {
      "cell_type": "code",
      "execution_count": null,
      "metadata": {
        "colab": {
          "base_uri": "https://localhost:8080/"
        },
        "id": "uYXeODL0T1fO",
        "outputId": "c410e46c-4a50-43aa-926f-d0417c6280d2"
      },
      "outputs": [
        {
          "name": "stdout",
          "output_type": "stream",
          "text": [
            "Requirement already satisfied: pyspark in /usr/local/lib/python3.10/dist-packages (3.5.3)\n",
            "Requirement already satisfied: py4j==0.10.9.7 in /usr/local/lib/python3.10/dist-packages (from pyspark) (0.10.9.7)\n"
          ]
        }
      ],
      "source": [
        "%pip install pyspark"
      ]
    },
    {
      "cell_type": "code",
      "execution_count": 1,
      "metadata": {
        "id": "637HFw00T3LP"
      },
      "outputs": [],
      "source": [
        "from pyspark.sql import SparkSession\n",
        "spark = SparkSession.builder.master('local').appName('Spark Course').config('spark.ui.port', '4050').getOrCreate()"
      ]
    },
    {
      "cell_type": "markdown",
      "metadata": {
        "id": "SLiYPwuJSI1w"
      },
      "source": [
        "# Aggregations\n",
        "\n",
        "https://spark.apache.org/docs/latest/sql-ref-functions-builtin.html#aggregate-functions\n",
        "\n",
        "https://spark.apache.org/docs/latest/sql-ref-syntax-qry-select-aggregate.html"
      ]
    },
    {
      "cell_type": "code",
      "execution_count": 3,
      "metadata": {
        "colab": {
          "base_uri": "https://localhost:8080/"
        },
        "id": "GPdtlX5BSI1w",
        "outputId": "a3ce0f0c-a317-446d-ceb8-8eae33639bc9"
      },
      "outputs": [
        {
          "output_type": "stream",
          "name": "stdout",
          "text": [
            "+-----------------+----------+------+\n",
            "|    employee_name|department|salary|\n",
            "+-----------------+----------+------+\n",
            "|     Diane Murphy|Accounting|  8435|\n",
            "|   Mary Patterson|Accounting|  9998|\n",
            "|    Jeff Firrelli|Accounting|  8992|\n",
            "|William Patterson|Accounting|  8870|\n",
            "|    Gerard Bondur|Accounting| 11472|\n",
            "|      Anthony Bow|Accounting|  6627|\n",
            "|  Leslie Jennings|        IT|  8113|\n",
            "|  Leslie Thompson|        IT|  5186|\n",
            "|   Julie Firrelli|     Sales|  9181|\n",
            "|  Steve Patterson|     Sales|  9441|\n",
            "|   Foon Yue Tseng|     Sales|  6660|\n",
            "|    George Vanauf|     Sales| 10563|\n",
            "|      Loui Bondur|       SCM| 10449|\n",
            "| Gerard Hernandez|       SCM|  6949|\n",
            "|  Pamela Castillo|       SCM| 11303|\n",
            "|       Larry Bott|       SCM| 11798|\n",
            "|      Barry Jones|       SCM| 10586|\n",
            "+-----------------+----------+------+\n",
            "\n"
          ]
        }
      ],
      "source": [
        "sql_query = \"\"\"CREATE OR REPLACE TEMPORARY VIEW basic_pays AS SELECT * FROM VALUES\n",
        "('Diane Murphy','Accounting',8435),\n",
        "('Mary Patterson','Accounting',9998),\n",
        "('Jeff Firrelli','Accounting',8992),\n",
        "('William Patterson','Accounting',8870),\n",
        "('Gerard Bondur','Accounting',11472),\n",
        "('Anthony Bow','Accounting',6627),\n",
        "('Leslie Jennings','IT',8113),\n",
        "('Leslie Thompson','IT',5186),\n",
        "('Julie Firrelli','Sales',9181),\n",
        "('Steve Patterson','Sales',9441),\n",
        "('Foon Yue Tseng','Sales',6660),\n",
        "('George Vanauf','Sales',10563),\n",
        "('Loui Bondur','SCM',10449),\n",
        "('Gerard Hernandez','SCM',6949),\n",
        "('Pamela Castillo','SCM',11303),\n",
        "('Larry Bott','SCM',11798),\n",
        "('Barry Jones','SCM',10586)\n",
        "AS basic_pays(employee_name, department, salary)\"\"\"\n",
        "\n",
        "# creating temp view\n",
        "spark.sql(sql_query)\n",
        "\n",
        "df = spark.table(\"basic_pays\")\n",
        "df.show()\n"
      ]
    },
    {
      "cell_type": "code",
      "source": [
        "perc_query = \"\"\"SELECT\n",
        "    department,\n",
        "    percentile_cont(0.25) WITHIN GROUP (ORDER BY salary) AS pc1,\n",
        "    percentile_cont(0.25) WITHIN GROUP (ORDER BY salary) FILTER (WHERE employee_name LIKE '%Bo%') AS pc2,\n",
        "    percentile_cont(0.25) WITHIN GROUP (ORDER BY salary DESC) AS pc3,\n",
        "    percentile_cont(0.25) WITHIN GROUP (ORDER BY salary DESC) FILTER (WHERE employee_name LIKE '%Bo%') AS pc4,\n",
        "    percentile_disc(0.25) WITHIN GROUP (ORDER BY salary) AS pd1,\n",
        "    percentile_disc(0.25) WITHIN GROUP (ORDER BY salary) FILTER (WHERE employee_name LIKE '%Bo%') AS pd2,\n",
        "    percentile_disc(0.25) WITHIN GROUP (ORDER BY salary DESC) AS pd3,\n",
        "    percentile_disc(0.25) WITHIN GROUP (ORDER BY salary DESC) FILTER (WHERE employee_name LIKE '%Bo%') AS pd4\n",
        "FROM basic_pays\n",
        "GROUP BY department\n",
        "ORDER BY department;\"\"\"\n",
        "\n",
        "spark.sql(perc_query).show()"
      ],
      "metadata": {
        "colab": {
          "base_uri": "https://localhost:8080/"
        },
        "id": "Aa38HFEQVSM9",
        "outputId": "96e0f54b-c4e4-4c8a-aa38-e9084e52df18"
      },
      "execution_count": 4,
      "outputs": [
        {
          "output_type": "stream",
          "name": "stdout",
          "text": [
            "+----------+-------+--------+-------+--------+-------+-------+-------+-------+\n",
            "|department|    pc1|     pc2|    pc3|     pc4|    pd1|    pd2|    pd3|    pd4|\n",
            "+----------+-------+--------+-------+--------+-------+-------+-------+-------+\n",
            "|Accounting|8543.75| 7838.25| 9746.5|10260.75| 8435.0| 6627.0| 9998.0|11472.0|\n",
            "|        IT|5917.75|    NULL|7381.25|    NULL| 5186.0|   NULL| 8113.0|   NULL|\n",
            "|       SCM|10449.0|10786.25|11303.0|11460.75|10449.0|10449.0|11303.0|11798.0|\n",
            "|     Sales|8550.75|    NULL| 9721.5|    NULL| 6660.0|   NULL|10563.0|   NULL|\n",
            "+----------+-------+--------+-------+--------+-------+-------+-------+-------+\n",
            "\n"
          ]
        }
      ]
    },
    {
      "cell_type": "code",
      "source": [
        "from pyspark.sql.functions import *\n",
        "(df\n",
        " .groupBy(\"department\")\n",
        " .agg(sum(\"salary\").alias(\"sum_salary\"),\n",
        "      round(avg(\"salary\"),2).alias(\"avg_salary\"),\n",
        "      min(\"salary\").alias(\"min_salary\"),\n",
        "      array_agg(\"employee_name\").alias(\"employees\"),\n",
        "      count(lit(\"\")).alias(\"count_employees\"))\n",
        " .filter(col(\"count_employees\") > 2)\n",
        " .show(10, False))"
      ],
      "metadata": {
        "colab": {
          "base_uri": "https://localhost:8080/"
        },
        "id": "ZbfHHI_wYJge",
        "outputId": "15346539-891f-43ff-95c8-297bfeb9cc84"
      },
      "execution_count": 5,
      "outputs": [
        {
          "output_type": "stream",
          "name": "stdout",
          "text": [
            "+----------+----------+----------+----------+--------------------------------------------------------------------------------------------+---------------+\n",
            "|department|sum_salary|avg_salary|min_salary|employees                                                                                   |count_employees|\n",
            "+----------+----------+----------+----------+--------------------------------------------------------------------------------------------+---------------+\n",
            "|Sales     |35845     |8961.25   |6660      |[Julie Firrelli, Steve Patterson, Foon Yue Tseng, George Vanauf]                            |4              |\n",
            "|Accounting|54394     |9065.67   |6627      |[Diane Murphy, Mary Patterson, Jeff Firrelli, William Patterson, Gerard Bondur, Anthony Bow]|6              |\n",
            "|SCM       |51085     |10217.0   |6949      |[Loui Bondur, Gerard Hernandez, Pamela Castillo, Larry Bott, Barry Jones]                   |5              |\n",
            "+----------+----------+----------+----------+--------------------------------------------------------------------------------------------+---------------+\n",
            "\n"
          ]
        }
      ]
    },
    {
      "cell_type": "markdown",
      "source": [
        "# Question"
      ],
      "metadata": {
        "id": "HQjSVZgFbiUs"
      }
    },
    {
      "cell_type": "code",
      "source": [
        "# Q1\n",
        "# Aggregate data by surname\n",
        "# Calculate highest salary by surname\n",
        "# Include the respective employee that has the highest salary\n",
        "# Include department information about this employee\n",
        "# Count how many employees has that surname\n",
        "# Put in an array all the first_names of the respective surname ordered\n",
        "\n",
        "\n",
        "# schema expected:\n",
        "# surname | count_employees | highest_salary | employee_with_highest_salary | department_with_highest_salary | array_with_all_the_first_names |"
      ],
      "metadata": {
        "id": "sAB_dzZabf_o"
      },
      "execution_count": null,
      "outputs": []
    },
    {
      "cell_type": "code",
      "source": [
        "from pyspark.sql.functions import expr\n",
        "\n",
        "# Adicionar as colunas first_name e surname ao DataFrame\n",
        "df_with_names = (\n",
        "    df\n",
        "    .withColumn(\"first_name\", expr(\"split(employee_name, ' ')[0]\"))\n",
        "    .withColumn(\"surname\", expr(\"split(employee_name, ' ')[size(split(employee_name, ' ')) - 1]\"))\n",
        ")\n",
        "\n",
        "# Mostrar o resultado\n",
        "df_with_names.show()"
      ],
      "metadata": {
        "id": "XJ8nPlW8fAc4",
        "outputId": "0d6f06d6-6557-4026-fa33-e9032c909e05",
        "colab": {
          "base_uri": "https://localhost:8080/"
        }
      },
      "execution_count": 25,
      "outputs": [
        {
          "output_type": "stream",
          "name": "stdout",
          "text": [
            "+-----------------+----------+------+----------+---------+\n",
            "|    employee_name|department|salary|first_name|  surname|\n",
            "+-----------------+----------+------+----------+---------+\n",
            "|     Diane Murphy|Accounting|  8435|     Diane|   Murphy|\n",
            "|   Mary Patterson|Accounting|  9998|      Mary|Patterson|\n",
            "|    Jeff Firrelli|Accounting|  8992|      Jeff| Firrelli|\n",
            "|William Patterson|Accounting|  8870|   William|Patterson|\n",
            "|    Gerard Bondur|Accounting| 11472|    Gerard|   Bondur|\n",
            "|      Anthony Bow|Accounting|  6627|   Anthony|      Bow|\n",
            "|  Leslie Jennings|        IT|  8113|    Leslie| Jennings|\n",
            "|  Leslie Thompson|        IT|  5186|    Leslie| Thompson|\n",
            "|   Julie Firrelli|     Sales|  9181|     Julie| Firrelli|\n",
            "|  Steve Patterson|     Sales|  9441|     Steve|Patterson|\n",
            "|   Foon Yue Tseng|     Sales|  6660|      Foon|    Tseng|\n",
            "|    George Vanauf|     Sales| 10563|    George|   Vanauf|\n",
            "|      Loui Bondur|       SCM| 10449|      Loui|   Bondur|\n",
            "| Gerard Hernandez|       SCM|  6949|    Gerard|Hernandez|\n",
            "|  Pamela Castillo|       SCM| 11303|    Pamela| Castillo|\n",
            "|       Larry Bott|       SCM| 11798|     Larry|     Bott|\n",
            "|      Barry Jones|       SCM| 10586|     Barry|    Jones|\n",
            "+-----------------+----------+------+----------+---------+\n",
            "\n"
          ]
        }
      ]
    },
    {
      "cell_type": "code",
      "source": [
        "from pyspark.sql.functions import expr\n",
        "\n",
        "# Adicionar as colunas first_name e surname ao DataFrame\n",
        "df_with_names = (\n",
        "    df\n",
        "    .withColumn(\"first_name\", expr(\"split(employee_name, ' ')[0]\"))\n",
        "    .withColumn(\"surname\", expr(\"split(employee_name, ' ')[size(split(employee_name, ' ')) - 1]\"))\n",
        ")\n",
        "# Mostrar o resultado\n",
        "df_with_names.show()\n",
        "\n",
        "df_with_names.groupBy(\"surname\").agg(count(lit(\"\")).alias(\"count_employees\"),\n",
        "      max(\"salary\").alias(\"highest_salary\"),\n",
        "      array_agg(\"employee_name\").alias(\"employee_with_highest_salary\"),\n",
        "      array_agg(\"department\").alias(\"department_with_highest_salary\"),\n",
        "      array_agg(\"first_name\").alias(\"array_with_all_the_first_names\")).show()\n",
        "\n"
      ],
      "metadata": {
        "id": "HxxLQS1ukM4s",
        "outputId": "8588f120-fcac-4521-9104-cf1a3626287e",
        "colab": {
          "base_uri": "https://localhost:8080/"
        }
      },
      "execution_count": 24,
      "outputs": [
        {
          "output_type": "stream",
          "name": "stdout",
          "text": [
            "+-----------------+----------+------+----------+---------+\n",
            "|    employee_name|department|salary|first_name|  surname|\n",
            "+-----------------+----------+------+----------+---------+\n",
            "|     Diane Murphy|Accounting|  8435|     Diane|   Murphy|\n",
            "|   Mary Patterson|Accounting|  9998|      Mary|Patterson|\n",
            "|    Jeff Firrelli|Accounting|  8992|      Jeff| Firrelli|\n",
            "|William Patterson|Accounting|  8870|   William|Patterson|\n",
            "|    Gerard Bondur|Accounting| 11472|    Gerard|   Bondur|\n",
            "|      Anthony Bow|Accounting|  6627|   Anthony|      Bow|\n",
            "|  Leslie Jennings|        IT|  8113|    Leslie| Jennings|\n",
            "|  Leslie Thompson|        IT|  5186|    Leslie| Thompson|\n",
            "|   Julie Firrelli|     Sales|  9181|     Julie| Firrelli|\n",
            "|  Steve Patterson|     Sales|  9441|     Steve|Patterson|\n",
            "|   Foon Yue Tseng|     Sales|  6660|      Foon|    Tseng|\n",
            "|    George Vanauf|     Sales| 10563|    George|   Vanauf|\n",
            "|      Loui Bondur|       SCM| 10449|      Loui|   Bondur|\n",
            "| Gerard Hernandez|       SCM|  6949|    Gerard|Hernandez|\n",
            "|  Pamela Castillo|       SCM| 11303|    Pamela| Castillo|\n",
            "|       Larry Bott|       SCM| 11798|     Larry|     Bott|\n",
            "|      Barry Jones|       SCM| 10586|     Barry|    Jones|\n",
            "+-----------------+----------+------+----------+---------+\n",
            "\n",
            "+---------+---------------+--------------+----------------------------+------------------------------+------------------------------+\n",
            "|  surname|count_employees|highest_salary|employee_with_highest_salary|department_with_highest_salary|array_with_all_the_first_names|\n",
            "+---------+---------------+--------------+----------------------------+------------------------------+------------------------------+\n",
            "|      Bow|              1|          6627|               [Anthony Bow]|                  [Accounting]|                     [Anthony]|\n",
            "|    Jones|              1|         10586|               [Barry Jones]|                         [SCM]|                       [Barry]|\n",
            "|    Tseng|              1|          6660|            [Foon Yue Tseng]|                       [Sales]|                        [Foon]|\n",
            "|   Bondur|              2|         11472|        [Gerard Bondur, L...|             [Accounting, SCM]|                [Gerard, Loui]|\n",
            "|   Murphy|              1|          8435|              [Diane Murphy]|                  [Accounting]|                       [Diane]|\n",
            "| Castillo|              1|         11303|           [Pamela Castillo]|                         [SCM]|                      [Pamela]|\n",
            "| Firrelli|              2|          9181|        [Jeff Firrelli, J...|           [Accounting, Sales]|                 [Jeff, Julie]|\n",
            "|   Vanauf|              1|         10563|             [George Vanauf]|                       [Sales]|                      [George]|\n",
            "|Patterson|              3|          9998|        [Mary Patterson, ...|          [Accounting, Acco...|          [Mary, William, S...|\n",
            "| Thompson|              1|          5186|           [Leslie Thompson]|                          [IT]|                      [Leslie]|\n",
            "| Jennings|              1|          8113|           [Leslie Jennings]|                          [IT]|                      [Leslie]|\n",
            "|     Bott|              1|         11798|                [Larry Bott]|                         [SCM]|                       [Larry]|\n",
            "|Hernandez|              1|          6949|          [Gerard Hernandez]|                         [SCM]|                      [Gerard]|\n",
            "+---------+---------------+--------------+----------------------------+------------------------------+------------------------------+\n",
            "\n"
          ]
        }
      ]
    },
    {
      "cell_type": "code",
      "source": [
        "# surname | count_employees | highest_salary | employee_with_highest_salary | department_with_highest_salary | array_with_all_the_first_names |\n"
      ],
      "metadata": {
        "id": "nIeTbreBmTPF"
      },
      "execution_count": null,
      "outputs": []
    },
    {
      "cell_type": "code",
      "source": [
        "from pyspark.sql.functions import *\n",
        "(df_with_names\n",
        " .groupBy(\"surname\")\n",
        " .agg(count(lit(\"\")).alias(\"count_employees\"),\n",
        "      max(\"salary\").alias(\"highest_salary\"),\n",
        "      array_agg(\"employee_name\").alias(\"employee_with_highest_salary\"),\n",
        "      array_agg(\"department\").alias(\"department_with_highest_salary\"),\n",
        "      array_agg(\"first_name\").alias(\"array_with_all_the_first_names\"))\n",
        " .show(10, False))"
      ],
      "metadata": {
        "id": "MSFWCRhlh7Zn",
        "outputId": "4c48a8e3-76bd-4ecf-8862-417f642a0ffb",
        "colab": {
          "base_uri": "https://localhost:8080/"
        }
      },
      "execution_count": 18,
      "outputs": [
        {
          "output_type": "stream",
          "name": "stdout",
          "text": [
            "+---------+---------------+--------------+----------------------------------------------------+-------------------------------+------------------------------+\n",
            "|surname  |count_employees|highest_salary|employee_with_highest_salary                        |department_with_highest_salary |array_with_all_the_first_names|\n",
            "+---------+---------------+--------------+----------------------------------------------------+-------------------------------+------------------------------+\n",
            "|Bow      |1              |6627          |[Anthony Bow]                                       |[Accounting]                   |[Anthony]                     |\n",
            "|Jones    |1              |10586         |[Barry Jones]                                       |[SCM]                          |[Barry]                       |\n",
            "|Tseng    |1              |6660          |[Foon Yue Tseng]                                    |[Sales]                        |[Foon]                        |\n",
            "|Bondur   |2              |11472         |[Gerard Bondur, Loui Bondur]                        |[Accounting, SCM]              |[Gerard, Loui]                |\n",
            "|Murphy   |1              |8435          |[Diane Murphy]                                      |[Accounting]                   |[Diane]                       |\n",
            "|Castillo |1              |11303         |[Pamela Castillo]                                   |[SCM]                          |[Pamela]                      |\n",
            "|Firrelli |2              |9181          |[Jeff Firrelli, Julie Firrelli]                     |[Accounting, Sales]            |[Jeff, Julie]                 |\n",
            "|Vanauf   |1              |10563         |[George Vanauf]                                     |[Sales]                        |[George]                      |\n",
            "|Patterson|3              |9998          |[Mary Patterson, William Patterson, Steve Patterson]|[Accounting, Accounting, Sales]|[Mary, William, Steve]        |\n",
            "|Thompson |1              |5186          |[Leslie Thompson]                                   |[IT]                           |[Leslie]                      |\n",
            "+---------+---------------+--------------+----------------------------------------------------+-------------------------------+------------------------------+\n",
            "only showing top 10 rows\n",
            "\n"
          ]
        }
      ]
    }
  ],
  "metadata": {
    "colab": {
      "provenance": [],
      "include_colab_link": true
    },
    "kernelspec": {
      "display_name": "Python 3",
      "name": "python3"
    },
    "language_info": {
      "name": "python"
    }
  },
  "nbformat": 4,
  "nbformat_minor": 0
}