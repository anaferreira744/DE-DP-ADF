{
  "cells": [
    {
      "cell_type": "markdown",
      "metadata": {
        "id": "view-in-github",
        "colab_type": "text"
      },
      "source": [
        "<a href=\"https://colab.research.google.com/github/anaferreira744/DE-DP-ADF/blob/main/spark/examples/06-write_partitioning.ipynb\" target=\"_parent\"><img src=\"https://colab.research.google.com/assets/colab-badge.svg\" alt=\"Open In Colab\"/></a>"
      ]
    },
    {
      "cell_type": "markdown",
      "metadata": {
        "id": "BOA_wQSmLd9z"
      },
      "source": [
        "# Write\n",
        "- .write\n",
        "- .format (parquet, csv, json)\n",
        "- options\n",
        "- spark.sql.sources.partitionOverwriteMode dynamic\n",
        "\n",
        "# Write Mode\n",
        "- overwrite - The overwrite mode is used to overwrite the existing file, alternatively, you can use SaveMode.Overwrite\n",
        "- append - To add the data to the existing file, alternatively, you can use SaveMode.Append\n",
        "- ignore - Ignores write operation when the file already exists, alternatively, you can use SaveMode.Ignore.\n",
        "- errorifexists or error - This is a default option when the file already exists, it returns an error, alternatively, you can use SaveMode.ErrorIfExists.\n",
        "\n",
        "# Partitioning\n",
        "Process to organize the data into multiple chunks based on some criteria.\n",
        "Partitions are organized in sub-folders.\n",
        "Partitioning improves performance in Spark."
      ]
    },
    {
      "cell_type": "markdown",
      "metadata": {
        "id": "d9LeYFsPTjAb"
      },
      "source": [
        "# Setting up PySpark"
      ]
    },
    {
      "cell_type": "code",
      "execution_count": null,
      "metadata": {
        "colab": {
          "base_uri": "https://localhost:8080/"
        },
        "id": "uYXeODL0T1fO",
        "outputId": "c410e46c-4a50-43aa-926f-d0417c6280d2"
      },
      "outputs": [
        {
          "name": "stdout",
          "output_type": "stream",
          "text": [
            "Requirement already satisfied: pyspark in /usr/local/lib/python3.10/dist-packages (3.5.3)\n",
            "Requirement already satisfied: py4j==0.10.9.7 in /usr/local/lib/python3.10/dist-packages (from pyspark) (0.10.9.7)\n"
          ]
        }
      ],
      "source": [
        "%pip install pyspark"
      ]
    },
    {
      "cell_type": "code",
      "execution_count": 1,
      "metadata": {
        "id": "637HFw00T3LP"
      },
      "outputs": [],
      "source": [
        "from pyspark.sql import SparkSession\n",
        "spark = SparkSession.builder.master('local').appName('Spark Course').getOrCreate()"
      ]
    },
    {
      "cell_type": "markdown",
      "metadata": {
        "id": "Vj3Cg2riVX3m"
      },
      "source": [
        "# Preparing data"
      ]
    },
    {
      "cell_type": "code",
      "source": [
        "!pip install faker"
      ],
      "metadata": {
        "colab": {
          "base_uri": "https://localhost:8080/"
        },
        "id": "83BBHcNJDmw4",
        "outputId": "cabfee31-80b0-495b-8d63-d489e7500520"
      },
      "execution_count": 2,
      "outputs": [
        {
          "output_type": "stream",
          "name": "stdout",
          "text": [
            "Collecting faker\n",
            "  Downloading Faker-33.0.0-py3-none-any.whl.metadata (15 kB)\n",
            "Requirement already satisfied: python-dateutil>=2.4 in /usr/local/lib/python3.10/dist-packages (from faker) (2.8.2)\n",
            "Requirement already satisfied: typing-extensions in /usr/local/lib/python3.10/dist-packages (from faker) (4.12.2)\n",
            "Requirement already satisfied: six>=1.5 in /usr/local/lib/python3.10/dist-packages (from python-dateutil>=2.4->faker) (1.16.0)\n",
            "Downloading Faker-33.0.0-py3-none-any.whl (1.9 MB)\n",
            "\u001b[?25l   \u001b[90m━━━━━━━━━━━━━━━━━━━━━━━━━━━━━━━━━━━━━━━━\u001b[0m \u001b[32m0.0/1.9 MB\u001b[0m \u001b[31m?\u001b[0m eta \u001b[36m-:--:--\u001b[0m\r\u001b[2K   \u001b[91m━━━━━━━━━━━━━━━━━━━━━━━━━━━━\u001b[0m\u001b[90m╺\u001b[0m\u001b[90m━━━━━━━━━━━\u001b[0m \u001b[32m1.3/1.9 MB\u001b[0m \u001b[31m39.8 MB/s\u001b[0m eta \u001b[36m0:00:01\u001b[0m\r\u001b[2K   \u001b[90m━━━━━━━━━━━━━━━━━━━━━━━━━━━━━━━━━━━━━━━━\u001b[0m \u001b[32m1.9/1.9 MB\u001b[0m \u001b[31m32.8 MB/s\u001b[0m eta \u001b[36m0:00:00\u001b[0m\n",
            "\u001b[?25hInstalling collected packages: faker\n",
            "Successfully installed faker-33.0.0\n"
          ]
        }
      ]
    },
    {
      "cell_type": "code",
      "execution_count": 3,
      "metadata": {
        "id": "z-caHS2MVX3m",
        "colab": {
          "base_uri": "https://localhost:8080/"
        },
        "outputId": "6e7fb8d7-4c8a-47ca-f143-a7b4247d010f"
      },
      "outputs": [
        {
          "output_type": "stream",
          "name": "stdout",
          "text": [
            "+-------------------------------------------------------+--------------------------+----------+---------------------------+----------------+---------------------+\n",
            "|address                                                |date                      |dob       |email                      |name            |phone                |\n",
            "+-------------------------------------------------------+--------------------------+----------+---------------------------+----------------+---------------------+\n",
            "|4332 Miguel Junctions\\nBrookstown, PA 36236            |2024-05-01 06:32:51.604388|1936-03-12|jennifercuevas@example.com |Charles Shepherd|598.984.9288x02240   |\n",
            "|83050 Cervantes Station Apt. 929\\nWest Stacey, CO 38055|2024-05-01 10:51:13.635554|1928-12-22|gmartinez@example.org      |Robin Richardson|(460)896-9529x1331   |\n",
            "|779 Taylor Skyway\\nLake Jason, NE 60009                |2024-05-01 17:37:11.144365|1995-08-07|brian12@example.net        |Heather Johnson |637.527.5684x809     |\n",
            "|4774 Benjamin Fields\\nWest Robert, SC 03869            |2024-05-04 12:18:35.071272|2008-06-17|tamarablanchard@example.net|Mark Tapia      |670-487-6933x9445    |\n",
            "|974 Henderson Path Suite 670\\nKimberlyfort, NE 25348   |2024-05-04 14:23:25.378052|1936-07-16|wwolfe@example.org         |Shaun Sherman   |001-968-470-2525x6674|\n",
            "|1999 Miller Extensions\\nStephaniestad, DC 63563        |2024-05-04 04:09:30.546575|1990-07-29|zmorse@example.org         |Jennifer Nguyen |473.658.8781         |\n",
            "|87668 Laura Fields\\nJenkinsborough, MD 47983           |2024-05-02 06:49:17.492627|1922-01-17|spencervirginia@example.net|Shawn Green PhD |269-736-9834x2214    |\n",
            "|Unit 8061 Box 8375\\nDPO AE 01193                       |2024-05-01 07:32:25.853798|1921-07-07|jennifer96@example.com     |Terri Blanchard |873.973.6621x10308   |\n",
            "|93232 William Points Apt. 796\\nConnorfurt, VA 82409    |2024-05-01 16:18:37.107618|2000-05-06|nnguyen@example.com        |Justin Olsen    |7804535152           |\n",
            "|01963 Kimberly Walk Suite 384\\nNew Ambermouth, AR 99350|2024-05-04 21:12:59.097427|2018-01-21|sanchezbrian@example.net   |Brian Werner    |483-334-8549         |\n",
            "+-------------------------------------------------------+--------------------------+----------+---------------------------+----------------+---------------------+\n",
            "only showing top 10 rows\n",
            "\n"
          ]
        }
      ],
      "source": [
        "from faker import Faker\n",
        "from datetime import datetime\n",
        "\n",
        "fake = Faker()\n",
        "\n",
        "users = []\n",
        "for _ in range(50):\n",
        "    user = {\n",
        "        'date': fake.date_time_between_dates(datetime(2024, 5, 1), datetime(2024, 5, 5)),\n",
        "        'name': fake.name(),\n",
        "        'address': fake.address(),\n",
        "        'email': fake.email(),\n",
        "        'dob': fake.date_of_birth(),\n",
        "        'phone': fake.phone_number()\n",
        "    }\n",
        "    users.append(user)\n",
        "\n",
        "df = spark.createDataFrame(users)\n",
        "\n",
        "df.show(10, False)\n"
      ]
    },
    {
      "cell_type": "markdown",
      "metadata": {
        "id": "YGXjf6xpBj36"
      },
      "source": [
        "# Writing as PARQUET\n",
        "\n"
      ]
    },
    {
      "cell_type": "markdown",
      "metadata": {
        "id": "14stpbb4Bj37"
      },
      "source": []
    },
    {
      "cell_type": "code",
      "execution_count": 4,
      "metadata": {
        "colab": {
          "base_uri": "https://localhost:8080/"
        },
        "id": "dw5IIgebBj37",
        "outputId": "8645ce16-a4a1-47f3-f5f9-68d9a43732b7"
      },
      "outputs": [
        {
          "output_type": "stream",
          "name": "stdout",
          "text": [
            "part-00000-6606d89c-7c4c-4ead-98d0-44a92881bce0-c000.snappy.parquet  _SUCCESS\n"
          ]
        },
        {
          "output_type": "execute_result",
          "data": {
            "text/plain": [
              "50"
            ]
          },
          "metadata": {},
          "execution_count": 4
        }
      ],
      "source": [
        "# Writing as PARQUET with no partitions\n",
        "\n",
        "path = \"/content/write_partitioning/parquet_no_partitions\"\n",
        "\n",
        "df.write.mode(\"overwrite\").format(\"parquet\").save(path)\n",
        "\n",
        "!ls /content/write_partitioning/parquet_no_partitions\n",
        "\n",
        "spark.read.format(\"parquet\").load(path).count()"
      ]
    },
    {
      "cell_type": "code",
      "source": [
        "# Writing as PARQUET with partitions\n",
        "from pyspark.sql.functions import *\n",
        "\n",
        "path = \"/content/write_partitioning/parquet_with_partitions\"\n",
        "\n",
        "# Creating partition column\n",
        "df = df.withColumn(\"date_part\", date_format(col(\"date\"), \"yyyyMMdd\"))\n",
        "\n",
        "spark.conf.set(\"spark.sql.sources.partitionOverwriteMode\",\"dynamic\") # enable dynamic partition overwrite - only overwrites partitions that are coming in the dataframe\n",
        "\n",
        "(df#.where(\"date_part = '20240503'\") #com dynamic e este filtro apenas é feito overwrite desta partição e não de todo\n",
        "#o df. se tiver static faz overwrite de toda a df, por isso é necessário ter cuidado.\n",
        " .write\n",
        " .mode(\"overwrite\")                                               # overwrites the entire path with the new data\n",
        " .partitionBy(\"date_part\")                                        # partition the data by column - creates sub-folders for each partition\n",
        " .format(\"parquet\")                                               # format of output\n",
        " .save(path))                                                     # path\n",
        "\n",
        "!ls /content/write_partitioning/parquet_with_partitions\n",
        "\n",
        "spark.read.format(\"parquet\").load(path).count()"
      ],
      "metadata": {
        "colab": {
          "base_uri": "https://localhost:8080/"
        },
        "id": "DWX9WZbPHrL1",
        "outputId": "eab025b7-be7a-43b1-e8aa-29d3404dc234"
      },
      "execution_count": 5,
      "outputs": [
        {
          "output_type": "stream",
          "name": "stdout",
          "text": [
            "'date_part=20240501'  'date_part=20240502'  'date_part=20240503'  'date_part=20240504'\n"
          ]
        },
        {
          "output_type": "execute_result",
          "data": {
            "text/plain": [
              "50"
            ]
          },
          "metadata": {},
          "execution_count": 5
        }
      ]
    },
    {
      "cell_type": "code",
      "source": [
        "# Checking single partition\n",
        "spark.read.parquet(\"/content/write_partitioning/parquet_with_partitions/date_part=20240502\").show()"
      ],
      "metadata": {
        "colab": {
          "base_uri": "https://localhost:8080/"
        },
        "id": "0B62qu87JsAB",
        "outputId": "8e8bd952-6ac4-4e37-cfc2-f9f70d010825"
      },
      "execution_count": 7,
      "outputs": [
        {
          "output_type": "stream",
          "name": "stdout",
          "text": [
            "+--------------------+--------------------+----------+--------------------+-----------------+--------------------+\n",
            "|             address|                date|       dob|               email|             name|               phone|\n",
            "+--------------------+--------------------+----------+--------------------+-----------------+--------------------+\n",
            "|87668 Laura Field...|2024-05-02 06:49:...|1922-01-17|spencervirginia@e...|  Shawn Green PhD|   269-736-9834x2214|\n",
            "|8681 Scott Vista ...|2024-05-02 21:27:...|1968-11-14|sandersmisty@exam...|     Dennis Smith|+1-716-407-0698x8...|\n",
            "|5378 Mary Flat Ap...|2024-05-02 08:16:...|1922-11-11|fgarrison@example...|   Richard Hunter|   449-770-9227x3608|\n",
            "|294 David Pike\\nY...|2024-05-02 02:01:...|1975-07-18| kgraves@example.com|      Joseph Rios| +1-961-857-2971x066|\n",
            "|Unit 8379 Box 811...|2024-05-02 09:15:...|1916-08-15| cthomas@example.net|    Paul Calderon|001-437-619-9595x...|\n",
            "|6640 Alvarado Cro...|2024-05-02 16:47:...|2010-06-16|mrichards@example...|   Savannah Gomez|          7178194396|\n",
            "|PSC 6226, Box 920...|2024-05-02 23:29:...|1950-12-20|brittanymyers@exa...| Nathan Cervantes|001-262-531-1992x...|\n",
            "|677 Deleon Ridge ...|2024-05-02 14:14:...|1963-06-17|cruzcatherine@exa...|     Ronald Yoder|    001-295-613-3141|\n",
            "|19724 Katelyn Inl...|2024-05-02 21:07:...|2014-03-05|   lcruz@example.com|Carlos Ramsey Jr.|       (906)444-7042|\n",
            "|7512 Stephen Driv...|2024-05-02 02:11:...|2010-12-18|michael79@example...|   Jillian Newman|001-799-451-5827x...|\n",
            "|192 Joseph Forges...|2024-05-02 05:16:...|1930-08-17|knappedward@examp...|   William Torres|  987.931.0991x08680|\n",
            "|4228 Lisa Island ...|2024-05-02 15:52:...|1954-09-16|  juan86@example.net|Jessica Davis DVM|          7613530619|\n",
            "|70150 Dennis Esta...|2024-05-02 13:16:...|2017-09-08|gregorymiller@exa...|      Scott Allen|  (509)919-7469x8132|\n",
            "|29425 Bryan Knoll...|2024-05-02 08:18:...|1937-04-13| lmartin@example.net|     Melissa Mack|+1-475-426-5334x6...|\n",
            "+--------------------+--------------------+----------+--------------------+-----------------+--------------------+\n",
            "\n"
          ]
        }
      ]
    },
    {
      "cell_type": "markdown",
      "source": [
        "# Writing as CSV\n",
        "\n",
        "https://spark.apache.org/docs/3.5.1/sql-data-sources-csv.html"
      ],
      "metadata": {
        "id": "n8mTC5yeNV6o"
      }
    },
    {
      "cell_type": "code",
      "source": [
        "df.count()"
      ],
      "metadata": {
        "colab": {
          "base_uri": "https://localhost:8080/"
        },
        "id": "BnAWUTeZO43Z",
        "outputId": "eaf694f6-f83e-4364-b3bd-7ff14196ae11"
      },
      "execution_count": 8,
      "outputs": [
        {
          "output_type": "execute_result",
          "data": {
            "text/plain": [
              "50"
            ]
          },
          "metadata": {},
          "execution_count": 8
        }
      ]
    },
    {
      "cell_type": "code",
      "source": [
        "path = \"/content/write_partitioning/csv_no_partitioning/\"\n",
        "\n",
        "# write as csv\n",
        "(df\n",
        "  .write\n",
        "  .format(\"csv\")\n",
        "  .mode(\"overwrite\")\n",
        "  .option(\"delimiter\", \"|\")\n",
        "  .option(\"header\", True)\n",
        "  .save(path))\n",
        "\n",
        "# listing files in the folder\n",
        "!ls /content/write_partitioning/csv_no_partitioning/\n",
        "\n",
        "# read as csv\n",
        "(spark\n",
        "  .read\n",
        "  .options(sep=\"|\", multiLine=True, header=True)\n",
        "  .csv(path)\n",
        "  .count())"
      ],
      "metadata": {
        "colab": {
          "base_uri": "https://localhost:8080/"
        },
        "id": "oE6zC-HnNYAz",
        "outputId": "224c004f-f155-4c33-c8bf-5cb63ab55456"
      },
      "execution_count": 9,
      "outputs": [
        {
          "output_type": "stream",
          "name": "stdout",
          "text": [
            "part-00000-600158a7-778a-448c-b5f6-2ad463075840-c000.csv  _SUCCESS\n"
          ]
        },
        {
          "output_type": "execute_result",
          "data": {
            "text/plain": [
              "50"
            ]
          },
          "metadata": {},
          "execution_count": 9
        }
      ]
    },
    {
      "cell_type": "markdown",
      "source": [
        "# Writing as JSON\n",
        "\n",
        "https://spark.apache.org/docs/3.5.1/sql-data-sources-json.html"
      ],
      "metadata": {
        "id": "ZAuM5-WcTtyZ"
      }
    },
    {
      "cell_type": "code",
      "source": [
        "path = \"/content/write_partitioning/json_no_partitioning/\"\n",
        "\n",
        "# write as json\n",
        "(df\n",
        ".write\n",
        ".mode(\"overwrite\")\n",
        ".format(\"json\")\n",
        ".save(path))\n",
        "\n",
        "# listing files in the folder\n",
        "!ls /content/write_partitioning/json_no_partitioning/\n",
        "\n",
        "# read as json\n",
        "(spark\n",
        "  .read\n",
        "  .json(path)\n",
        "  .count())"
      ],
      "metadata": {
        "colab": {
          "base_uri": "https://localhost:8080/"
        },
        "id": "vnNgwbtxTsW_",
        "outputId": "5c449dc0-e21a-4b5f-f6d2-3d9ddc78cca0"
      },
      "execution_count": 11,
      "outputs": [
        {
          "output_type": "stream",
          "name": "stdout",
          "text": [
            "part-00000-e2f6b026-42a5-41dd-abb3-b0743acc83e2-c000.json  _SUCCESS\n"
          ]
        },
        {
          "output_type": "execute_result",
          "data": {
            "text/plain": [
              "50"
            ]
          },
          "metadata": {},
          "execution_count": 11
        }
      ]
    },
    {
      "cell_type": "code",
      "source": [
        "# reading json as text\n",
        "spark.read.text(path).show(10, False)"
      ],
      "metadata": {
        "colab": {
          "base_uri": "https://localhost:8080/"
        },
        "id": "D3hYNCubT0ry",
        "outputId": "3f534c03-dc56-4a70-b88a-33a11799e4ad"
      },
      "execution_count": 12,
      "outputs": [
        {
          "output_type": "stream",
          "name": "stdout",
          "text": [
            "+----------------------------------------------------------------------------------------------------------------------------------------------------------------------------------------------------------------------------------------+\n",
            "|value                                                                                                                                                                                                                                   |\n",
            "+----------------------------------------------------------------------------------------------------------------------------------------------------------------------------------------------------------------------------------------+\n",
            "|{\"address\":\"4332 Miguel Junctions\\nBrookstown, PA 36236\",\"date\":\"2024-05-01T06:32:51.604Z\",\"dob\":\"1936-03-12\",\"email\":\"jennifercuevas@example.com\",\"name\":\"Charles Shepherd\",\"phone\":\"598.984.9288x02240\",\"date_part\":\"20240501\"}       |\n",
            "|{\"address\":\"83050 Cervantes Station Apt. 929\\nWest Stacey, CO 38055\",\"date\":\"2024-05-01T10:51:13.635Z\",\"dob\":\"1928-12-22\",\"email\":\"gmartinez@example.org\",\"name\":\"Robin Richardson\",\"phone\":\"(460)896-9529x1331\",\"date_part\":\"20240501\"}|\n",
            "|{\"address\":\"779 Taylor Skyway\\nLake Jason, NE 60009\",\"date\":\"2024-05-01T17:37:11.144Z\",\"dob\":\"1995-08-07\",\"email\":\"brian12@example.net\",\"name\":\"Heather Johnson\",\"phone\":\"637.527.5684x809\",\"date_part\":\"20240501\"}                     |\n",
            "|{\"address\":\"4774 Benjamin Fields\\nWest Robert, SC 03869\",\"date\":\"2024-05-04T12:18:35.071Z\",\"dob\":\"2008-06-17\",\"email\":\"tamarablanchard@example.net\",\"name\":\"Mark Tapia\",\"phone\":\"670-487-6933x9445\",\"date_part\":\"20240504\"}             |\n",
            "|{\"address\":\"974 Henderson Path Suite 670\\nKimberlyfort, NE 25348\",\"date\":\"2024-05-04T14:23:25.378Z\",\"dob\":\"1936-07-16\",\"email\":\"wwolfe@example.org\",\"name\":\"Shaun Sherman\",\"phone\":\"001-968-470-2525x6674\",\"date_part\":\"20240504\"}      |\n",
            "|{\"address\":\"1999 Miller Extensions\\nStephaniestad, DC 63563\",\"date\":\"2024-05-04T04:09:30.546Z\",\"dob\":\"1990-07-29\",\"email\":\"zmorse@example.org\",\"name\":\"Jennifer Nguyen\",\"phone\":\"473.658.8781\",\"date_part\":\"20240504\"}                  |\n",
            "|{\"address\":\"87668 Laura Fields\\nJenkinsborough, MD 47983\",\"date\":\"2024-05-02T06:49:17.492Z\",\"dob\":\"1922-01-17\",\"email\":\"spencervirginia@example.net\",\"name\":\"Shawn Green PhD\",\"phone\":\"269-736-9834x2214\",\"date_part\":\"20240502\"}       |\n",
            "|{\"address\":\"Unit 8061 Box 8375\\nDPO AE 01193\",\"date\":\"2024-05-01T07:32:25.853Z\",\"dob\":\"1921-07-07\",\"email\":\"jennifer96@example.com\",\"name\":\"Terri Blanchard\",\"phone\":\"873.973.6621x10308\",\"date_part\":\"20240501\"}                       |\n",
            "|{\"address\":\"93232 William Points Apt. 796\\nConnorfurt, VA 82409\",\"date\":\"2024-05-01T16:18:37.107Z\",\"dob\":\"2000-05-06\",\"email\":\"nnguyen@example.com\",\"name\":\"Justin Olsen\",\"phone\":\"7804535152\",\"date_part\":\"20240501\"}                  |\n",
            "|{\"address\":\"01963 Kimberly Walk Suite 384\\nNew Ambermouth, AR 99350\",\"date\":\"2024-05-04T21:12:59.097Z\",\"dob\":\"2018-01-21\",\"email\":\"sanchezbrian@example.net\",\"name\":\"Brian Werner\",\"phone\":\"483-334-8549\",\"date_part\":\"20240504\"}       |\n",
            "+----------------------------------------------------------------------------------------------------------------------------------------------------------------------------------------------------------------------------------------+\n",
            "only showing top 10 rows\n",
            "\n"
          ]
        }
      ]
    },
    {
      "cell_type": "code",
      "source": [
        "# reading json as text\n",
        "spark.read.json(path).show(10, False)"
      ],
      "metadata": {
        "colab": {
          "base_uri": "https://localhost:8080/"
        },
        "id": "0bHcT2ilUo_F",
        "outputId": "086a8b40-c9d2-42ff-f365-6a7d32dbff8d"
      },
      "execution_count": 13,
      "outputs": [
        {
          "output_type": "stream",
          "name": "stdout",
          "text": [
            "+-------------------------------------------------------+------------------------+---------+----------+---------------------------+----------------+---------------------+\n",
            "|address                                                |date                    |date_part|dob       |email                      |name            |phone                |\n",
            "+-------------------------------------------------------+------------------------+---------+----------+---------------------------+----------------+---------------------+\n",
            "|4332 Miguel Junctions\\nBrookstown, PA 36236            |2024-05-01T06:32:51.604Z|20240501 |1936-03-12|jennifercuevas@example.com |Charles Shepherd|598.984.9288x02240   |\n",
            "|83050 Cervantes Station Apt. 929\\nWest Stacey, CO 38055|2024-05-01T10:51:13.635Z|20240501 |1928-12-22|gmartinez@example.org      |Robin Richardson|(460)896-9529x1331   |\n",
            "|779 Taylor Skyway\\nLake Jason, NE 60009                |2024-05-01T17:37:11.144Z|20240501 |1995-08-07|brian12@example.net        |Heather Johnson |637.527.5684x809     |\n",
            "|4774 Benjamin Fields\\nWest Robert, SC 03869            |2024-05-04T12:18:35.071Z|20240504 |2008-06-17|tamarablanchard@example.net|Mark Tapia      |670-487-6933x9445    |\n",
            "|974 Henderson Path Suite 670\\nKimberlyfort, NE 25348   |2024-05-04T14:23:25.378Z|20240504 |1936-07-16|wwolfe@example.org         |Shaun Sherman   |001-968-470-2525x6674|\n",
            "|1999 Miller Extensions\\nStephaniestad, DC 63563        |2024-05-04T04:09:30.546Z|20240504 |1990-07-29|zmorse@example.org         |Jennifer Nguyen |473.658.8781         |\n",
            "|87668 Laura Fields\\nJenkinsborough, MD 47983           |2024-05-02T06:49:17.492Z|20240502 |1922-01-17|spencervirginia@example.net|Shawn Green PhD |269-736-9834x2214    |\n",
            "|Unit 8061 Box 8375\\nDPO AE 01193                       |2024-05-01T07:32:25.853Z|20240501 |1921-07-07|jennifer96@example.com     |Terri Blanchard |873.973.6621x10308   |\n",
            "|93232 William Points Apt. 796\\nConnorfurt, VA 82409    |2024-05-01T16:18:37.107Z|20240501 |2000-05-06|nnguyen@example.com        |Justin Olsen    |7804535152           |\n",
            "|01963 Kimberly Walk Suite 384\\nNew Ambermouth, AR 99350|2024-05-04T21:12:59.097Z|20240504 |2018-01-21|sanchezbrian@example.net   |Brian Werner    |483-334-8549         |\n",
            "+-------------------------------------------------------+------------------------+---------+----------+---------------------------+----------------+---------------------+\n",
            "only showing top 10 rows\n",
            "\n"
          ]
        }
      ]
    },
    {
      "cell_type": "code",
      "source": [
        "# partition json data + saveAsTable\n",
        "\n",
        "# Creating partition column\n",
        "df = df.withColumn(\"date_part\", date_format(col(\"date\"), \"yyyyMMdd\"))\n",
        "\n",
        "# write as json\n",
        "(df.write\n",
        "  .partitionBy(\"date_part\")\n",
        "  .mode(\"overwrite\")\n",
        "  .format(\"json\")\n",
        "  .saveAsTable(\"tbl_json_part\"))\n",
        "\n",
        "# read as json\n",
        "spark.table(\"tbl_json_part\").count()\n",
        "\n",
        "# read as json\n",
        "spark.sql(\"show partitions tbl_json_part\").show()"
      ],
      "metadata": {
        "colab": {
          "base_uri": "https://localhost:8080/"
        },
        "id": "Qj59UNMuU0hV",
        "outputId": "6f1e1750-7ad6-4d71-f6d5-ebcf99fb0b85"
      },
      "execution_count": 14,
      "outputs": [
        {
          "output_type": "stream",
          "name": "stdout",
          "text": [
            "+------------------+\n",
            "|         partition|\n",
            "+------------------+\n",
            "|date_part=20240501|\n",
            "|date_part=20240502|\n",
            "|date_part=20240503|\n",
            "|date_part=20240504|\n",
            "+------------------+\n",
            "\n"
          ]
        }
      ]
    },
    {
      "cell_type": "markdown",
      "source": [
        "# Append Mode"
      ],
      "metadata": {
        "id": "6RhijzyqZeeq"
      }
    },
    {
      "cell_type": "code",
      "source": [
        "# Writing as PARQUET with APPEND\n",
        "\n",
        "path = \"/content/write_partitioning/parquet_append\"\n",
        "\n",
        "df.write.mode(\"append\").format(\"parquet\").save(path)\n",
        "\n",
        "!ls /content/write_partitioning/parquet_append\n",
        "\n",
        "spark.read.format(\"parquet\").load(path).count()"
      ],
      "metadata": {
        "id": "GmLjA1zDZeG_",
        "outputId": "dbc6dad7-d74a-4f26-e6d3-e3792bca3df3",
        "colab": {
          "base_uri": "https://localhost:8080/"
        }
      },
      "execution_count": 17,
      "outputs": [
        {
          "output_type": "stream",
          "name": "stdout",
          "text": [
            "part-00000-37af8d5b-6d41-4d94-9d77-078b986533fb-c000.snappy.parquet\n",
            "part-00000-389520c2-e085-46c1-a8c0-35f3232ac7b8-c000.snappy.parquet\n",
            "part-00000-a874a84c-221f-4839-bff5-96dd32923148-c000.snappy.parquet\n",
            "_SUCCESS\n"
          ]
        },
        {
          "output_type": "execute_result",
          "data": {
            "text/plain": [
              "150"
            ]
          },
          "metadata": {},
          "execution_count": 17
        }
      ]
    }
  ],
  "metadata": {
    "colab": {
      "provenance": [],
      "include_colab_link": true
    },
    "kernelspec": {
      "display_name": "Python 3",
      "name": "python3"
    },
    "language_info": {
      "name": "python"
    }
  },
  "nbformat": 4,
  "nbformat_minor": 0
}