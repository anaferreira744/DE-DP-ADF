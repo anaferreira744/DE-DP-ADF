{
  "cells": [
    {
      "cell_type": "markdown",
      "metadata": {
        "id": "view-in-github",
        "colab_type": "text"
      },
      "source": [
        "<a href=\"https://colab.research.google.com/github/anaferreira744/DE-DP-ADF/blob/main/spark/challenges/challenge_1.ipynb\" target=\"_parent\"><img src=\"https://colab.research.google.com/assets/colab-badge.svg\" alt=\"Open In Colab\"/></a>"
      ]
    },
    {
      "cell_type": "markdown",
      "source": [],
      "metadata": {
        "id": "IwdttUPpVBGd"
      }
    },
    {
      "cell_type": "markdown",
      "metadata": {
        "id": "BOA_wQSmLd9z"
      },
      "source": [
        "# CHALLENGE 1\n",
        "##  Implement INGESTION process\n",
        "- Set up path in the \"lake\"\n",
        "  - !mkdir -p /content/lake/bronze\n",
        "\n",
        "- Read data from API https://api.carrismetropolitana.pt/\n",
        "  - Endpoints:\n",
        "    - vehicles\n",
        "    - lines\n",
        "    - municipalities\n",
        "  - Use StructFields to enforce schema\n",
        "\n",
        "- Transformations\n",
        "  - vehicles\n",
        "    - create \"date\" extracted from \"timestamp\" column (format: hh24miss)\n",
        "\n",
        "- Write data as PARQUET into the BRONZE layer (/content/lake/bronze)\n",
        "  - Partition \"vehicles\" by \"date\" column\n",
        "  - Paths:\n",
        "    - vehicles - path: /content/lake/bronze/vehicles\n",
        "    - lines - path: /content/lake/bronze/lines\n",
        "    - municipalities - path: /content/lake/bronze/municipalities\n",
        "  - Make sure there is only 1 single parquet created\n",
        "  - Use overwrite as write mode"
      ]
    },
    {
      "cell_type": "markdown",
      "metadata": {
        "id": "d9LeYFsPTjAb"
      },
      "source": [
        "# Setting up PySpark"
      ]
    },
    {
      "cell_type": "code",
      "execution_count": null,
      "metadata": {
        "colab": {
          "base_uri": "https://localhost:8080/"
        },
        "id": "uYXeODL0T1fO",
        "outputId": "7c2d681c-d7ae-4a10-cc2d-8886169a0906"
      },
      "outputs": [
        {
          "output_type": "stream",
          "name": "stdout",
          "text": [
            "Requirement already satisfied: pyspark in /usr/local/lib/python3.10/dist-packages (3.5.3)\n",
            "Requirement already satisfied: py4j==0.10.9.7 in /usr/local/lib/python3.10/dist-packages (from pyspark) (0.10.9.7)\n",
            "Requirement already satisfied: requests in /usr/local/lib/python3.10/dist-packages (2.32.3)\n",
            "Requirement already satisfied: charset-normalizer<4,>=2 in /usr/local/lib/python3.10/dist-packages (from requests) (3.4.0)\n",
            "Requirement already satisfied: idna<4,>=2.5 in /usr/local/lib/python3.10/dist-packages (from requests) (3.10)\n",
            "Requirement already satisfied: urllib3<3,>=1.21.1 in /usr/local/lib/python3.10/dist-packages (from requests) (2.2.3)\n",
            "Requirement already satisfied: certifi>=2017.4.17 in /usr/local/lib/python3.10/dist-packages (from requests) (2024.8.30)\n"
          ]
        }
      ],
      "source": [
        "%pip install pyspark"
      ]
    },
    {
      "cell_type": "code",
      "source": [
        "from pyspark.sql import DataFrame, SparkSession\n",
        "from pyspark.sql.functions import *\n",
        "import pyspark.sql.functions as F\n",
        "from pyspark.sql.types import *\n",
        "import requests\n"
      ],
      "metadata": {
        "id": "OGXGTlvwfsy_"
      },
      "execution_count": 153,
      "outputs": []
    },
    {
      "cell_type": "code",
      "source": [
        "spark = SparkSession.builder.master('local').appName('Challenge_AF').config('spark.ui.port', '4050').getOrCreate()\n",
        "sc = spark.sparkContext"
      ],
      "metadata": {
        "id": "Y-bvPBvjimDp"
      },
      "execution_count": 154,
      "outputs": []
    },
    {
      "cell_type": "code",
      "source": [
        "import requests\n",
        "from pyspark.sql.types import *\n",
        "\n",
        "def readFromAPI(url: str, schema: StructType = None):\n",
        "  response = requests.get(url)\n",
        "  rdd = sc.parallelize(response.json())\n",
        "\n",
        "  if schema:\n",
        "    df = spark.read.schema(schema).json(rdd)\n",
        "  else:\n",
        "    df = spark.read.json(rdd)\n",
        "  return df\n",
        "\n"
      ],
      "metadata": {
        "id": "9LYyBohYit8P"
      },
      "execution_count": 155,
      "outputs": []
    },
    {
      "cell_type": "code",
      "source": [
        "\n",
        "vehicle_schema = StructType([StructField('bearing', IntegerType(), True),\n",
        "                             StructField('block_id', StringType(), True),\n",
        "                             StructField('current_status', StringType(), True),\n",
        "                             StructField('id', StringType(), True),\n",
        "                             StructField('lat', FloatType(), True),\n",
        "                             StructField('line_id', StringType(), True),\n",
        "                             StructField('lon', FloatType(), True),\n",
        "                             StructField('pattern_id', StringType(), True),\n",
        "                             StructField('route_id', StringType(), True),\n",
        "                             StructField('schedule_relationship', StringType(), True),\n",
        "                             StructField('shift_id', StringType(), True),\n",
        "                             StructField('speed', FloatType(), True),\n",
        "                             StructField('stop_id', StringType(), True),\n",
        "                             StructField('timestamp', TimestampType(), True),\n",
        "                             StructField('trip_id', StringType(), True)])\n",
        "\n",
        "vehicles = readFromAPI(\"https://api.carrismetropolitana.pt/vehicles\", vehicle_schema)\n",
        "vehicles.count()"
      ],
      "metadata": {
        "colab": {
          "base_uri": "https://localhost:8080/"
        },
        "id": "ySUjia_Bi1hJ",
        "outputId": "3cdd5cf3-28a0-4652-8563-79068adaefdb"
      },
      "execution_count": 156,
      "outputs": [
        {
          "output_type": "execute_result",
          "data": {
            "text/plain": [
              "227"
            ]
          },
          "metadata": {},
          "execution_count": 156
        }
      ]
    },
    {
      "cell_type": "code",
      "source": [
        "lines_schema = StructType([\n",
        "    StructField(\"color\", StringType(), True),\n",
        "    StructField(\"facilities\", ArrayType(StringType()), True),\n",
        "    StructField(\"id\", StringType(), True),\n",
        "    StructField(\"localities\", ArrayType(StringType()), True),\n",
        "    StructField(\"long_name\", StringType(), True),\n",
        "    StructField(\"municipalities\", ArrayType(StringType()), True),\n",
        "    StructField(\"patterns\", ArrayType(StringType()), True),\n",
        "    StructField(\"routes\", ArrayType(StringType()), True),\n",
        "    StructField(\"short_name\", StringType(), True),\n",
        "    StructField(\"text_color\", StringType(), True)\n",
        "])\n",
        "\n",
        "\n",
        "lines = readFromAPI(\"https://api.carrismetropolitana.pt/lines\", lines_schema)\n",
        "lines.show()\n",
        "\n"
      ],
      "metadata": {
        "colab": {
          "base_uri": "https://localhost:8080/"
        },
        "id": "4bk75NkafvxT",
        "outputId": "33dcfa88-7289-4470-c9e3-8bf71abebff8"
      },
      "execution_count": 157,
      "outputs": [
        {
          "output_type": "stream",
          "name": "stdout",
          "text": [
            "+-------+----------+----+--------------------+--------------------+--------------+--------------------+--------------------+----------+----------+\n",
            "|  color|facilities|  id|          localities|           long_name|municipalities|            patterns|              routes|short_name|text_color|\n",
            "+-------+----------+----+--------------------+--------------------+--------------+--------------------+--------------------+----------+----------+\n",
            "|#C61D23|        []|1001|[Alfragide, Amado...|Alfragide (Estr S...|        [1115]|[1001_0_1, 1001_0_2]|            [1001_0]|      1001|   #FFFFFF|\n",
            "|#C61D23|        []|1002|[Reboleira, Amado...|Reboleira (Estaçã...|        [1115]|          [1002_0_3]|            [1002_0]|      1002|   #FFFFFF|\n",
            "|#C61D23|        []|1003|[Amadora, Amadora...|Amadora (Estação ...|        [1115]|[1003_0_1, 1003_0_2]|            [1003_0]|      1003|   #FFFFFF|\n",
            "|#C61D23|        []|1004|[Amadora, Moinhos...|Amadora (Estação ...|        [1115]|          [1004_0_3]|            [1004_0]|      1004|   #FFFFFF|\n",
            "|#C61D23|        []|1005|[Amadora, Casal d...|Amadora (Estação ...|        [1115]|[1005_0_1, 1005_0...|[1005_0, 1005_1, ...|      1005|   #FFFFFF|\n",
            "|#C61D23|        []|1006|[Amadora, Moinhos...|Amadora (Estação ...|        [1115]|[1006_0_1, 1006_0...|    [1006_0, 1006_1]|      1006|   #FFFFFF|\n",
            "|#3D85C6|        []|1008|                NULL|Amadora Este (Met...|        [1115]|          [1008_0_3]|            [1008_0]|      1008|   #FFFFFF|\n",
            "|#3D85C6|        []|1009|   [Amadora, Sintra]|Amadora (Hospital...|  [1115, 1111]|          [1009_0_3]|            [1009_0]|      1009|   #FFFFFF|\n",
            "|#C61D23|        []|1010|[Brandoa, Amadora...|Brandoa (Pólo Esc...|        [1115]|[1010_0_1, 1010_0_2]|            [1010_0]|      1010|   #FFFFFF|\n",
            "|#C61D23|        []|1011|[Brandoa, Amadora...|Brandoa (Largo) -...|        [1115]|[1011_0_1, 1011_0...|    [1011_0, 1011_1]|      1011|   #FFFFFF|\n",
            "|#3D85C6|        []|1012|[Amadora, Brandoa...|Alfornelos Metro ...|        [1115]|          [1012_0_3]|            [1012_0]|      1012|   #FFFFFF|\n",
            "|#C61D23|        []|1013|  [Amadora, Atalaia]|Amadora (Cemitéri...|        [1115]|[1013_0_1, 1013_0_2]|            [1013_0]|      1013|   #FFFFFF|\n",
            "|#C61D23|        []|1014|[Amadora, Rebolei...|Amadora (Cemitéri...|        [1115]|[1014_0_1, 1014_0_2]|            [1014_0]|      1014|   #FFFFFF|\n",
            "|#3D85C6|        []|1015|[Reboleira, Amado...|Reboleira (Estaçã...|        [1115]|          [1015_0_3]|            [1015_0]|      1015|   #FFFFFF|\n",
            "|#C61D23|        []|1101|[Alfragide, Oeira...|Alfragide (Centro...|        [1110]|[1101_0_1, 1101_0...|    [1101_0, 1101_1]|      1101|   #FFFFFF|\n",
            "|#C61D23|        []|1103|[Algés, Oeiras, Q...|Algés (Estação) -...|        [1110]|[1103_0_1, 1103_0_2]|            [1103_0]|      1103|   #FFFFFF|\n",
            "|#C61D23|        []|1105|[Algés, Oeiras, M...|Algés (Estação) -...|        [1110]|[1105_0_1, 1105_0...|    [1105_0, 1105_1]|      1105|   #FFFFFF|\n",
            "|#C61D23|        []|1106|[Queluz Baixo, Oe...|Queluz Baixo (Cen...|        [1110]|[1106_0_2, 1106_1...|    [1106_0, 1106_1]|      1106|   #FFFFFF|\n",
            "|#C61D23|        []|1107|[Algés, Oeiras, Q...|Algés (Estação) -...|        [1110]|[1107_0_1, 1107_0_2]|            [1107_0]|      1107|   #FFFFFF|\n",
            "|#3D85C6|        []|1109|[Carnaxide, Oeira...|Carnaxide via Out...|        [1110]|          [1109_0_3]|            [1109_0]|      1109|   #FFFFFF|\n",
            "+-------+----------+----+--------------------+--------------------+--------------+--------------------+--------------------+----------+----------+\n",
            "only showing top 20 rows\n",
            "\n"
          ]
        }
      ]
    },
    {
      "cell_type": "code",
      "source": [
        "municipalities_schema = StructType([\n",
        "    StructField(\"district_id\", StringType(), True),\n",
        "    StructField(\"district_name\", StringType(), True),\n",
        "    StructField(\"id\", StringType(), True),\n",
        "    StructField(\"name\", StringType(), True),\n",
        "    StructField(\"prefix\", StringType(), True),\n",
        "    StructField(\"region_id\", StringType(), True),\n",
        "    StructField(\"region_name\", StringType(), True)\n",
        "\n",
        "])\n",
        "\n",
        "municipalities = readFromAPI(\"https://api.carrismetropolitana.pt/municipalities\", municipalities_schema)\n",
        "municipalities.show()"
      ],
      "metadata": {
        "colab": {
          "base_uri": "https://localhost:8080/"
        },
        "id": "CkwlGeltjLnk",
        "outputId": "052c2669-7e89-43cc-a46d-f96506d3b429"
      },
      "execution_count": 158,
      "outputs": [
        {
          "output_type": "stream",
          "name": "stdout",
          "text": [
            "+-----------+-------------+----+--------------------+------+---------+----------------+\n",
            "|district_id|district_name|  id|                name|prefix|region_id|     region_name|\n",
            "+-----------+-------------+----+--------------------+------+---------+----------------+\n",
            "|         07|        Évora|0712|        Vendas Novas|    19|    PT187|Alentejo Central|\n",
            "|         11|       Lisboa|1101|            Alenquer|    20|    PT16B|           Oeste|\n",
            "|         11|       Lisboa|1102|   Arruda dos Vinhos|    20|    PT16B|           Oeste|\n",
            "|         11|       Lisboa|1105|             Cascais|    05|    PT170|             AML|\n",
            "|         11|       Lisboa|1106|              Lisboa|    06|    PT170|             AML|\n",
            "|         11|       Lisboa|1107|              Loures|    07|    PT170|             AML|\n",
            "|         11|       Lisboa|1109|               Mafra|    08|    PT170|             AML|\n",
            "|         11|       Lisboa|1110|              Oeiras|    12|    PT170|             AML|\n",
            "|         11|       Lisboa|1111|              Sintra|    17|    PT170|             AML|\n",
            "|         11|       Lisboa|1112|Sobral de Monte A...|    20|    PT16B|           Oeste|\n",
            "|         11|       Lisboa|1113|       Torres Vedras|    20|    PT16B|           Oeste|\n",
            "|         11|       Lisboa|1114| Vila Franca de Xira|    18|    PT170|             AML|\n",
            "|         11|       Lisboa|1115|             Amadora|    03|    PT170|             AML|\n",
            "|         11|       Lisboa|1116|            Odivelas|    11|    PT170|             AML|\n",
            "|         15|      Setúbal|1502|           Alcochete|    01|    PT170|             AML|\n",
            "|         15|      Setúbal|1503|              Almada|    02|    PT170|             AML|\n",
            "|         15|      Setúbal|1504|            Barreiro|    04|    PT170|             AML|\n",
            "|         15|      Setúbal|1506|               Moita|    09|    PT170|             AML|\n",
            "|         15|      Setúbal|1507|             Montijo|    10|    PT170|             AML|\n",
            "|         15|      Setúbal|1508|             Palmela|    13|    PT170|             AML|\n",
            "+-----------+-------------+----+--------------------+------+---------+----------------+\n",
            "only showing top 20 rows\n",
            "\n"
          ]
        }
      ]
    },
    {
      "cell_type": "code",
      "source": [
        "# transformations\n",
        "from pyspark.sql.functions import to_date, date_format\n",
        "vehicles = vehicles.withColumn(\"date\", date_format(\"timestamp\", \"yyyyMMdd\"))\n",
        "\n",
        "vehicles.show()"
      ],
      "metadata": {
        "colab": {
          "base_uri": "https://localhost:8080/"
        },
        "id": "LPoFNLZlkLso",
        "outputId": "cab4144a-91cd-492a-ec1b-ba03ed3d1d53"
      },
      "execution_count": 159,
      "outputs": [
        {
          "output_type": "stream",
          "name": "stdout",
          "text": [
            "+-------+--------------------+--------------+--------+---------+-------+---------+----------+--------+---------------------+------------+---------+-------+-------------------+--------------------+--------+\n",
            "|bearing|            block_id|current_status|      id|      lat|line_id|      lon|pattern_id|route_id|schedule_relationship|    shift_id|    speed|stop_id|          timestamp|             trip_id|    date|\n",
            "+-------+--------------------+--------------+--------+---------+-------+---------+----------+--------+---------------------+------------+---------+-------+-------------------+--------------------+--------+\n",
            "|    164|20241127-64010153...| IN_TRANSIT_TO|44|12703|  38.7687|   4715|-9.104567|  4715_0_2|  4715_0|            SCHEDULED|113280234560|3.8888888| 060011|2024-11-27 23:18:26|4715_0_2|2700|223...|20241127|\n",
            "|    230|20241127-64010193...| IN_TRANSIT_TO|44|12083| 38.52783|   4428|-8.911337|  4428_0_2|  4428_0|            SCHEDULED|112560234500| 9.722222| 160451|2024-11-27 23:18:20|4428_0_2|2700|224...|20241127|\n",
            "|    246|20241127-64010254...| IN_TRANSIT_TO|44|12569| 38.56782|   4562|-8.921757|  4562_0_1|  4562_0|            SCHEDULED|111630234560|5.5555553| 130074|2024-11-27 23:18:32|4562_0_1|2700|224...|20241127|\n",
            "|    232|20241127-64010200...| IN_TRANSIT_TO|44|12089|38.521652|   4438|-8.900887|  4438_1_1|  4438_1|            SCHEDULED|112500234560|6.6666665| 160347|2024-11-27 23:18:21|4438_1_1|2700|230...|20241127|\n",
            "|    275|20241127-64010324...| IN_TRANSIT_TO|44|12548| 38.52205|   4412| -8.81146|  4412_0_1|  4412_0|            SCHEDULED|111650234560|11.388889| 160318|2024-11-27 23:18:22|4412_0_1|2700|231...|20241127|\n",
            "|     84|           1_1622-11| IN_TRANSIT_TO| 41|1364| 38.75687|   1721|-9.231473|  1721_0_2|  1721_0|            SCHEDULED|        1696|11.944445| 030603|2024-11-27 23:18:03|1721_0_2_2300_232...|20241127|\n",
            "|     85|             1553-11| IN_TRANSIT_TO| 42|2211|38.794468|   2516|-9.170864|  2516_0_2|  2516_0|            SCHEDULED|        1662|      0.0| 110454|2024-11-27 23:18:15|2516_0_2|1|1|2310...|20241127|\n",
            "|     56|           1_1033-11| IN_TRANSIT_TO| 41|1176| 38.77203|   1710| -9.21065|  1710_3_1|  1710_3|            SCHEDULED|        1140|4.7222223| 030811|2024-11-27 23:17:44|1710_3_1_2230_225...|20241127|\n",
            "|     65|           1_1040-11| IN_TRANSIT_TO| 41|1309|38.727768|   1704| -9.16061|  1704_0_1|  1704_0|            SCHEDULED|        1128| 8.333333| 060031|2024-11-27 23:18:15|1704_0_1_2230_225...|20241127|\n",
            "|     48|           1_1771-11| IN_TRANSIT_TO| 41|1230|38.792385|   1625|-9.344722|  1625_0_1|  1625_0|            SCHEDULED|        1835| 8.611111| 170317|2024-11-27 23:18:07|1625_0_1_2230_225...|20241127|\n",
            "|     56|       ESC_DU_EU1032|    STOPPED_AT| 43|2375|   38.637|   3511|-9.149455|  3511_0_2|  3511_0|            SCHEDULED|      EU1184|      0.0| 149996|2024-11-27 23:18:25|3511_0_2_2300_232...|20241127|\n",
            "|    166|             1808-11| IN_TRANSIT_TO| 42|2577|38.765312|   2772|-9.157301|  2772_4_2|  2772_4|            SCHEDULED|        1841| 8.055555| 061200|2024-11-27 23:17:04|2772_4_2|1|1|2245...|20241127|\n",
            "|      1|20241127-64010053...| IN_TRANSIT_TO|44|12714| 38.73305|   4512|-8.972207|  4512_0_2|  4512_0|            SCHEDULED|121900234560|10.833333| 010086|2024-11-27 23:18:33|4512_0_2|2700|223...|20241127|\n",
            "|    139|20241127-64010152...| IN_TRANSIT_TO|44|12679|38.713253|   4710|-8.909925|  4710_0_1|  4710_0|            SCHEDULED|113310234560|27.777779| 130451|2024-11-27 23:18:21|4710_0_1|2700|230...|20241127|\n",
            "|     33|             1031-11| IN_TRANSIT_TO| 42|2102|38.826836|   2725|-9.170997|  2725_0_2|  2725_0|            SCHEDULED|        1265|      7.5| 070477|2024-11-27 23:18:32|2725_0_2|1|1|2310...|20241127|\n",
            "|      0|           1_1058-11|    STOPPED_AT|  41|331|  38.8157|   1710| -9.22618|  1710_3_1|  1710_3|            SCHEDULED|        1127|      0.0| 110057|2024-11-27 23:17:33|1710_3_1_2300_232...|20241127|\n",
            "|    309|             1579-11| IN_TRANSIT_TO| 42|2564| 38.80081|   2812|-9.189107|  2812_1_2|  2812_1|            SCHEDULED|        1661|13.055555| 110229|2024-11-27 23:18:22|2812_1_2|1|1|2255...|20241127|\n",
            "|     81|             1532-11|   INCOMING_AT| 42|2206| 38.80879|   2517|-9.189554|  2517_0_3|  2517_0|            SCHEDULED|        1633|      2.5| 110371|2024-11-27 23:18:32|2517_0_3|1|1|2250...|20241127|\n",
            "|    356|             1049-11| IN_TRANSIT_TO| 42|2314| 38.78094|   2736|-9.124893|  2736_0_3|  2736_0|            SCHEDULED|   1233'_002|      7.5| 061205|2024-11-27 23:18:27|2736_0_3|1|1|2300...|20241127|\n",
            "|    230|             1705-11|   INCOMING_AT| 42|2507|38.815796|   2750|-9.155158|  2750_0_1|  2750_0|            SCHEDULED|        1769|6.9444447| 070555|2024-11-27 23:18:19|2750_0_1|1|1|2220...|20241127|\n",
            "+-------+--------------------+--------------+--------+---------+-------+---------+----------+--------+---------------------+------------+---------+-------+-------------------+--------------------+--------+\n",
            "only showing top 20 rows\n",
            "\n"
          ]
        }
      ]
    },
    {
      "cell_type": "markdown",
      "source": [
        "Write data as PARQUET into the BRONZE layer (/content/lake/bronze)\n",
        "\n",
        "Partition \"vehicles\" by \"date\" column\n",
        "\n",
        "Paths:\n",
        "vehicles - path: /content/lake/bronze/vehicles\n",
        "\n",
        "lines - path: /content/lake/bronze/lines\n",
        "\n",
        "municipalities - path: /content/lake/bronze/municipalities\n",
        "\n",
        "Make sure there is only 1 single parquet created\n",
        "Use overwrite as write mode"
      ],
      "metadata": {
        "id": "tUwxdmXHxrt2"
      }
    },
    {
      "cell_type": "markdown",
      "source": [],
      "metadata": {
        "id": "bl_trGWHxtDx"
      }
    },
    {
      "cell_type": "code",
      "source": [
        "# Define paths for bronze layer\n",
        "vehicle_path = \"/content/lake/bronze/vehicles\"\n",
        "lines_path = \"/content/lake/bronze/lines\"\n",
        "municipalities_path = \"/content/lake/bronze/municipalities\""
      ],
      "metadata": {
        "id": "oLeJkO08fPJK"
      },
      "execution_count": 160,
      "outputs": []
    },
    {
      "cell_type": "code",
      "source": [
        "!mkdir -p /content/lake/bronze"
      ],
      "metadata": {
        "id": "gmZdKaWcPeI3"
      },
      "execution_count": 161,
      "outputs": []
    },
    {
      "cell_type": "code",
      "source": [
        "# Gravar o DataFrame 'vehicles' particionado por 'date'\n",
        "(vehicles.coalesce(1)  # Garante apenas um arquivo por partição\n",
        "   .write\n",
        "   .mode(\"overwrite\")  # Sobrescreve dados existentes\n",
        "   .partitionBy(\"date\")  # Particiona os dados pela coluna 'date'\n",
        "   .format(\"parquet\")  # Formato Parquet\n",
        "   .save(vehicle_path))  # Caminho para salvar"
      ],
      "metadata": {
        "id": "EyFDClZ7L3RI"
      },
      "execution_count": 162,
      "outputs": []
    },
    {
      "cell_type": "code",
      "source": [
        "# Gravar o DataFrame 'lines' sem particionamento\n",
        "(lines.coalesce(1)  # Consolidar em um único arquivo\n",
        "   .write\n",
        "   .mode(\"overwrite\")  # Sobrescreve dados existentes\n",
        "   .format(\"parquet\")  # Formato Parquet\n",
        "   .save(lines_path))  # Caminho para salvar"
      ],
      "metadata": {
        "id": "WuF5EJyfOCJn"
      },
      "execution_count": 163,
      "outputs": []
    },
    {
      "cell_type": "code",
      "source": [
        "# Gravar o DataFrame 'municipalities' sem particionamento\n",
        "(municipalities.coalesce(1)  # Consolidar em um único arquivo\n",
        "   .write\n",
        "   .mode(\"overwrite\")  # Sobrescreve dados existentes\n",
        "   .format(\"parquet\")  # Formato Parquet\n",
        "   .save(municipalities_path))  # Caminho para salvar\n",
        "\n"
      ],
      "metadata": {
        "id": "zeq1QckAySaj"
      },
      "execution_count": 164,
      "outputs": []
    },
    {
      "cell_type": "markdown",
      "source": [
        "# CHALLENGE 2\n",
        "##  Implement CLEANSING process\n",
        "- Set up path in the \"lake\"\n",
        "  - !mkdir -p /content/lake/silver\n",
        "\n",
        "- Read data from BRONZE layer as PARQUET:\n",
        "    - vehicles - path: /content/lake/bronze/vehicles\n",
        "    - lines - path: /content/lake/bronze/lines\n",
        "    - municipalities - path: /content/lake/bronze/municipalities\n",
        "\n",
        "- Transformations\n",
        "  - vehicles\n",
        "    - rename \"lat\" and \"lon\" to \"latitude\" and \"longitude\" respectively\n",
        "    - remove possible duplicates\n",
        "    - remove rows when the column CURRENT_STATUS is null\n",
        "    - remove any corrupted record\n",
        "  - lines\n",
        "    - remove duplicates\n",
        "    - remove rows when the column LONG_NAME is null\n",
        "    - remove any corrupted record\n",
        "  - municipalities\n",
        "    - remove duplicates\n",
        "    - remove rows when the columns NAME or DISTRICT_NAME are null\n",
        "    - remove any corrupted record\n",
        "\n",
        "- Write data as PARQUET into the SILVER layer (/content/lake/silver)\n",
        "  - Partition \"vehicles\" by \"date\"(created in the ingestion)\n",
        "  - Paths:\n",
        "    - vehicles - path: /content/lake/silver/vehicles\n",
        "    - lines - path: /content/lake/silver/lines\n",
        "    - municipalities - path: /content/lake/silver/municipalities"
      ],
      "metadata": {
        "id": "QntWpX9YPouo"
      }
    },
    {
      "cell_type": "code",
      "source": [
        "# read from parquet\n",
        "vehicles = spark.read.format(\"parquet\").load(\"/content/lake/bronze/vehicles\")\n",
        "lines = spark.read.format(\"parquet\").load(\"/content/lake/bronze/lines\")\n",
        "municipalities = spark.read.format(\"parquet\").load(\"/content/lake/bronze/municipalities\")"
      ],
      "metadata": {
        "id": "izf9IpWfySOQ"
      },
      "execution_count": 165,
      "outputs": []
    },
    {
      "cell_type": "code",
      "source": [
        "#vehicles\n",
        "#rename \"lat\" and \"lon\" to \"latitude\" and \"longitude\" respectively\n",
        "vehicles = vehicles.withColumnRenamed(\"lat\", \"latitude\").withColumnRenamed(\"lon\", \"longitude\")\n",
        "vehicles.show()\n",
        "vehicles.count()"
      ],
      "metadata": {
        "id": "dYbXbJZ2Qajc",
        "outputId": "681dba75-4808-4f81-b29e-3b024d003992",
        "colab": {
          "base_uri": "https://localhost:8080/"
        }
      },
      "execution_count": 166,
      "outputs": [
        {
          "output_type": "stream",
          "name": "stdout",
          "text": [
            "+-------+--------------------+--------------+--------+---------+-------+---------+----------+--------+---------------------+------------+---------+-------+-------------------+--------------------+--------+\n",
            "|bearing|            block_id|current_status|      id| latitude|line_id|longitude|pattern_id|route_id|schedule_relationship|    shift_id|    speed|stop_id|          timestamp|             trip_id|    date|\n",
            "+-------+--------------------+--------------+--------+---------+-------+---------+----------+--------+---------------------+------------+---------+-------+-------------------+--------------------+--------+\n",
            "|    164|20241127-64010153...| IN_TRANSIT_TO|44|12703|  38.7687|   4715|-9.104567|  4715_0_2|  4715_0|            SCHEDULED|113280234560|3.8888888| 060011|2024-11-27 23:18:26|4715_0_2|2700|223...|20241127|\n",
            "|    230|20241127-64010193...| IN_TRANSIT_TO|44|12083| 38.52783|   4428|-8.911337|  4428_0_2|  4428_0|            SCHEDULED|112560234500| 9.722222| 160451|2024-11-27 23:18:20|4428_0_2|2700|224...|20241127|\n",
            "|    246|20241127-64010254...| IN_TRANSIT_TO|44|12569| 38.56782|   4562|-8.921757|  4562_0_1|  4562_0|            SCHEDULED|111630234560|5.5555553| 130074|2024-11-27 23:18:32|4562_0_1|2700|224...|20241127|\n",
            "|    232|20241127-64010200...| IN_TRANSIT_TO|44|12089|38.521652|   4438|-8.900887|  4438_1_1|  4438_1|            SCHEDULED|112500234560|6.6666665| 160347|2024-11-27 23:18:21|4438_1_1|2700|230...|20241127|\n",
            "|    275|20241127-64010324...| IN_TRANSIT_TO|44|12548| 38.52205|   4412| -8.81146|  4412_0_1|  4412_0|            SCHEDULED|111650234560|11.388889| 160318|2024-11-27 23:18:22|4412_0_1|2700|231...|20241127|\n",
            "|     84|           1_1622-11| IN_TRANSIT_TO| 41|1364| 38.75687|   1721|-9.231473|  1721_0_2|  1721_0|            SCHEDULED|        1696|11.944445| 030603|2024-11-27 23:18:03|1721_0_2_2300_232...|20241127|\n",
            "|     85|             1553-11| IN_TRANSIT_TO| 42|2211|38.794468|   2516|-9.170864|  2516_0_2|  2516_0|            SCHEDULED|        1662|      0.0| 110454|2024-11-27 23:18:15|2516_0_2|1|1|2310...|20241127|\n",
            "|     56|           1_1033-11| IN_TRANSIT_TO| 41|1176| 38.77203|   1710| -9.21065|  1710_3_1|  1710_3|            SCHEDULED|        1140|4.7222223| 030811|2024-11-27 23:17:44|1710_3_1_2230_225...|20241127|\n",
            "|     65|           1_1040-11| IN_TRANSIT_TO| 41|1309|38.727768|   1704| -9.16061|  1704_0_1|  1704_0|            SCHEDULED|        1128| 8.333333| 060031|2024-11-27 23:18:15|1704_0_1_2230_225...|20241127|\n",
            "|     48|           1_1771-11| IN_TRANSIT_TO| 41|1230|38.792385|   1625|-9.344722|  1625_0_1|  1625_0|            SCHEDULED|        1835| 8.611111| 170317|2024-11-27 23:18:07|1625_0_1_2230_225...|20241127|\n",
            "|     56|       ESC_DU_EU1032|    STOPPED_AT| 43|2375|   38.637|   3511|-9.149455|  3511_0_2|  3511_0|            SCHEDULED|      EU1184|      0.0| 149996|2024-11-27 23:18:25|3511_0_2_2300_232...|20241127|\n",
            "|    166|             1808-11| IN_TRANSIT_TO| 42|2577|38.765312|   2772|-9.157301|  2772_4_2|  2772_4|            SCHEDULED|        1841| 8.055555| 061200|2024-11-27 23:17:04|2772_4_2|1|1|2245...|20241127|\n",
            "|      1|20241127-64010053...| IN_TRANSIT_TO|44|12714| 38.73305|   4512|-8.972207|  4512_0_2|  4512_0|            SCHEDULED|121900234560|10.833333| 010086|2024-11-27 23:18:33|4512_0_2|2700|223...|20241127|\n",
            "|    139|20241127-64010152...| IN_TRANSIT_TO|44|12679|38.713253|   4710|-8.909925|  4710_0_1|  4710_0|            SCHEDULED|113310234560|27.777779| 130451|2024-11-27 23:18:21|4710_0_1|2700|230...|20241127|\n",
            "|     33|             1031-11| IN_TRANSIT_TO| 42|2102|38.826836|   2725|-9.170997|  2725_0_2|  2725_0|            SCHEDULED|        1265|      7.5| 070477|2024-11-27 23:18:32|2725_0_2|1|1|2310...|20241127|\n",
            "|      0|           1_1058-11|    STOPPED_AT|  41|331|  38.8157|   1710| -9.22618|  1710_3_1|  1710_3|            SCHEDULED|        1127|      0.0| 110057|2024-11-27 23:17:33|1710_3_1_2300_232...|20241127|\n",
            "|    309|             1579-11| IN_TRANSIT_TO| 42|2564| 38.80081|   2812|-9.189107|  2812_1_2|  2812_1|            SCHEDULED|        1661|13.055555| 110229|2024-11-27 23:18:22|2812_1_2|1|1|2255...|20241127|\n",
            "|     81|             1532-11|   INCOMING_AT| 42|2206| 38.80879|   2517|-9.189554|  2517_0_3|  2517_0|            SCHEDULED|        1633|      2.5| 110371|2024-11-27 23:18:32|2517_0_3|1|1|2250...|20241127|\n",
            "|    356|             1049-11| IN_TRANSIT_TO| 42|2314| 38.78094|   2736|-9.124893|  2736_0_3|  2736_0|            SCHEDULED|   1233'_002|      7.5| 061205|2024-11-27 23:18:27|2736_0_3|1|1|2300...|20241127|\n",
            "|    230|             1705-11|   INCOMING_AT| 42|2507|38.815796|   2750|-9.155158|  2750_0_1|  2750_0|            SCHEDULED|        1769|6.9444447| 070555|2024-11-27 23:18:19|2750_0_1|1|1|2220...|20241127|\n",
            "+-------+--------------------+--------------+--------+---------+-------+---------+----------+--------+---------------------+------------+---------+-------+-------------------+--------------------+--------+\n",
            "only showing top 20 rows\n",
            "\n"
          ]
        },
        {
          "output_type": "execute_result",
          "data": {
            "text/plain": [
              "227"
            ]
          },
          "metadata": {},
          "execution_count": 166
        }
      ]
    },
    {
      "cell_type": "code",
      "source": [
        "#remove possible duplicates\n",
        "vehicles = vehicles.dropDuplicates()\n",
        "\n",
        "#remove rows when the column CURRENT_STATUS is null\n",
        "vehicles = vehicles.filter(col(\"current_status\").isNotNull())\n",
        "\n",
        "#remove any corrupted record\n",
        "#VER ESTE PONTO NAO SEI FAZER\n",
        "vehicles = vehicles.dropna()"
      ],
      "metadata": {
        "id": "7gzX_5q4QyJV"
      },
      "execution_count": 167,
      "outputs": []
    },
    {
      "cell_type": "code",
      "source": [
        "#lines\n",
        "#remove duplicates\n",
        "lines = lines.dropDuplicates()\n",
        "\n",
        "#remove rows when the column LONG_NAME is null\n",
        "lines = lines.filter(col(\"long_name\").isNotNull())\n",
        "\n",
        "#remove any corrupted record\n",
        "#VER ESTE PONTO NAO SEI FAZER\n",
        "lines = lines.dropna()"
      ],
      "metadata": {
        "id": "uFncROrtTEYi"
      },
      "execution_count": 168,
      "outputs": []
    },
    {
      "cell_type": "code",
      "source": [
        "#municipalities\n",
        "#remove duplicates\n",
        "municipalities = municipalities.dropDuplicates()\n",
        "\n",
        "#remove rows when the columns NAME or DISTRICT_NAME are null\n",
        "municipalities = municipalities.filter(col(\"name\").isNotNull() | col(\"district_name\").isNotNull())\n",
        "\n",
        "#remove any corrupted record\n",
        "#VER ESTE PONTO NAO SEI FAZER\n",
        "municipalities = municipalities.dropna()"
      ],
      "metadata": {
        "id": "Dy33FU6BTlsa"
      },
      "execution_count": 169,
      "outputs": []
    },
    {
      "cell_type": "code",
      "source": [
        "!mkdir -p  /content/lake/silver"
      ],
      "metadata": {
        "id": "lUFKoM9jT_ka"
      },
      "execution_count": 170,
      "outputs": []
    },
    {
      "cell_type": "code",
      "source": [
        "# Define paths for silver layer\n",
        "vehicle_path = \"/content/lake/silver/vehicles\"\n",
        "lines_path = \"/content/lake/silver/lines\"\n",
        "municipalities_path = \"/content/lake/silver/municipalities\""
      ],
      "metadata": {
        "id": "hoqvAscrUNuR"
      },
      "execution_count": 171,
      "outputs": []
    },
    {
      "cell_type": "code",
      "source": [
        "# Gravar o DataFrame 'vehicles' particionado por 'date'\n",
        "(vehicles.coalesce(1)  # Garante apenas um arquivo por partição\n",
        "   .write\n",
        "   .mode(\"overwrite\")  # Sobrescreve dados existentes\n",
        "   .partitionBy(\"date\")  # Particiona os dados pela coluna 'date'\n",
        "   .format(\"parquet\")  # Formato Parquet\n",
        "   .save(vehicle_path))  # Caminho para salvar"
      ],
      "metadata": {
        "id": "5w6ykyegUawR"
      },
      "execution_count": 172,
      "outputs": []
    },
    {
      "cell_type": "code",
      "source": [
        "# Gravar o DataFrame 'lines' sem particionamento\n",
        "(lines.coalesce(1)  # Consolidar em um único arquivo\n",
        "   .write\n",
        "   .mode(\"overwrite\")  # Sobrescreve dados existentes\n",
        "   .format(\"parquet\")  # Formato Parquet\n",
        "   .save(lines_path))  # Caminho para salvar"
      ],
      "metadata": {
        "id": "nBEAfEWPUeSc"
      },
      "execution_count": 173,
      "outputs": []
    },
    {
      "cell_type": "code",
      "source": [
        "# Gravar o DataFrame 'municipalities' sem particionamento\n",
        "(municipalities.coalesce(1)  # Consolidar em um único arquivo\n",
        "   .write\n",
        "   .mode(\"overwrite\")  # Sobrescreve dados existentes\n",
        "   .format(\"parquet\")  # Formato Parquet\n",
        "   .save(municipalities_path))  # Caminho para salvar"
      ],
      "metadata": {
        "id": "5iO0eB1PUf9M"
      },
      "execution_count": 174,
      "outputs": []
    },
    {
      "cell_type": "markdown",
      "source": [
        "# CHALLENGE 3\n",
        "##  Implement ENRICH process\n",
        "- Set up path in the \"lake\"\n",
        "  - !mkdir -p /content/lake/gold\n",
        "\n",
        "- Read data from SILVER layer\n",
        "  - Paths:\n",
        "    - vehicles - path: /content/lake/silver/vehicles\n",
        "    - lines - path: /content/lake/silver/lines\n",
        "    - municipalities - path: /content/lake/silver/municipalities\n",
        "  - Use StructFields to enforce schema\n",
        "\n",
        "- Enrichment\n",
        "  - Enrich vehicles dataset with information from the line and municipalities\n",
        "    - join vehicles with lines and municipalities\n",
        "      - select all columns from vehicles + lines.long_name (name: line_name, format:string) + municipalities.name (name: municipality_name, format: array)\n",
        "      - Note that \"municipalities.name\" is an array\n",
        "\n",
        "- Write data as PARQUET into the GOLD layer (/content/lake/gold)\n",
        "  - Dataset name: vehicles_enriched\n",
        "  - Partition \"vehicles_enriched\" by \"date\" column\n",
        "  - Paths:\n",
        "    - vehicles - path: /content/lake/gold/vehicles_enriched\n",
        "  - Make sure there is only 1 single parquet created\n",
        "  - Use overwrite as write mode"
      ],
      "metadata": {
        "id": "Ytz_taWGUqd6"
      }
    },
    {
      "cell_type": "code",
      "source": [
        "# read from parquet\n",
        "vehicles = spark.read.parquet(\"/content/lake/silver/vehicles\", schema=vehicle_schema)\n",
        "lines = spark.read.parquet(\"/content/lake/silver/lines\", schema=lines_schema)\n",
        "municipalities = spark.read.parquet(\"/content/lake/silver/municipalities\", schema=municipalities_schema)\n"
      ],
      "metadata": {
        "id": "EY4197G1rliy"
      },
      "execution_count": 175,
      "outputs": []
    },
    {
      "cell_type": "code",
      "source": [
        "from pyspark.sql.functions import explode, col\n",
        "\n",
        "# Explodir o array \"municipalities\" para criar uma linha para cada município\n",
        "lines_exploded = lines.select(\n",
        "    \"id\",\n",
        "    \"long_name\",\n",
        "    col(\"municipalities\").alias(\"municipalities\"),  # Coluna de ID (assumindo que você tem uma coluna \"id\" em municipalities)\n",
        "    explode(col(\"municipalities\")).alias(\"municipality_id\")  # Explodir o array \"municipalities\"\n",
        ")\n",
        "\n",
        "# Agora você tem um DataFrame com os IDs dos municípios extraídos\n",
        "lines_exploded.count()"
      ],
      "metadata": {
        "id": "hWGkz4iqx-JR",
        "outputId": "02a91719-2523-4fe1-8fb4-6d0a8cad9b65",
        "colab": {
          "base_uri": "https://localhost:8080/"
        }
      },
      "execution_count": 176,
      "outputs": [
        {
          "output_type": "execute_result",
          "data": {
            "text/plain": [
              "1182"
            ]
          },
          "metadata": {},
          "execution_count": 176
        }
      ]
    },
    {
      "cell_type": "code",
      "source": [
        "\n",
        "vehicles_lines = vehicles.join(lines_exploded, vehicles['line_id'] == lines_exploded['id'], how = 'left')\n",
        "vehicles_enriched = vehicles_lines.join(municipalities, lines_exploded['municipality_id'] == municipalities['id'], how = 'left')\n",
        "vehicles_enriched.show()"
      ],
      "metadata": {
        "id": "l3H9Hwc_txzU",
        "outputId": "89b630b0-f939-4478-e744-527a747f8193",
        "colab": {
          "base_uri": "https://localhost:8080/"
        }
      },
      "execution_count": 177,
      "outputs": [
        {
          "output_type": "stream",
          "name": "stdout",
          "text": [
            "+-------+--------------------+--------------+--------+---------+-------+---------+----------+--------+---------------------+------------+---------+-------+-------------------+--------------------+--------+----+--------------------+------------------+---------------+-----------+-------------+----+-------------------+------+---------+-----------+\n",
            "|bearing|            block_id|current_status|      id| latitude|line_id|longitude|pattern_id|route_id|schedule_relationship|    shift_id|    speed|stop_id|          timestamp|             trip_id|    date|  id|           long_name|    municipalities|municipality_id|district_id|district_name|  id|               name|prefix|region_id|region_name|\n",
            "+-------+--------------------+--------------+--------+---------+-------+---------+----------+--------+---------------------+------------+---------+-------+-------------------+--------------------+--------+----+--------------------+------------------+---------------+-----------+-------------+----+-------------------+------+---------+-----------+\n",
            "|    316|             1158-11| IN_TRANSIT_TO|  42|292|38.800488|   2730|-9.101742|  2730_0_1|  2730_0|            SCHEDULED|        1231|      0.0| 071435|2024-11-27 23:18:09|2730_0_1|1|1|2300...|20241127|2730|Estação Oriente -...|      [1106, 1107]|           1107|         11|       Lisboa|1107|             Loures|    07|    PT170|        AML|\n",
            "|    316|             1158-11| IN_TRANSIT_TO|  42|292|38.800488|   2730|-9.101742|  2730_0_1|  2730_0|            SCHEDULED|        1231|      0.0| 071435|2024-11-27 23:18:09|2730_0_1|1|1|2300...|20241127|2730|Estação Oriente -...|      [1106, 1107]|           1106|         11|       Lisboa|1106|             Lisboa|    06|    PT170|        AML|\n",
            "|    127|           1_1772-11|    STOPPED_AT| 41|1193|38.742252|   1231|-9.388058|  1231_0_1|  1231_0|            SCHEDULED|        1772|      0.0| 171117|2024-11-27 23:17:49|1231_0_1_1830_185...|20241127|1231|Mem Martins (Esc....|            [1111]|           1111|         11|       Lisboa|1111|             Sintra|    17|    PT170|        AML|\n",
            "|     12|             1744-11|   INCOMING_AT| 42|2756|38.874023|   2796| -9.07658|  2796_0_1|  2796_0|            SCHEDULED|        1793| 6.111111| 180482|2024-11-27 23:18:25|2796_0_1|1|1|2235...|20241127|2796|Lisboa (C. Grande...|[1106, 1107, 1114]|           1114|         11|       Lisboa|1114|Vila Franca de Xira|    18|    PT170|        AML|\n",
            "|     12|             1744-11|   INCOMING_AT| 42|2756|38.874023|   2796| -9.07658|  2796_0_1|  2796_0|            SCHEDULED|        1793| 6.111111| 180482|2024-11-27 23:18:25|2796_0_1|1|1|2235...|20241127|2796|Lisboa (C. Grande...|[1106, 1107, 1114]|           1107|         11|       Lisboa|1107|             Loures|    07|    PT170|        AML|\n",
            "|     12|             1744-11|   INCOMING_AT| 42|2756|38.874023|   2796| -9.07658|  2796_0_1|  2796_0|            SCHEDULED|        1793| 6.111111| 180482|2024-11-27 23:18:25|2796_0_1|1|1|2235...|20241127|2796|Lisboa (C. Grande...|[1106, 1107, 1114]|           1106|         11|       Lisboa|1106|             Lisboa|    06|    PT170|        AML|\n",
            "|    177|       ESC_DU_EU1052|    STOPPED_AT| 43|2386| 38.60741|   3526|-9.182125|  3526_0_1|  3526_0|            SCHEDULED|      EU1147|      0.0| 020975|2024-11-27 23:17:27|3526_0_1_2230_225...|20241127|3526|Laranjeiro - Pinh...|      [1503, 1510]|           1510|         15|      Setúbal|1510|             Seixal|    14|    PT170|        AML|\n",
            "|    177|       ESC_DU_EU1052|    STOPPED_AT| 43|2386| 38.60741|   3526|-9.182125|  3526_0_1|  3526_0|            SCHEDULED|      EU1147|      0.0| 020975|2024-11-27 23:17:27|3526_0_1_2230_225...|20241127|3526|Laranjeiro - Pinh...|      [1503, 1510]|           1503|         15|      Setúbal|1503|             Almada|    02|    PT170|        AML|\n",
            "|      1|20241127-64010053...| IN_TRANSIT_TO|44|12714| 38.73305|   4512|-8.972207|  4512_0_2|  4512_0|            SCHEDULED|121900234560|10.833333| 010086|2024-11-27 23:18:33|4512_0_2|2700|223...|20241127|NULL|                NULL|              NULL|           NULL|       NULL|         NULL|NULL|               NULL|  NULL|     NULL|       NULL|\n",
            "|    347|       ESC_DU_EU1021|   INCOMING_AT| 43|2339|38.639156|   3113| -9.09967|  3113_0_2|  3113_0|            SCHEDULED|      EU1151|5.5555553| 140580|2024-11-27 23:18:23|3113_0_2_2300_232...|20241127|3113|Fogueteiro (Estaç...|            [1510]|           1510|         15|      Setúbal|1510|             Seixal|    14|    PT170|        AML|\n",
            "|      0|       ESC_DU_EU1054|    STOPPED_AT| 43|2223|  38.6067|   3120|-9.094707|  3120_0_2|  3120_0|            SCHEDULED|      EU1175|      0.0| 140437|2024-11-27 23:18:26|3120_0_2_2230_225...|20241127|3120|Redondos - Seixal...|            [1510]|           1510|         15|      Setúbal|1510|             Seixal|    14|    PT170|        AML|\n",
            "|    241|             1713-11|    STOPPED_AT| 42|2752|38.902824|   2530|-9.076243|  2530_0_1|  2530_0|            SCHEDULED|        1768|      2.5| 071271|2024-11-27 23:18:31|2530_0_1|1|1|2300...|20241127|2530|Alverca (Estação)...|      [1114, 1107]|           1107|         11|       Lisboa|1107|             Loures|    07|    PT170|        AML|\n",
            "|    241|             1713-11|    STOPPED_AT| 42|2752|38.902824|   2530|-9.076243|  2530_0_1|  2530_0|            SCHEDULED|        1768|      2.5| 071271|2024-11-27 23:18:31|2530_0_1|1|1|2300...|20241127|2530|Alverca (Estação)...|      [1114, 1107]|           1114|         11|       Lisboa|1114|Vila Franca de Xira|    18|    PT170|        AML|\n",
            "|    126|UNAVAILABLE_BLOCK_ID|    STOPPED_AT| 41|1310| 38.74002|   1523|-9.268406|  1523_0_2|  1523_0|            SCHEDULED|        1220|      0.0| 170455|2024-11-27 23:17:49|1523_0_2_1930_195...|20241127|1523|Agualva-Cacém (Es...|      [1111, 1110]|           1110|         11|       Lisboa|1110|             Oeiras|    12|    PT170|        AML|\n",
            "|    126|UNAVAILABLE_BLOCK_ID|    STOPPED_AT| 41|1310| 38.74002|   1523|-9.268406|  1523_0_2|  1523_0|            SCHEDULED|        1220|      0.0| 170455|2024-11-27 23:17:49|1523_0_2_1930_195...|20241127|1523|Agualva-Cacém (Es...|      [1111, 1110]|           1111|         11|       Lisboa|1111|             Sintra|    17|    PT170|        AML|\n",
            "|    181|             1160-11|   INCOMING_AT|  42|295|38.806633|   2730|-9.101293|  2730_0_2|  2730_0|            SCHEDULED|        1204|      0.0| 071293|2024-11-27 23:18:09|2730_0_2|1|1|2300...|20241127|2730|Estação Oriente -...|      [1106, 1107]|           1107|         11|       Lisboa|1107|             Loures|    07|    PT170|        AML|\n",
            "|    181|             1160-11|   INCOMING_AT|  42|295|38.806633|   2730|-9.101293|  2730_0_2|  2730_0|            SCHEDULED|        1204|      0.0| 071293|2024-11-27 23:18:09|2730_0_2|1|1|2300...|20241127|2730|Estação Oriente -...|      [1106, 1107]|           1106|         11|       Lisboa|1106|             Lisboa|    06|    PT170|        AML|\n",
            "|    182|20241127-64010067...| IN_TRANSIT_TO|44|12533|38.649887|   4602|-9.040372|  4602_0_2|  4602_0|            SCHEDULED|121760234560|0.8333333| 090251|2024-11-27 23:18:33|4602_0_2|2700|230...|20241127|4602|Alhos Vedros (Est...|      [1506, 1504]|           1504|         15|      Setúbal|1504|           Barreiro|    04|    PT170|        AML|\n",
            "|    182|20241127-64010067...| IN_TRANSIT_TO|44|12533|38.649887|   4602|-9.040372|  4602_0_2|  4602_0|            SCHEDULED|121760234560|0.8333333| 090251|2024-11-27 23:18:33|4602_0_2|2700|230...|20241127|4602|Alhos Vedros (Est...|      [1506, 1504]|           1506|         15|      Setúbal|1506|              Moita|    09|    PT170|        AML|\n",
            "|    355|             1596-11| IN_TRANSIT_TO| 42|2596|38.767807|   2822|-9.198521|  2822_0_2|  2822_0|            SCHEDULED|        1652| 9.166667| 110691|2024-11-27 23:18:12|2822_0_2|1|1|2315...|20241127|2822|Odivelas (Metro) ...|      [1116, 1106]|           1106|         11|       Lisboa|1106|             Lisboa|    06|    PT170|        AML|\n",
            "+-------+--------------------+--------------+--------+---------+-------+---------+----------+--------+---------------------+------------+---------+-------+-------------------+--------------------+--------+----+--------------------+------------------+---------------+-----------+-------------+----+-------------------+------+---------+-----------+\n",
            "only showing top 20 rows\n",
            "\n"
          ]
        }
      ]
    },
    {
      "cell_type": "code",
      "source": [
        "vehicles_enriched = vehicles_enriched.select(\n",
        "    vehicles['*'],\n",
        "    lines_exploded['long_name'].alias('line_name'),\n",
        "    municipalities['name'].alias('municipality_name')\n",
        ")\n",
        "vehicles_enriched.show()\n"
      ],
      "metadata": {
        "id": "BD-CPg9n3ZE8",
        "outputId": "84b3bb3f-d7df-4994-b446-449535c4431b",
        "colab": {
          "base_uri": "https://localhost:8080/"
        }
      },
      "execution_count": 178,
      "outputs": [
        {
          "output_type": "stream",
          "name": "stdout",
          "text": [
            "+-------+--------------------+--------------+--------+---------+-------+---------+----------+--------+---------------------+------------+---------+-------+-------------------+--------------------+--------+--------------------+-------------------+\n",
            "|bearing|            block_id|current_status|      id| latitude|line_id|longitude|pattern_id|route_id|schedule_relationship|    shift_id|    speed|stop_id|          timestamp|             trip_id|    date|           line_name|  municipality_name|\n",
            "+-------+--------------------+--------------+--------+---------+-------+---------+----------+--------+---------------------+------------+---------+-------+-------------------+--------------------+--------+--------------------+-------------------+\n",
            "|    316|             1158-11| IN_TRANSIT_TO|  42|292|38.800488|   2730|-9.101742|  2730_0_1|  2730_0|            SCHEDULED|        1231|      0.0| 071435|2024-11-27 23:18:09|2730_0_1|1|1|2300...|20241127|Estação Oriente -...|             Loures|\n",
            "|    316|             1158-11| IN_TRANSIT_TO|  42|292|38.800488|   2730|-9.101742|  2730_0_1|  2730_0|            SCHEDULED|        1231|      0.0| 071435|2024-11-27 23:18:09|2730_0_1|1|1|2300...|20241127|Estação Oriente -...|             Lisboa|\n",
            "|    127|           1_1772-11|    STOPPED_AT| 41|1193|38.742252|   1231|-9.388058|  1231_0_1|  1231_0|            SCHEDULED|        1772|      0.0| 171117|2024-11-27 23:17:49|1231_0_1_1830_185...|20241127|Mem Martins (Esc....|             Sintra|\n",
            "|     12|             1744-11|   INCOMING_AT| 42|2756|38.874023|   2796| -9.07658|  2796_0_1|  2796_0|            SCHEDULED|        1793| 6.111111| 180482|2024-11-27 23:18:25|2796_0_1|1|1|2235...|20241127|Lisboa (C. Grande...|Vila Franca de Xira|\n",
            "|     12|             1744-11|   INCOMING_AT| 42|2756|38.874023|   2796| -9.07658|  2796_0_1|  2796_0|            SCHEDULED|        1793| 6.111111| 180482|2024-11-27 23:18:25|2796_0_1|1|1|2235...|20241127|Lisboa (C. Grande...|             Loures|\n",
            "|     12|             1744-11|   INCOMING_AT| 42|2756|38.874023|   2796| -9.07658|  2796_0_1|  2796_0|            SCHEDULED|        1793| 6.111111| 180482|2024-11-27 23:18:25|2796_0_1|1|1|2235...|20241127|Lisboa (C. Grande...|             Lisboa|\n",
            "|    177|       ESC_DU_EU1052|    STOPPED_AT| 43|2386| 38.60741|   3526|-9.182125|  3526_0_1|  3526_0|            SCHEDULED|      EU1147|      0.0| 020975|2024-11-27 23:17:27|3526_0_1_2230_225...|20241127|Laranjeiro - Pinh...|             Seixal|\n",
            "|    177|       ESC_DU_EU1052|    STOPPED_AT| 43|2386| 38.60741|   3526|-9.182125|  3526_0_1|  3526_0|            SCHEDULED|      EU1147|      0.0| 020975|2024-11-27 23:17:27|3526_0_1_2230_225...|20241127|Laranjeiro - Pinh...|             Almada|\n",
            "|      1|20241127-64010053...| IN_TRANSIT_TO|44|12714| 38.73305|   4512|-8.972207|  4512_0_2|  4512_0|            SCHEDULED|121900234560|10.833333| 010086|2024-11-27 23:18:33|4512_0_2|2700|223...|20241127|                NULL|               NULL|\n",
            "|    347|       ESC_DU_EU1021|   INCOMING_AT| 43|2339|38.639156|   3113| -9.09967|  3113_0_2|  3113_0|            SCHEDULED|      EU1151|5.5555553| 140580|2024-11-27 23:18:23|3113_0_2_2300_232...|20241127|Fogueteiro (Estaç...|             Seixal|\n",
            "|      0|       ESC_DU_EU1054|    STOPPED_AT| 43|2223|  38.6067|   3120|-9.094707|  3120_0_2|  3120_0|            SCHEDULED|      EU1175|      0.0| 140437|2024-11-27 23:18:26|3120_0_2_2230_225...|20241127|Redondos - Seixal...|             Seixal|\n",
            "|    241|             1713-11|    STOPPED_AT| 42|2752|38.902824|   2530|-9.076243|  2530_0_1|  2530_0|            SCHEDULED|        1768|      2.5| 071271|2024-11-27 23:18:31|2530_0_1|1|1|2300...|20241127|Alverca (Estação)...|             Loures|\n",
            "|    241|             1713-11|    STOPPED_AT| 42|2752|38.902824|   2530|-9.076243|  2530_0_1|  2530_0|            SCHEDULED|        1768|      2.5| 071271|2024-11-27 23:18:31|2530_0_1|1|1|2300...|20241127|Alverca (Estação)...|Vila Franca de Xira|\n",
            "|    126|UNAVAILABLE_BLOCK_ID|    STOPPED_AT| 41|1310| 38.74002|   1523|-9.268406|  1523_0_2|  1523_0|            SCHEDULED|        1220|      0.0| 170455|2024-11-27 23:17:49|1523_0_2_1930_195...|20241127|Agualva-Cacém (Es...|             Oeiras|\n",
            "|    126|UNAVAILABLE_BLOCK_ID|    STOPPED_AT| 41|1310| 38.74002|   1523|-9.268406|  1523_0_2|  1523_0|            SCHEDULED|        1220|      0.0| 170455|2024-11-27 23:17:49|1523_0_2_1930_195...|20241127|Agualva-Cacém (Es...|             Sintra|\n",
            "|    181|             1160-11|   INCOMING_AT|  42|295|38.806633|   2730|-9.101293|  2730_0_2|  2730_0|            SCHEDULED|        1204|      0.0| 071293|2024-11-27 23:18:09|2730_0_2|1|1|2300...|20241127|Estação Oriente -...|             Loures|\n",
            "|    181|             1160-11|   INCOMING_AT|  42|295|38.806633|   2730|-9.101293|  2730_0_2|  2730_0|            SCHEDULED|        1204|      0.0| 071293|2024-11-27 23:18:09|2730_0_2|1|1|2300...|20241127|Estação Oriente -...|             Lisboa|\n",
            "|    182|20241127-64010067...| IN_TRANSIT_TO|44|12533|38.649887|   4602|-9.040372|  4602_0_2|  4602_0|            SCHEDULED|121760234560|0.8333333| 090251|2024-11-27 23:18:33|4602_0_2|2700|230...|20241127|Alhos Vedros (Est...|           Barreiro|\n",
            "|    182|20241127-64010067...| IN_TRANSIT_TO|44|12533|38.649887|   4602|-9.040372|  4602_0_2|  4602_0|            SCHEDULED|121760234560|0.8333333| 090251|2024-11-27 23:18:33|4602_0_2|2700|230...|20241127|Alhos Vedros (Est...|              Moita|\n",
            "|    355|             1596-11| IN_TRANSIT_TO| 42|2596|38.767807|   2822|-9.198521|  2822_0_2|  2822_0|            SCHEDULED|        1652| 9.166667| 110691|2024-11-27 23:18:12|2822_0_2|1|1|2315...|20241127|Odivelas (Metro) ...|             Lisboa|\n",
            "+-------+--------------------+--------------+--------+---------+-------+---------+----------+--------+---------------------+------------+---------+-------+-------------------+--------------------+--------+--------------------+-------------------+\n",
            "only showing top 20 rows\n",
            "\n"
          ]
        }
      ]
    },
    {
      "cell_type": "code",
      "source": [
        "vehicles_enriched.select(\"date\").distinct().show()\n"
      ],
      "metadata": {
        "id": "doa9WjV_6S2j",
        "outputId": "246bec33-8692-4bd9-8884-eec16c5aeeec",
        "colab": {
          "base_uri": "https://localhost:8080/"
        }
      },
      "execution_count": 179,
      "outputs": [
        {
          "output_type": "stream",
          "name": "stdout",
          "text": [
            "+--------+\n",
            "|    date|\n",
            "+--------+\n",
            "|20241127|\n",
            "+--------+\n",
            "\n"
          ]
        }
      ]
    },
    {
      "cell_type": "code",
      "source": [
        "!mkdir -p /content/lake/gold"
      ],
      "metadata": {
        "id": "G0U6Ithl4vSQ"
      },
      "execution_count": 180,
      "outputs": []
    },
    {
      "cell_type": "code",
      "source": [
        "path_vehicles_enriched = \"/content/lake/gold/vehicles_enriched\""
      ],
      "metadata": {
        "id": "My7UE57443nD"
      },
      "execution_count": 181,
      "outputs": []
    },
    {
      "cell_type": "code",
      "source": [
        "# Gravar o DataFrame 'vehicles' particionado por 'date'\n",
        "(vehicles_enriched\n",
        ".coalesce(1)\n",
        ".write\n",
        ".mode(\"overwrite\")\n",
        ".partitionBy(\"date\")\n",
        ".format(\"parquet\")\n",
        ".save(path_vehicles_enriched)\n",
        ")"
      ],
      "metadata": {
        "id": "2fvfzQRs43ch"
      },
      "execution_count": 182,
      "outputs": []
    },
    {
      "cell_type": "code",
      "source": [
        "vehicles_enriched = spark.read.parquet(\"/content/lake/gold/vehicles_enriched\")\n",
        "vehicles_enriched.show()"
      ],
      "metadata": {
        "id": "_UwmIPsd7PFB",
        "outputId": "7f85f965-6da9-4bed-ade0-d1235b68a8cf",
        "colab": {
          "base_uri": "https://localhost:8080/"
        }
      },
      "execution_count": 184,
      "outputs": [
        {
          "output_type": "stream",
          "name": "stdout",
          "text": [
            "+-------+--------------------+--------------+--------+---------+-------+---------+----------+--------+---------------------+------------+---------+-------+-------------------+--------------------+--------------------+-------------------+--------+\n",
            "|bearing|            block_id|current_status|      id| latitude|line_id|longitude|pattern_id|route_id|schedule_relationship|    shift_id|    speed|stop_id|          timestamp|             trip_id|           line_name|  municipality_name|    date|\n",
            "+-------+--------------------+--------------+--------+---------+-------+---------+----------+--------+---------------------+------------+---------+-------+-------------------+--------------------+--------------------+-------------------+--------+\n",
            "|    316|             1158-11| IN_TRANSIT_TO|  42|292|38.800488|   2730|-9.101742|  2730_0_1|  2730_0|            SCHEDULED|        1231|      0.0| 071435|2024-11-27 23:18:09|2730_0_1|1|1|2300...|Estação Oriente -...|             Loures|20241127|\n",
            "|    316|             1158-11| IN_TRANSIT_TO|  42|292|38.800488|   2730|-9.101742|  2730_0_1|  2730_0|            SCHEDULED|        1231|      0.0| 071435|2024-11-27 23:18:09|2730_0_1|1|1|2300...|Estação Oriente -...|             Lisboa|20241127|\n",
            "|    127|           1_1772-11|    STOPPED_AT| 41|1193|38.742252|   1231|-9.388058|  1231_0_1|  1231_0|            SCHEDULED|        1772|      0.0| 171117|2024-11-27 23:17:49|1231_0_1_1830_185...|Mem Martins (Esc....|             Sintra|20241127|\n",
            "|     12|             1744-11|   INCOMING_AT| 42|2756|38.874023|   2796| -9.07658|  2796_0_1|  2796_0|            SCHEDULED|        1793| 6.111111| 180482|2024-11-27 23:18:25|2796_0_1|1|1|2235...|Lisboa (C. Grande...|Vila Franca de Xira|20241127|\n",
            "|     12|             1744-11|   INCOMING_AT| 42|2756|38.874023|   2796| -9.07658|  2796_0_1|  2796_0|            SCHEDULED|        1793| 6.111111| 180482|2024-11-27 23:18:25|2796_0_1|1|1|2235...|Lisboa (C. Grande...|             Loures|20241127|\n",
            "|     12|             1744-11|   INCOMING_AT| 42|2756|38.874023|   2796| -9.07658|  2796_0_1|  2796_0|            SCHEDULED|        1793| 6.111111| 180482|2024-11-27 23:18:25|2796_0_1|1|1|2235...|Lisboa (C. Grande...|             Lisboa|20241127|\n",
            "|    177|       ESC_DU_EU1052|    STOPPED_AT| 43|2386| 38.60741|   3526|-9.182125|  3526_0_1|  3526_0|            SCHEDULED|      EU1147|      0.0| 020975|2024-11-27 23:17:27|3526_0_1_2230_225...|Laranjeiro - Pinh...|             Seixal|20241127|\n",
            "|    177|       ESC_DU_EU1052|    STOPPED_AT| 43|2386| 38.60741|   3526|-9.182125|  3526_0_1|  3526_0|            SCHEDULED|      EU1147|      0.0| 020975|2024-11-27 23:17:27|3526_0_1_2230_225...|Laranjeiro - Pinh...|             Almada|20241127|\n",
            "|      1|20241127-64010053...| IN_TRANSIT_TO|44|12714| 38.73305|   4512|-8.972207|  4512_0_2|  4512_0|            SCHEDULED|121900234560|10.833333| 010086|2024-11-27 23:18:33|4512_0_2|2700|223...|                NULL|               NULL|20241127|\n",
            "|    347|       ESC_DU_EU1021|   INCOMING_AT| 43|2339|38.639156|   3113| -9.09967|  3113_0_2|  3113_0|            SCHEDULED|      EU1151|5.5555553| 140580|2024-11-27 23:18:23|3113_0_2_2300_232...|Fogueteiro (Estaç...|             Seixal|20241127|\n",
            "|      0|       ESC_DU_EU1054|    STOPPED_AT| 43|2223|  38.6067|   3120|-9.094707|  3120_0_2|  3120_0|            SCHEDULED|      EU1175|      0.0| 140437|2024-11-27 23:18:26|3120_0_2_2230_225...|Redondos - Seixal...|             Seixal|20241127|\n",
            "|    241|             1713-11|    STOPPED_AT| 42|2752|38.902824|   2530|-9.076243|  2530_0_1|  2530_0|            SCHEDULED|        1768|      2.5| 071271|2024-11-27 23:18:31|2530_0_1|1|1|2300...|Alverca (Estação)...|             Loures|20241127|\n",
            "|    241|             1713-11|    STOPPED_AT| 42|2752|38.902824|   2530|-9.076243|  2530_0_1|  2530_0|            SCHEDULED|        1768|      2.5| 071271|2024-11-27 23:18:31|2530_0_1|1|1|2300...|Alverca (Estação)...|Vila Franca de Xira|20241127|\n",
            "|    126|UNAVAILABLE_BLOCK_ID|    STOPPED_AT| 41|1310| 38.74002|   1523|-9.268406|  1523_0_2|  1523_0|            SCHEDULED|        1220|      0.0| 170455|2024-11-27 23:17:49|1523_0_2_1930_195...|Agualva-Cacém (Es...|             Oeiras|20241127|\n",
            "|    126|UNAVAILABLE_BLOCK_ID|    STOPPED_AT| 41|1310| 38.74002|   1523|-9.268406|  1523_0_2|  1523_0|            SCHEDULED|        1220|      0.0| 170455|2024-11-27 23:17:49|1523_0_2_1930_195...|Agualva-Cacém (Es...|             Sintra|20241127|\n",
            "|    181|             1160-11|   INCOMING_AT|  42|295|38.806633|   2730|-9.101293|  2730_0_2|  2730_0|            SCHEDULED|        1204|      0.0| 071293|2024-11-27 23:18:09|2730_0_2|1|1|2300...|Estação Oriente -...|             Loures|20241127|\n",
            "|    181|             1160-11|   INCOMING_AT|  42|295|38.806633|   2730|-9.101293|  2730_0_2|  2730_0|            SCHEDULED|        1204|      0.0| 071293|2024-11-27 23:18:09|2730_0_2|1|1|2300...|Estação Oriente -...|             Lisboa|20241127|\n",
            "|    182|20241127-64010067...| IN_TRANSIT_TO|44|12533|38.649887|   4602|-9.040372|  4602_0_2|  4602_0|            SCHEDULED|121760234560|0.8333333| 090251|2024-11-27 23:18:33|4602_0_2|2700|230...|Alhos Vedros (Est...|           Barreiro|20241127|\n",
            "|    182|20241127-64010067...| IN_TRANSIT_TO|44|12533|38.649887|   4602|-9.040372|  4602_0_2|  4602_0|            SCHEDULED|121760234560|0.8333333| 090251|2024-11-27 23:18:33|4602_0_2|2700|230...|Alhos Vedros (Est...|              Moita|20241127|\n",
            "|    355|             1596-11| IN_TRANSIT_TO| 42|2596|38.767807|   2822|-9.198521|  2822_0_2|  2822_0|            SCHEDULED|        1652| 9.166667| 110691|2024-11-27 23:18:12|2822_0_2|1|1|2315...|Odivelas (Metro) ...|             Lisboa|20241127|\n",
            "+-------+--------------------+--------------+--------+---------+-------+---------+----------+--------+---------------------+------------+---------+-------+-------------------+--------------------+--------------------+-------------------+--------+\n",
            "only showing top 20 rows\n",
            "\n"
          ]
        }
      ]
    }
  ],
  "metadata": {
    "colab": {
      "provenance": [],
      "include_colab_link": true
    },
    "kernelspec": {
      "display_name": "Python 3",
      "name": "python3"
    },
    "language_info": {
      "name": "python"
    }
  },
  "nbformat": 4,
  "nbformat_minor": 0
}