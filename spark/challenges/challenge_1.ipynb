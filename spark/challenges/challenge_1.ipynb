{
  "cells": [
    {
      "cell_type": "markdown",
      "metadata": {
        "id": "view-in-github",
        "colab_type": "text"
      },
      "source": [
        "<a href=\"https://colab.research.google.com/github/anaferreira744/DE-DP-ADF/blob/main/spark/challenges/challenge_1.ipynb\" target=\"_parent\"><img src=\"https://colab.research.google.com/assets/colab-badge.svg\" alt=\"Open In Colab\"/></a>"
      ]
    },
    {
      "cell_type": "markdown",
      "source": [],
      "metadata": {
        "id": "IwdttUPpVBGd"
      }
    },
    {
      "cell_type": "markdown",
      "metadata": {
        "id": "BOA_wQSmLd9z"
      },
      "source": [
        "# CHALLENGE 1\n",
        "##  Implement INGESTION process\n",
        "- Set up path in the \"lake\"\n",
        "  - !mkdir -p /content/lake/bronze\n",
        "\n",
        "- Read data from API https://api.carrismetropolitana.pt/\n",
        "  - Endpoints:\n",
        "    - vehicles\n",
        "    - lines\n",
        "    - municipalities\n",
        "  - Use StructFields to enforce schema\n",
        "\n",
        "- Transformations\n",
        "  - vehicles\n",
        "    - create \"date\" extracted from \"timestamp\" column (format: hh24miss)\n",
        "\n",
        "- Write data as PARQUET into the BRONZE layer (/content/lake/bronze)\n",
        "  - Partition \"vehicles\" by \"date\" column\n",
        "  - Paths:\n",
        "    - vehicles - path: /content/lake/bronze/vehicles\n",
        "    - lines - path: /content/lake/bronze/lines\n",
        "    - municipalities - path: /content/lake/bronze/municipalities\n",
        "  - Make sure there is only 1 single parquet created\n",
        "  - Use overwrite as write mode"
      ]
    },
    {
      "cell_type": "markdown",
      "metadata": {
        "id": "d9LeYFsPTjAb"
      },
      "source": [
        "# Setting up PySpark"
      ]
    },
    {
      "cell_type": "code",
      "execution_count": 4,
      "metadata": {
        "colab": {
          "base_uri": "https://localhost:8080/"
        },
        "id": "uYXeODL0T1fO",
        "outputId": "7c2d681c-d7ae-4a10-cc2d-8886169a0906"
      },
      "outputs": [
        {
          "output_type": "stream",
          "name": "stdout",
          "text": [
            "Requirement already satisfied: pyspark in /usr/local/lib/python3.10/dist-packages (3.5.3)\n",
            "Requirement already satisfied: py4j==0.10.9.7 in /usr/local/lib/python3.10/dist-packages (from pyspark) (0.10.9.7)\n",
            "Requirement already satisfied: requests in /usr/local/lib/python3.10/dist-packages (2.32.3)\n",
            "Requirement already satisfied: charset-normalizer<4,>=2 in /usr/local/lib/python3.10/dist-packages (from requests) (3.4.0)\n",
            "Requirement already satisfied: idna<4,>=2.5 in /usr/local/lib/python3.10/dist-packages (from requests) (3.10)\n",
            "Requirement already satisfied: urllib3<3,>=1.21.1 in /usr/local/lib/python3.10/dist-packages (from requests) (2.2.3)\n",
            "Requirement already satisfied: certifi>=2017.4.17 in /usr/local/lib/python3.10/dist-packages (from requests) (2024.8.30)\n"
          ]
        }
      ],
      "source": [
        "%pip install pyspark"
      ]
    },
    {
      "cell_type": "code",
      "source": [
        "import requests\n",
        "from pyspark.sql import SparkSession\n",
        "from pyspark.sql.functions import udf, explode, lit\n",
        "from pyspark.sql.types import ArrayType, StructType, StructField, StringType, IntegerType, FloatType, TimestampType\n"
      ],
      "metadata": {
        "id": "OGXGTlvwfsy_"
      },
      "execution_count": 9,
      "outputs": []
    },
    {
      "cell_type": "code",
      "source": [
        "\n",
        "spark = SparkSession.builder.master('local').appName('Challenge_AF').config('spark.ui.port', '4050').getOrCreate()\n",
        "sc = spark.sparkContext"
      ],
      "metadata": {
        "id": "Y-bvPBvjimDp"
      },
      "execution_count": 45,
      "outputs": []
    },
    {
      "cell_type": "code",
      "source": [
        "import requests\n",
        "from pyspark.sql.types import *\n",
        "\n",
        "def readFromAPI(url: str, schema: StructType = None):\n",
        "  response = requests.get(url)\n",
        "  rdd = sc.parallelize(response.json())\n",
        "\n",
        "  if schema:\n",
        "    df = spark.read.schema(schema).json(rdd)\n",
        "  else:\n",
        "    df = spark.read.json(rdd)\n",
        "  return df\n",
        "\n"
      ],
      "metadata": {
        "id": "9LYyBohYit8P"
      },
      "execution_count": 46,
      "outputs": []
    },
    {
      "cell_type": "code",
      "source": [
        "\n",
        "vehicle_schema = StructType([StructField('bearing', IntegerType(), True),\n",
        "                             StructField('block_id', StringType(), True),\n",
        "                             StructField('current_status', StringType(), True),\n",
        "                             StructField('id', StringType(), True),\n",
        "                             StructField('lat', FloatType(), True),\n",
        "                             StructField('line_id', StringType(), True),\n",
        "                             StructField('lon', FloatType(), True),\n",
        "                             StructField('pattern_id', StringType(), True),\n",
        "                             StructField('route_id', StringType(), True),\n",
        "                             StructField('schedule_relationship', StringType(), True),\n",
        "                             StructField('shift_id', StringType(), True),\n",
        "                             StructField('speed', FloatType(), True),\n",
        "                             StructField('stop_id', StringType(), True),\n",
        "                             StructField('timestamp', TimestampType(), True),\n",
        "                             StructField('trip_id', StringType(), True)])\n",
        "\n",
        "vehicles = readFromAPI(\"https://api.carrismetropolitana.pt/vehicles\", vehicle_schema)\n",
        "print(vehicles.count())\n",
        "vehicles.show()"
      ],
      "metadata": {
        "id": "ySUjia_Bi1hJ",
        "outputId": "5041238a-b4f6-4479-f7ac-ae69d3bb85a8",
        "colab": {
          "base_uri": "https://localhost:8080/"
        }
      },
      "execution_count": 47,
      "outputs": [
        {
          "output_type": "stream",
          "name": "stdout",
          "text": [
            "324\n",
            "+-------+--------------------+--------------+--------+---------+-------+---------+----------+--------+---------------------+------------+---------+-------+-------------------+--------------------+\n",
            "|bearing|            block_id|current_status|      id|      lat|line_id|      lon|pattern_id|route_id|schedule_relationship|    shift_id|    speed|stop_id|          timestamp|             trip_id|\n",
            "+-------+--------------------+--------------+--------+---------+-------+---------+----------+--------+---------------------+------------+---------+-------+-------------------+--------------------+\n",
            "|    170|20241122-64010155...| IN_TRANSIT_TO|44|12703|38.767754|   4710| -9.10039|  4710_0_1|  4710_0|            SCHEDULED|113270234560|      0.0| 060009|2024-11-22 21:57:41|4710_0_1|2200|220...|\n",
            "|     51|20241122-64010054...|   INCOMING_AT|44|12645|38.709724|   4504| -8.92177|  4504_0_1|  4504_0|            SCHEDULED|121890234560|13.611111| 010112|2024-11-22 21:57:51|4504_0_1|2200|213...|\n",
            "|    265|20241122-64010153...|    STOPPED_AT|44|12706|38.631508|   4715|-8.916297|  4715_0_1|  4715_0|            SCHEDULED|113280234560|      0.0| 130227|2024-11-22 21:57:49|4715_0_1|2200|213...|\n",
            "|    169|20241122-64010003...|   INCOMING_AT|44|12652|38.696213|   4704|-8.928848|  4704_0_2|  4704_0|            SCHEDULED|123440234560|13.611111| 100171|2024-11-22 21:57:15|4704_0_2|2200|212...|\n",
            "|     21|20241122-64010458...| IN_TRANSIT_TO|44|12634| 38.53001|   4404|-8.885825|  4404_0_3|  4404_0|            SCHEDULED|112520234560|      0.0| 160201|2024-11-22 21:57:40|4404_0_3|2200|220...|\n",
            "|    189|20241122-64010196...|   INCOMING_AT|44|12631| 38.52659|   4422|-8.912737|  4422_0_1|  4422_0|            SCHEDULED|112540234560|      0.0| 160451|2024-11-22 21:56:44|4422_0_1|2200|213...|\n",
            "|    208|20241122-64010049...| IN_TRANSIT_TO|44|12520|38.704514|   4517|-8.975063|  4517_0_2|  4517_0|            SCHEDULED|121940234560|      5.0| 100013|2024-11-22 21:57:44|4517_0_2|2200|210...|\n",
            "|     78|             1141-11|   INCOMING_AT| 42|2315|38.799526|   2790| -9.10047|  2790_0_2|  2790_0|            SCHEDULED|        1236|15.555555| 070757|2024-11-22 21:57:46|2790_0_2|1|1|2130...|\n",
            "|      0|             1159-11|    STOPPED_AT| 42|2304|38.810585|   2730|-9.100717|  2730_0_2|  2730_0|            SCHEDULED|        1269|      0.0| 071249|2024-11-22 21:57:50|2730_0_2|1|1|2140...|\n",
            "|    133|             1164-11|   INCOMING_AT| 42|2007|38.855637|   2335|-9.076955|  2335_0_3|  2335_0|            SCHEDULED|        1226| 6.388889| 180683|2024-11-22 21:57:06|2335_0_3|1|1|2140...|\n",
            "|    313|20241122-64010148...| IN_TRANSIT_TO|44|12741| 38.74123|   4730|-9.167945|  4730_0_1|  4730_0|            SCHEDULED|113350234560|      0.0| 060458|2024-11-22 21:57:38|4730_0_1|2200|220...|\n",
            "|    269|20241122-64010066...| IN_TRANSIT_TO|44|12525|38.705677|   4600|-8.976352|  4600_0_2|  4600_0|            SCHEDULED|121770234560|      0.0| 100013|2024-11-22 21:57:42|4600_0_2|2200|210...|\n",
            "|    218|20241122-64010339...| IN_TRANSIT_TO|44|12561|38.519653|   4410| -8.84897|  4410_0_2|  4410_0|            SCHEDULED|112550234560|      0.0| 160050|2024-11-22 21:57:41|4410_0_2|2200|211...|\n",
            "|    159|20241122-64010070...|   INCOMING_AT|44|12589|38.653004|   4513|  -8.9178|  4513_0_1|  4513_0|            SCHEDULED|121730234560|     17.5| 130445|2024-11-22 21:57:42|4513_0_1|2200|212...|\n",
            "|    221|       ESC_DU_EU2025| IN_TRANSIT_TO| 43|2124| 38.67059|   3701|-9.157765|  3701_0_1|  3701_0|            SCHEDULED|      EU2233|      7.5| 020069|2024-11-22 21:57:27|3701_0_1_2130_215...|\n",
            "|    342|             1515-11|   INCOMING_AT| 42|2212| 38.79171|   2523| -9.17698|  2523_0_1|  2523_0|            SCHEDULED|        1642|5.8333335| 110407|2024-11-22 21:57:50|2523_0_1|1|1|2155...|\n",
            "|      0|           1_1402-11|    STOPPED_AT| 41|1169|38.729248|   1610| -9.30993|  1610_0_1|  1610_0|            SCHEDULED|        1501|      0.0| 121175|2024-11-22 21:57:39|1610_0_1_2130_215...|\n",
            "|    172|             1047-11| IN_TRANSIT_TO| 42|2329|38.793076|   2713|-9.103956|  2713_0_3|  2713_0|            SCHEDULED|        1210|7.7777777| 071276|2024-11-22 21:57:45|2713_0_3|1|1|2115...|\n",
            "|    226|           1_1415-11| IN_TRANSIT_TO| 41|1174| 38.74137|   1617|-9.305616|  1617_0_1|  1617_0|            SCHEDULED|        1490|4.4444447| 121103|2024-11-22 21:57:38|1617_0_1_2130_215...|\n",
            "|    303|             1596-11|   INCOMING_AT| 42|2596|38.776028|   2822|-9.197241|  2822_0_1|  2822_0|            SCHEDULED|        1652| 9.444445| 110832|2024-11-22 21:57:44|2822_0_1|1|1|2145...|\n",
            "+-------+--------------------+--------------+--------+---------+-------+---------+----------+--------+---------------------+------------+---------+-------+-------------------+--------------------+\n",
            "only showing top 20 rows\n",
            "\n"
          ]
        }
      ]
    },
    {
      "cell_type": "code",
      "source": [
        "#corrigir este schema\n",
        "lines_schema = StructType([\n",
        "    StructField(\"color\", StringType(), True),\n",
        "    StructField(\"facilities\", ArrayType(StringType()), True), # Specify elementType as StringType\n",
        "    StructField(\"id\", StringType(), True),\n",
        "    StructField(\"localities\", ArrayType(StringType()), True), # Specify elementType as StringType\n",
        "    StructField(\"long_name\", StringType(), True),\n",
        "    StructField(\"municipalities\", ArrayType(StringType()), True),\n",
        "    StructField(\"patterns\", ArrayType(StringType()), True),\n",
        "    StructField(\"routes\", ArrayType(StringType()), True),\n",
        "    StructField(\"short_name\", StringType(), True),\n",
        "    StructField(\"text_color\", StringType(), True)\n",
        "])\n",
        "\n",
        "\n",
        "lines = readFromAPI(\"https://api.carrismetropolitana.pt/lines\", lines_schema)\n",
        "print(lines.count())\n",
        "lines.show()\n",
        "\n"
      ],
      "metadata": {
        "id": "4bk75NkafvxT",
        "outputId": "4ef95852-ae84-426c-e172-1077c0337e8b",
        "colab": {
          "base_uri": "https://localhost:8080/"
        }
      },
      "execution_count": 52,
      "outputs": [
        {
          "output_type": "stream",
          "name": "stdout",
          "text": [
            "723\n",
            "+--------------------+-------+----------+----+--------------------+--------------------+--------------+--------------------+--------------------+----------+----------+\n",
            "|     _corrupt_record|  color|facilities|  id|          localities|           long_name|municipalities|            patterns|              routes|short_name|text_color|\n",
            "+--------------------+-------+----------+----+--------------------+--------------------+--------------+--------------------+--------------------+----------+----------+\n",
            "|                NULL|#C61D23|        []|1001|[Alfragide, Amado...|Alfragide (Estr S...|        [1115]|[1001_0_1, 1001_0_2]|            [1001_0]|      1001|   #FFFFFF|\n",
            "|                NULL|#C61D23|        []|1002|[Reboleira, Amado...|Reboleira (Estaçã...|        [1115]|          [1002_0_3]|            [1002_0]|      1002|   #FFFFFF|\n",
            "|                NULL|#C61D23|        []|1003|[Amadora, Amadora...|Amadora (Estação ...|        [1115]|[1003_0_1, 1003_0_2]|            [1003_0]|      1003|   #FFFFFF|\n",
            "|                NULL|#C61D23|        []|1004|[Amadora, Moinhos...|Amadora (Estação ...|        [1115]|          [1004_0_3]|            [1004_0]|      1004|   #FFFFFF|\n",
            "|                NULL|#C61D23|        []|1005|[Amadora, Casal d...|Amadora (Estação ...|        [1115]|[1005_0_1, 1005_0...|[1005_0, 1005_1, ...|      1005|   #FFFFFF|\n",
            "|                NULL|#C61D23|        []|1006|[Amadora, Moinhos...|Amadora (Estação ...|        [1115]|[1006_0_1, 1006_0...|    [1006_0, 1006_1]|      1006|   #FFFFFF|\n",
            "|{'color': '#3D85C...|#3D85C6|        []|1008|                NULL|Amadora Este (Met...|        [1115]|          [1008_0_3]|            [1008_0]|      1008|   #FFFFFF|\n",
            "|                NULL|#3D85C6|        []|1009|   [Amadora, Sintra]|Amadora (Hospital...|  [1115, 1111]|          [1009_0_3]|            [1009_0]|      1009|   #FFFFFF|\n",
            "|                NULL|#C61D23|        []|1010|[Brandoa, Amadora...|Brandoa (Pólo Esc...|        [1115]|[1010_0_1, 1010_0_2]|            [1010_0]|      1010|   #FFFFFF|\n",
            "|                NULL|#C61D23|        []|1011|[Brandoa, Amadora...|Brandoa (Largo) -...|        [1115]|[1011_0_1, 1011_0...|    [1011_0, 1011_1]|      1011|   #FFFFFF|\n",
            "|                NULL|#3D85C6|        []|1012|[Amadora, Brandoa...|Alfornelos Metro ...|        [1115]|          [1012_0_3]|            [1012_0]|      1012|   #FFFFFF|\n",
            "|                NULL|#C61D23|        []|1013|  [Amadora, Atalaia]|Amadora (Cemitéri...|        [1115]|[1013_0_1, 1013_0_2]|            [1013_0]|      1013|   #FFFFFF|\n",
            "|                NULL|#C61D23|        []|1014|[Amadora, Rebolei...|Amadora (Cemitéri...|        [1115]|[1014_0_1, 1014_0_2]|            [1014_0]|      1014|   #FFFFFF|\n",
            "|                NULL|#3D85C6|        []|1015|[Reboleira, Amado...|Reboleira (Estaçã...|        [1115]|          [1015_0_3]|            [1015_0]|      1015|   #FFFFFF|\n",
            "|                NULL|#C61D23|        []|1101|[Alfragide, Oeira...|Alfragide (Centro...|        [1110]|[1101_0_1, 1101_0...|    [1101_0, 1101_1]|      1101|   #FFFFFF|\n",
            "|                NULL|#C61D23|        []|1103|[Algés, Oeiras, Q...|Algés (Estação) -...|        [1110]|[1103_0_1, 1103_0_2]|            [1103_0]|      1103|   #FFFFFF|\n",
            "|                NULL|#C61D23|        []|1105|[Algés, Oeiras, M...|Algés (Estação) -...|        [1110]|[1105_0_1, 1105_0...|    [1105_0, 1105_1]|      1105|   #FFFFFF|\n",
            "|                NULL|#C61D23|        []|1106|[Queluz Baixo, Oe...|Queluz Baixo (Cen...|        [1110]|[1106_0_2, 1106_1...|    [1106_0, 1106_1]|      1106|   #FFFFFF|\n",
            "|                NULL|#C61D23|        []|1107|[Algés, Oeiras, Q...|Algés (Estação) -...|        [1110]|[1107_0_1, 1107_0_2]|            [1107_0]|      1107|   #FFFFFF|\n",
            "|                NULL|#3D85C6|        []|1109|[Carnaxide, Oeira...|Carnaxide via Out...|        [1110]|          [1109_0_3]|            [1109_0]|      1109|   #FFFFFF|\n",
            "+--------------------+-------+----------+----+--------------------+--------------------+--------------+--------------------+--------------------+----------+----------+\n",
            "only showing top 20 rows\n",
            "\n"
          ]
        }
      ]
    },
    {
      "cell_type": "code",
      "source": [
        "municipalities_schema = StructType([\n",
        "    StructField(\"district_id\", StringType(), True),\n",
        "    StructField(\"district_name\", StringType(), True),\n",
        "    StructField(\"id\", StringType(), True),\n",
        "    StructField(\"name\", StringType(), True),\n",
        "    StructField(\"prefix\", StringType(), True),\n",
        "    StructField(\"region_id\", StringType(), True),\n",
        "    StructField(\"region_name\", StringType(), True)\n",
        "\n",
        "])\n",
        "\n",
        "municipalities = readFromAPI(\"https://api.carrismetropolitana.pt/municipalities\", municipalities_schema)\n",
        "print(municipalities.count())\n",
        "municipalities.show()"
      ],
      "metadata": {
        "id": "CkwlGeltjLnk",
        "outputId": "d92042ed-388b-46b7-9fb2-e4d79a143237",
        "colab": {
          "base_uri": "https://localhost:8080/"
        }
      },
      "execution_count": 49,
      "outputs": [
        {
          "output_type": "stream",
          "name": "stdout",
          "text": [
            "23\n",
            "+-----------+-------------+----+--------------------+------+---------+----------------+\n",
            "|district_id|district_name|  id|                name|prefix|region_id|     region_name|\n",
            "+-----------+-------------+----+--------------------+------+---------+----------------+\n",
            "|         07|        Évora|0712|        Vendas Novas|    19|    PT187|Alentejo Central|\n",
            "|         11|       Lisboa|1101|            Alenquer|    20|    PT16B|           Oeste|\n",
            "|         11|       Lisboa|1102|   Arruda dos Vinhos|    20|    PT16B|           Oeste|\n",
            "|         11|       Lisboa|1105|             Cascais|    05|    PT170|             AML|\n",
            "|         11|       Lisboa|1106|              Lisboa|    06|    PT170|             AML|\n",
            "|         11|       Lisboa|1107|              Loures|    07|    PT170|             AML|\n",
            "|         11|       Lisboa|1109|               Mafra|    08|    PT170|             AML|\n",
            "|         11|       Lisboa|1110|              Oeiras|    12|    PT170|             AML|\n",
            "|         11|       Lisboa|1111|              Sintra|    17|    PT170|             AML|\n",
            "|         11|       Lisboa|1112|Sobral de Monte A...|    20|    PT16B|           Oeste|\n",
            "|         11|       Lisboa|1113|       Torres Vedras|    20|    PT16B|           Oeste|\n",
            "|         11|       Lisboa|1114| Vila Franca de Xira|    18|    PT170|             AML|\n",
            "|         11|       Lisboa|1115|             Amadora|    03|    PT170|             AML|\n",
            "|         11|       Lisboa|1116|            Odivelas|    11|    PT170|             AML|\n",
            "|         15|      Setúbal|1502|           Alcochete|    01|    PT170|             AML|\n",
            "|         15|      Setúbal|1503|              Almada|    02|    PT170|             AML|\n",
            "|         15|      Setúbal|1504|            Barreiro|    04|    PT170|             AML|\n",
            "|         15|      Setúbal|1506|               Moita|    09|    PT170|             AML|\n",
            "|         15|      Setúbal|1507|             Montijo|    10|    PT170|             AML|\n",
            "|         15|      Setúbal|1508|             Palmela|    13|    PT170|             AML|\n",
            "+-----------+-------------+----+--------------------+------+---------+----------------+\n",
            "only showing top 20 rows\n",
            "\n"
          ]
        }
      ]
    },
    {
      "cell_type": "code",
      "source": [
        "# transformations\n",
        "from pyspark.sql.functions import to_date, date_format\n",
        "df = vehicles.withColumn(\"date\", date_format(\"timestamp\", \"yyyyMMdd\"))\n",
        "\n",
        "df.show()"
      ],
      "metadata": {
        "id": "LPoFNLZlkLso",
        "outputId": "c19d76dc-346a-4212-89e8-22cfad4651aa",
        "colab": {
          "base_uri": "https://localhost:8080/"
        }
      },
      "execution_count": 50,
      "outputs": [
        {
          "output_type": "stream",
          "name": "stdout",
          "text": [
            "+-------+--------------------+--------------+--------+---------+-------+---------+----------+--------+---------------------+------------+---------+-------+-------------------+--------------------+--------+\n",
            "|bearing|            block_id|current_status|      id|      lat|line_id|      lon|pattern_id|route_id|schedule_relationship|    shift_id|    speed|stop_id|          timestamp|             trip_id|    date|\n",
            "+-------+--------------------+--------------+--------+---------+-------+---------+----------+--------+---------------------+------------+---------+-------+-------------------+--------------------+--------+\n",
            "|    170|20241122-64010155...| IN_TRANSIT_TO|44|12703|38.767754|   4710| -9.10039|  4710_0_1|  4710_0|            SCHEDULED|113270234560|      0.0| 060009|2024-11-22 21:57:41|4710_0_1|2200|220...|20241122|\n",
            "|     51|20241122-64010054...|   INCOMING_AT|44|12645|38.709724|   4504| -8.92177|  4504_0_1|  4504_0|            SCHEDULED|121890234560|13.611111| 010112|2024-11-22 21:57:51|4504_0_1|2200|213...|20241122|\n",
            "|    265|20241122-64010153...|    STOPPED_AT|44|12706|38.631508|   4715|-8.916297|  4715_0_1|  4715_0|            SCHEDULED|113280234560|      0.0| 130227|2024-11-22 21:57:49|4715_0_1|2200|213...|20241122|\n",
            "|    169|20241122-64010003...|   INCOMING_AT|44|12652|38.696213|   4704|-8.928848|  4704_0_2|  4704_0|            SCHEDULED|123440234560|13.611111| 100171|2024-11-22 21:57:15|4704_0_2|2200|212...|20241122|\n",
            "|     21|20241122-64010458...| IN_TRANSIT_TO|44|12634| 38.53001|   4404|-8.885825|  4404_0_3|  4404_0|            SCHEDULED|112520234560|      0.0| 160201|2024-11-22 21:57:40|4404_0_3|2200|220...|20241122|\n",
            "|    189|20241122-64010196...|   INCOMING_AT|44|12631| 38.52659|   4422|-8.912737|  4422_0_1|  4422_0|            SCHEDULED|112540234560|      0.0| 160451|2024-11-22 21:56:44|4422_0_1|2200|213...|20241122|\n",
            "|    208|20241122-64010049...| IN_TRANSIT_TO|44|12520|38.704514|   4517|-8.975063|  4517_0_2|  4517_0|            SCHEDULED|121940234560|      5.0| 100013|2024-11-22 21:57:44|4517_0_2|2200|210...|20241122|\n",
            "|     78|             1141-11|   INCOMING_AT| 42|2315|38.799526|   2790| -9.10047|  2790_0_2|  2790_0|            SCHEDULED|        1236|15.555555| 070757|2024-11-22 21:57:46|2790_0_2|1|1|2130...|20241122|\n",
            "|      0|             1159-11|    STOPPED_AT| 42|2304|38.810585|   2730|-9.100717|  2730_0_2|  2730_0|            SCHEDULED|        1269|      0.0| 071249|2024-11-22 21:57:50|2730_0_2|1|1|2140...|20241122|\n",
            "|    133|             1164-11|   INCOMING_AT| 42|2007|38.855637|   2335|-9.076955|  2335_0_3|  2335_0|            SCHEDULED|        1226| 6.388889| 180683|2024-11-22 21:57:06|2335_0_3|1|1|2140...|20241122|\n",
            "|    313|20241122-64010148...| IN_TRANSIT_TO|44|12741| 38.74123|   4730|-9.167945|  4730_0_1|  4730_0|            SCHEDULED|113350234560|      0.0| 060458|2024-11-22 21:57:38|4730_0_1|2200|220...|20241122|\n",
            "|    269|20241122-64010066...| IN_TRANSIT_TO|44|12525|38.705677|   4600|-8.976352|  4600_0_2|  4600_0|            SCHEDULED|121770234560|      0.0| 100013|2024-11-22 21:57:42|4600_0_2|2200|210...|20241122|\n",
            "|    218|20241122-64010339...| IN_TRANSIT_TO|44|12561|38.519653|   4410| -8.84897|  4410_0_2|  4410_0|            SCHEDULED|112550234560|      0.0| 160050|2024-11-22 21:57:41|4410_0_2|2200|211...|20241122|\n",
            "|    159|20241122-64010070...|   INCOMING_AT|44|12589|38.653004|   4513|  -8.9178|  4513_0_1|  4513_0|            SCHEDULED|121730234560|     17.5| 130445|2024-11-22 21:57:42|4513_0_1|2200|212...|20241122|\n",
            "|    221|       ESC_DU_EU2025| IN_TRANSIT_TO| 43|2124| 38.67059|   3701|-9.157765|  3701_0_1|  3701_0|            SCHEDULED|      EU2233|      7.5| 020069|2024-11-22 21:57:27|3701_0_1_2130_215...|20241122|\n",
            "|    342|             1515-11|   INCOMING_AT| 42|2212| 38.79171|   2523| -9.17698|  2523_0_1|  2523_0|            SCHEDULED|        1642|5.8333335| 110407|2024-11-22 21:57:50|2523_0_1|1|1|2155...|20241122|\n",
            "|      0|           1_1402-11|    STOPPED_AT| 41|1169|38.729248|   1610| -9.30993|  1610_0_1|  1610_0|            SCHEDULED|        1501|      0.0| 121175|2024-11-22 21:57:39|1610_0_1_2130_215...|20241122|\n",
            "|    172|             1047-11| IN_TRANSIT_TO| 42|2329|38.793076|   2713|-9.103956|  2713_0_3|  2713_0|            SCHEDULED|        1210|7.7777777| 071276|2024-11-22 21:57:45|2713_0_3|1|1|2115...|20241122|\n",
            "|    226|           1_1415-11| IN_TRANSIT_TO| 41|1174| 38.74137|   1617|-9.305616|  1617_0_1|  1617_0|            SCHEDULED|        1490|4.4444447| 121103|2024-11-22 21:57:38|1617_0_1_2130_215...|20241122|\n",
            "|    303|             1596-11|   INCOMING_AT| 42|2596|38.776028|   2822|-9.197241|  2822_0_1|  2822_0|            SCHEDULED|        1652| 9.444445| 110832|2024-11-22 21:57:44|2822_0_1|1|1|2145...|20241122|\n",
            "+-------+--------------------+--------------+--------+---------+-------+---------+----------+--------+---------------------+------------+---------+-------+-------------------+--------------------+--------+\n",
            "only showing top 20 rows\n",
            "\n"
          ]
        }
      ]
    },
    {
      "cell_type": "markdown",
      "source": [
        "Write data as PARQUET into the BRONZE layer (/content/lake/bronze)\n",
        "\n",
        "Partition \"vehicles\" by \"date\" column\n",
        "\n",
        "Paths:\n",
        "vehicles - path: /content/lake/bronze/vehicles\n",
        "\n",
        "lines - path: /content/lake/bronze/lines\n",
        "\n",
        "municipalities - path: /content/lake/bronze/municipalities\n",
        "\n",
        "Make sure there is only 1 single parquet created\n",
        "Use overwrite as write mode"
      ],
      "metadata": {
        "id": "tUwxdmXHxrt2"
      }
    },
    {
      "cell_type": "markdown",
      "source": [],
      "metadata": {
        "id": "bl_trGWHxtDx"
      }
    },
    {
      "cell_type": "code",
      "source": [
        "from pyspark.sql.functions import date_format\n",
        "\n",
        "# Define paths for bronze layer\n",
        "vehicle_path = \"/content/lake/bronze/vehicles\"\n",
        "lines_path = \"/content/lake/bronze/lines\"\n",
        "municipalities_path = \"/content/lake/bronze/municipalities\"\n",
        "\n",
        "# Assume `vehicles` DataFrame is preloaded with required data\n",
        "# Create a partition column from the timestamp\n",
        "df = vehicles.withColumn(\"date\", date_format(\"timestamp\", \"yyyyMMdd\"))\n",
        "\n",
        "# Configure Spark to use dynamic partition overwrite\n",
        "spark.conf.set(\"spark.sql.sources.partitionOverwriteMode\", \"dynamic\")\n",
        "\n",
        "# Gravar o DataFrame 'vehicles' particionado por 'date'\n",
        "(vehicles.coalesce(1)  # Garante apenas um arquivo por partição\n",
        "   .write\n",
        "   .mode(\"overwrite\")  # Sobrescreve dados existentes\n",
        "   .partitionBy(\"date\")  # Particiona os dados pela coluna 'date'\n",
        "   .format(\"parquet\")  # Formato Parquet\n",
        "   .save(vehicle_path))  # Caminho para salvar\n",
        "\n",
        "# Gravar o DataFrame 'lines' sem particionamento\n",
        "(lines.coalesce(1)  # Consolidar em um único arquivo\n",
        "   .write\n",
        "   .mode(\"overwrite\")  # Sobrescreve dados existentes\n",
        "   .format(\"parquet\")  # Formato Parquet\n",
        "   .save(lines_path))  # Caminho para salvar\n",
        "\n",
        "# Gravar o DataFrame 'municipalities' sem particionamento\n",
        "(municipalities.coalesce(1)  # Consolidar em um único arquivo\n",
        "   .write\n",
        "   .mode(\"overwrite\")  # Sobrescreve dados existentes\n",
        "   .format(\"parquet\")  # Formato Parquet\n",
        "   .save(municipalities_path))  # Caminho para salvar\n",
        "# List the content of the target directory to verify the files\n",
        "!ls /content/lake/bronze/vehicles\n",
        "\n",
        "# Verify the count of records in the written Parquet files\n",
        "record_count = spark.read.format(\"parquet\").load(vehicle_path).count()\n",
        "print(f\"Total records written: {record_count}\")\n"
      ],
      "metadata": {
        "id": "zeq1QckAySaj",
        "outputId": "5e19ea44-6757-4056-8108-292a895f79d3",
        "colab": {
          "base_uri": "https://localhost:8080/",
          "height": 393
        }
      },
      "execution_count": 51,
      "outputs": [
        {
          "output_type": "error",
          "ename": "AnalysisException",
          "evalue": "Partition column `date` not found in schema struct<bearing:int,block_id:string,current_status:string,id:string,lat:float,line_id:string,lon:float,pattern_id:string,route_id:string,schedule_relationship:string,shift_id:string,speed:float,stop_id:string,timestamp:timestamp,trip_id:string>.",
          "traceback": [
            "\u001b[0;31m---------------------------------------------------------------------------\u001b[0m",
            "\u001b[0;31mAnalysisException\u001b[0m                         Traceback (most recent call last)",
            "\u001b[0;32m<ipython-input-51-0aeed5f074a5>\u001b[0m in \u001b[0;36m<cell line: 16>\u001b[0;34m()\u001b[0m\n\u001b[1;32m     19\u001b[0m    \u001b[0;34m.\u001b[0m\u001b[0mpartitionBy\u001b[0m\u001b[0;34m(\u001b[0m\u001b[0;34m\"date\"\u001b[0m\u001b[0;34m)\u001b[0m  \u001b[0;31m# Particiona os dados pela coluna 'date'\u001b[0m\u001b[0;34m\u001b[0m\u001b[0;34m\u001b[0m\u001b[0m\n\u001b[1;32m     20\u001b[0m    \u001b[0;34m.\u001b[0m\u001b[0mformat\u001b[0m\u001b[0;34m(\u001b[0m\u001b[0;34m\"parquet\"\u001b[0m\u001b[0;34m)\u001b[0m  \u001b[0;31m# Formato Parquet\u001b[0m\u001b[0;34m\u001b[0m\u001b[0;34m\u001b[0m\u001b[0m\n\u001b[0;32m---> 21\u001b[0;31m    .save(vehicle_path))  # Caminho para salvar\n\u001b[0m\u001b[1;32m     22\u001b[0m \u001b[0;34m\u001b[0m\u001b[0m\n\u001b[1;32m     23\u001b[0m \u001b[0;31m# Gravar o DataFrame 'lines' sem particionamento\u001b[0m\u001b[0;34m\u001b[0m\u001b[0;34m\u001b[0m\u001b[0m\n",
            "\u001b[0;32m/usr/local/lib/python3.10/dist-packages/pyspark/sql/readwriter.py\u001b[0m in \u001b[0;36msave\u001b[0;34m(self, path, format, mode, partitionBy, **options)\u001b[0m\n\u001b[1;32m   1461\u001b[0m             \u001b[0mself\u001b[0m\u001b[0;34m.\u001b[0m\u001b[0m_jwrite\u001b[0m\u001b[0;34m.\u001b[0m\u001b[0msave\u001b[0m\u001b[0;34m(\u001b[0m\u001b[0;34m)\u001b[0m\u001b[0;34m\u001b[0m\u001b[0;34m\u001b[0m\u001b[0m\n\u001b[1;32m   1462\u001b[0m         \u001b[0;32melse\u001b[0m\u001b[0;34m:\u001b[0m\u001b[0;34m\u001b[0m\u001b[0;34m\u001b[0m\u001b[0m\n\u001b[0;32m-> 1463\u001b[0;31m             \u001b[0mself\u001b[0m\u001b[0;34m.\u001b[0m\u001b[0m_jwrite\u001b[0m\u001b[0;34m.\u001b[0m\u001b[0msave\u001b[0m\u001b[0;34m(\u001b[0m\u001b[0mpath\u001b[0m\u001b[0;34m)\u001b[0m\u001b[0;34m\u001b[0m\u001b[0;34m\u001b[0m\u001b[0m\n\u001b[0m\u001b[1;32m   1464\u001b[0m \u001b[0;34m\u001b[0m\u001b[0m\n\u001b[1;32m   1465\u001b[0m     \u001b[0;32mdef\u001b[0m \u001b[0minsertInto\u001b[0m\u001b[0;34m(\u001b[0m\u001b[0mself\u001b[0m\u001b[0;34m,\u001b[0m \u001b[0mtableName\u001b[0m\u001b[0;34m:\u001b[0m \u001b[0mstr\u001b[0m\u001b[0;34m,\u001b[0m \u001b[0moverwrite\u001b[0m\u001b[0;34m:\u001b[0m \u001b[0mOptional\u001b[0m\u001b[0;34m[\u001b[0m\u001b[0mbool\u001b[0m\u001b[0;34m]\u001b[0m \u001b[0;34m=\u001b[0m \u001b[0;32mNone\u001b[0m\u001b[0;34m)\u001b[0m \u001b[0;34m->\u001b[0m \u001b[0;32mNone\u001b[0m\u001b[0;34m:\u001b[0m\u001b[0;34m\u001b[0m\u001b[0;34m\u001b[0m\u001b[0m\n",
            "\u001b[0;32m/usr/local/lib/python3.10/dist-packages/py4j/java_gateway.py\u001b[0m in \u001b[0;36m__call__\u001b[0;34m(self, *args)\u001b[0m\n\u001b[1;32m   1320\u001b[0m \u001b[0;34m\u001b[0m\u001b[0m\n\u001b[1;32m   1321\u001b[0m         \u001b[0manswer\u001b[0m \u001b[0;34m=\u001b[0m \u001b[0mself\u001b[0m\u001b[0;34m.\u001b[0m\u001b[0mgateway_client\u001b[0m\u001b[0;34m.\u001b[0m\u001b[0msend_command\u001b[0m\u001b[0;34m(\u001b[0m\u001b[0mcommand\u001b[0m\u001b[0;34m)\u001b[0m\u001b[0;34m\u001b[0m\u001b[0;34m\u001b[0m\u001b[0m\n\u001b[0;32m-> 1322\u001b[0;31m         return_value = get_return_value(\n\u001b[0m\u001b[1;32m   1323\u001b[0m             answer, self.gateway_client, self.target_id, self.name)\n\u001b[1;32m   1324\u001b[0m \u001b[0;34m\u001b[0m\u001b[0m\n",
            "\u001b[0;32m/usr/local/lib/python3.10/dist-packages/pyspark/errors/exceptions/captured.py\u001b[0m in \u001b[0;36mdeco\u001b[0;34m(*a, **kw)\u001b[0m\n\u001b[1;32m    183\u001b[0m                 \u001b[0;31m# Hide where the exception came from that shows a non-Pythonic\u001b[0m\u001b[0;34m\u001b[0m\u001b[0;34m\u001b[0m\u001b[0m\n\u001b[1;32m    184\u001b[0m                 \u001b[0;31m# JVM exception message.\u001b[0m\u001b[0;34m\u001b[0m\u001b[0;34m\u001b[0m\u001b[0m\n\u001b[0;32m--> 185\u001b[0;31m                 \u001b[0;32mraise\u001b[0m \u001b[0mconverted\u001b[0m \u001b[0;32mfrom\u001b[0m \u001b[0;32mNone\u001b[0m\u001b[0;34m\u001b[0m\u001b[0;34m\u001b[0m\u001b[0m\n\u001b[0m\u001b[1;32m    186\u001b[0m             \u001b[0;32melse\u001b[0m\u001b[0;34m:\u001b[0m\u001b[0;34m\u001b[0m\u001b[0;34m\u001b[0m\u001b[0m\n\u001b[1;32m    187\u001b[0m                 \u001b[0;32mraise\u001b[0m\u001b[0;34m\u001b[0m\u001b[0;34m\u001b[0m\u001b[0m\n",
            "\u001b[0;31mAnalysisException\u001b[0m: Partition column `date` not found in schema struct<bearing:int,block_id:string,current_status:string,id:string,lat:float,line_id:string,lon:float,pattern_id:string,route_id:string,schedule_relationship:string,shift_id:string,speed:float,stop_id:string,timestamp:timestamp,trip_id:string>."
          ]
        }
      ]
    },
    {
      "cell_type": "code",
      "source": [],
      "metadata": {
        "id": "izf9IpWfySOQ"
      },
      "execution_count": null,
      "outputs": []
    }
  ],
  "metadata": {
    "colab": {
      "provenance": [],
      "include_colab_link": true
    },
    "kernelspec": {
      "display_name": "Python 3",
      "name": "python3"
    },
    "language_info": {
      "name": "python"
    }
  },
  "nbformat": 4,
  "nbformat_minor": 0
}