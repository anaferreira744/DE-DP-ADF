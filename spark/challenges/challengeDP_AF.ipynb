{
  "cells": [
    {
      "cell_type": "markdown",
      "metadata": {
        "id": "view-in-github",
        "colab_type": "text"
      },
      "source": [
        "<a href=\"https://colab.research.google.com/github/anaferreira744/DE-DP-ADF/blob/main/spark/challenges/challengeDP_AF.ipynb\" target=\"_parent\"><img src=\"https://colab.research.google.com/assets/colab-badge.svg\" alt=\"Open In Colab\"/></a>"
      ]
    },
    {
      "cell_type": "markdown",
      "source": [],
      "metadata": {
        "id": "IwdttUPpVBGd"
      }
    },
    {
      "cell_type": "code",
      "execution_count": null,
      "metadata": {
        "colab": {
          "base_uri": "https://localhost:8080/"
        },
        "id": "uYXeODL0T1fO",
        "outputId": "93585aa1-a899-4dd5-88f0-8bb5a86cad8b"
      },
      "outputs": [
        {
          "output_type": "stream",
          "name": "stdout",
          "text": [
            "Requirement already satisfied: pyspark in /usr/local/lib/python3.10/dist-packages (3.5.3)\n",
            "Requirement already satisfied: py4j==0.10.9.7 in /usr/local/lib/python3.10/dist-packages (from pyspark) (0.10.9.7)\n"
          ]
        }
      ],
      "source": [
        "%pip install pyspark"
      ]
    },
    {
      "cell_type": "code",
      "source": [
        "from pyspark.sql import DataFrame, SparkSession\n",
        "from pyspark.sql.functions import *\n",
        "import pyspark.sql.functions as F\n",
        "from pyspark.sql.types import *\n",
        "import requests\n",
        "from pyspark.sql.functions import explode, col"
      ],
      "metadata": {
        "id": "OGXGTlvwfsy_"
      },
      "execution_count": 2,
      "outputs": []
    },
    {
      "cell_type": "code",
      "source": [
        "!mkdir -p /content/lake/bronze\n",
        "!mkdir -p /content/lake/silver\n",
        "!mkdir -p /content/lake/gold"
      ],
      "metadata": {
        "id": "1O-aJV9XS2hs"
      },
      "execution_count": 3,
      "outputs": []
    },
    {
      "cell_type": "code",
      "source": [
        "# Operações comuns de extração e carregamento\n",
        "class ETLFlow:\n",
        "    def __init__(self, spark: SparkSession) -> None:\n",
        "        self.spark = spark\n",
        "    # Extração de dados de ficheiros\n",
        "    def extract_from_file(self, format: str, path: str, **kwargs) -> DataFrame:\n",
        "        df = self.spark.read.format(format).load(path)\n",
        "        return df\n",
        "    # Extração de dados da API e conversão para DataFrame\n",
        "    def extract_from_api(self, url: str, schema: StructType = None):\n",
        "      response = requests.get(url)\n",
        "      rdd = spark.sparkContext.parallelize(response.json())\n",
        "      if schema:\n",
        "        df = spark.read.schema(schema).json(rdd)\n",
        "      else:\n",
        "        df = spark.read.json(rdd)\n",
        "      return df\n",
        "\n",
        "    # Armazenamento do DF\n",
        "    def load(self, df: DataFrame, format: str, path: str, partition_column: str = None, **kwargs) -> None:\n",
        "        if partition_column:\n",
        "          df.coalesce(1).write.mode(\"overwrite\").partitionBy(partition_column).format(format).save(path)\n",
        "        else:\n",
        "          df.coalesce(1).write.mode(\"overwrite\").format(format).save(path)\n"
      ],
      "metadata": {
        "id": "q-TBxkTlcGmW"
      },
      "execution_count": 4,
      "outputs": []
    },
    {
      "cell_type": "code",
      "source": [
        "# Definição e implementação das tarefas\n",
        "class ETLTask(ETLFlow):\n",
        "    def __init__(self, spark: SparkSession) -> None:\n",
        "        self.spark = spark\n",
        "\n",
        "    def ingestion_lines(self):\n",
        "      print(\"[INFO] Starting ingestion for lines.\")\n",
        "      # schema\n",
        "      lines_schema = StructType([StructField('color', StringType(), True),\n",
        "                                 StructField('facilities', ArrayType(StringType(), True), True),\n",
        "                                 StructField('id', StringType(), True),\n",
        "                                 StructField('localities',ArrayType(StringType(), True), True),\n",
        "                                 StructField('long_name', StringType(), True),\n",
        "                                 StructField('municipalities', ArrayType(StringType(), True), True),\n",
        "                                 StructField('patterns', ArrayType(StringType(), True), True),\n",
        "                                 StructField('routes', ArrayType(StringType(), True), True),\n",
        "                                 StructField('short_name', StringType(), True), StructField('text_color', StringType(), True)])\n",
        "      # ingestion\n",
        "      df = self.extract_from_api(url=\"https://api.carrismetropolitana.pt/lines\", schema=lines_schema)\n",
        "      # load\n",
        "      self.load(df=df, format=\"parquet\", path=\"/content/lake/bronze/lines\")\n",
        "      print(\"[INFO] Ingestion for lines completed.\")\n",
        "\n",
        "\n",
        "    def ingestion_vehicles(self):\n",
        "      print(\"[INFO] Starting ingestion for vehicles.\")\n",
        "      # schema\n",
        "      vehicle_schema = StructType([StructField('bearing', IntegerType(), True),\n",
        "                                  StructField('block_id', StringType(), True),\n",
        "                                  StructField('current_status', StringType(), True),\n",
        "                                  StructField('id', StringType(), True),\n",
        "                                  StructField('lat', FloatType(), True),\n",
        "                                  StructField('line_id', StringType(), True),\n",
        "                                  StructField('lon', FloatType(), True),\n",
        "                                  StructField('pattern_id', StringType(), True),\n",
        "                                  StructField('route_id', StringType(), True),\n",
        "                                  StructField('schedule_relationship', StringType(), True),\n",
        "                                  StructField('shift_id', StringType(), True),\n",
        "                                  StructField('speed', FloatType(), True),\n",
        "                                  StructField('stop_id', StringType(), True),\n",
        "                                  StructField('timestamp', TimestampType(), True),\n",
        "                                  StructField('trip_id', StringType(), True)])\n",
        "      # ingestion\n",
        "      df = self.extract_from_api(url=\"https://api.carrismetropolitana.pt/vehicles\", schema=vehicle_schema)\n",
        "      # create date column\n",
        "      df = df.withColumn(\"date\", date_format(\"timestamp\", \"yyyyMMdd\"))\n",
        "      # load\n",
        "      self.load(df=df, format=\"parquet\", path=\"/content/lake/bronze/vehicles\", partition_column=\"date\")\n",
        "      print(\"[INFO] Ingestion for vehicles completed.\")\n",
        "\n",
        "\n",
        "    def ingestion_municipalities(self):\n",
        "        print(\"[INFO] Starting ingestion for municipalities.\")\n",
        "        # schema\n",
        "        municipalities_schema = StructType([StructField('district_id', StringType(), True),\n",
        "                                            StructField('district_name', StringType(), True),\n",
        "                                            StructField('id', StringType(), True),\n",
        "                                            StructField('name', StringType(), True),\n",
        "                                            StructField('prefix', StringType(), True),\n",
        "                                            StructField('region_id', StringType(), True),\n",
        "                                            StructField('region_name', StringType(), True)])\n",
        "        # ingestion\n",
        "        df = self.extract_from_api(url=\"https://api.carrismetropolitana.pt/municipalities\", schema=municipalities_schema)\n",
        "        # load\n",
        "        self.load(df=df, format=\"parquet\", path=\"/content/lake/bronze/municipalities\")\n",
        "        print(\"[INFO] Ingestion for municipalities completed.\")\n",
        "\n",
        "\n",
        "    def cleansing_vehicles(self):\n",
        "      print(\"[INFO] Starting cleansing for vehicles.\")\n",
        "      #read data from bronze layer\n",
        "      df = self.extract_from_file(format=\"parquet\", path=\"/content/lake/bronze/vehicles\")\n",
        "      #rename \"lat\" and \"lon\" to \"latitude\" and \"longitude\" respectively\n",
        "      df = df.withColumnRenamed(\"lat\", \"latitude\").withColumnRenamed(\"lon\", \"longitude\")\n",
        "      #remove possible duplicates\n",
        "      df = df.drop_duplicates()\n",
        "      #remove rows when the column CURRENT_STATUS is null\n",
        "      df = df.filter(col(\"current_status\").isNotNull())\n",
        "\n",
        "      self.load(df=df, format=\"parquet\", path=\"/content/lake/silver/vehicles\")\n",
        "      print(\"[INFO] Cleansing for vehicles completed.\")\n",
        "\n",
        "    def cleansing_lines(self):\n",
        "      print(\"[INFO] Starting cleansing for lines.\")\n",
        "      #read data from bronze layer\n",
        "      df = self.extract_from_file(format=\"parquet\", path=\"/content/lake/bronze/lines\")\n",
        "      #remove duplicates\n",
        "      df = df.drop_duplicates()\n",
        "      #remove rows when the column LONG_NAME is null\n",
        "      df = df.filter(col(\"long_name\").isNotNull())\n",
        "\n",
        "      self.load(df=df, format=\"parquet\", path=\"/content/lake/silver/lines\")\n",
        "      print(\"[INFO] Cleansing for lines completed.\")\n",
        "\n",
        "\n",
        "    def cleasing_municipalities(self):\n",
        "      print(\"[INFO] Starting cleansing for municipalities.\")\n",
        "      #read data from bronze layer\n",
        "      df = self.extract_from_file(format=\"parquet\", path=\"/content/lake/bronze/municipalities\")\n",
        "      #remove duplicates\n",
        "      df = df.drop_duplicates()\n",
        "      #remove rows when the columns NAME or DISTRICT_NAME are null\n",
        "      df = df.filter(col(\"name\").isNotNull() | col(\"district_name\").isNotNull())\n",
        "\n",
        "      self.load(df=df, format=\"parquet\", path=\"/content/lake/silver/municipalities\")\n",
        "      print(\"[INFO] Cleansing for municipalities completed.\")\n",
        "\n",
        "\n",
        "    def enrich(self, path: str = \"/content/lake/silver\"):\n",
        "      print(\"[INFO] Starting enrichment for vehicles.\")\n",
        "      #read data from silver layer\n",
        "      vehicles = self.extract_from_file(format=\"parquet\", path = f\"{path}/vehicles\")\n",
        "      lines = self.extract_from_file(format=\"parquet\", path = f\"{path}/lines\")\n",
        "      municipalities = self.extract_from_file(format=\"parquet\", path = f\"{path}/municipalities\")\n",
        "\n",
        "      # Explodir o array \"municipalities\" para criar uma linha para cada município\n",
        "      lines_exploded = lines.select(\"id\",\"long_name\",col(\"municipalities\").alias(\"municipalities\"), explode(col(\"municipalities\")).alias(\"municipality_id\"))  # Explodir o array \"municipalities\"\n",
        "\n",
        "      #join vehicles with lines and municipalities\n",
        "      vehicles_lines = vehicles.join(lines_exploded, vehicles['line_id'] == lines_exploded['id'], how = 'left')\n",
        "      vehicles_enriched = vehicles_lines.join(municipalities, lines_exploded['municipality_id'] == municipalities['id'], how = 'left')\n",
        "\n",
        "      #select all columns from vehicles + lines.long_name (name: line_name, format:string) + municipalities.name (name: municipality_name, format: array)\n",
        "      vehicles_enriched = vehicles_enriched.select(vehicles['*'],lines_exploded['long_name'].alias('line_name'),municipalities['name'].alias('municipality_name'))\n",
        "\n",
        "      self.load(df = vehicles_enriched, format=\"parquet\", path=\"/content/lake/gold/vehicles_enriched\",  partition_column=\"date\")\n",
        "      print(\"[INFO] Enrichment for vehicles completed.\")\n",
        "\n",
        "\n",
        "if __name__ == '__main__':\n",
        "\n",
        "    # init spark\n",
        "    from pyspark.sql import SparkSession\n",
        "    spark = SparkSession.builder.master('local').appName('ETL Program').getOrCreate()\n",
        "    print(\"Starting ETL program\")\n",
        "    etl = ETLTask(spark)\n",
        "\n",
        "    # run tasks\n",
        "    print(\"Running Task - Ingestion Vehicles\")\n",
        "    etl.ingestion_vehicles()\n",
        "    print(\"Running Task - Ingestion Lines\")\n",
        "    etl.ingestion_lines()\n",
        "    print(\"Running Task - Ingestion Municipalities\")\n",
        "    etl.ingestion_municipalities()\n",
        "    print(\"Running Task - Cleansing Vehicles\")\n",
        "    etl.cleansing_vehicles()\n",
        "    print(\"Running Task - Cleansing Lines\")\n",
        "    etl.cleansing_lines()\n",
        "    print(\"Running Task - Cleansing Municipalities\")\n",
        "    etl.cleasing_municipalities()\n",
        "    print(\"Enriching Vehicles\")\n",
        "    etl.enrich()\n",
        "\n",
        "\n",
        "\n",
        "    # etl.cleansing_vehicles()\n",
        "    #etl.enrich()\n",
        "    print(\"ETL program completed\")\n"
      ],
      "metadata": {
        "colab": {
          "base_uri": "https://localhost:8080/"
        },
        "id": "pmJ-rsnWcKfm",
        "outputId": "d1c4fca6-4f98-4fc0-a1e1-cd6c979bda72"
      },
      "execution_count": 5,
      "outputs": [
        {
          "output_type": "stream",
          "name": "stdout",
          "text": [
            "Starting ETL program\n",
            "Running Task - Ingestion Vehicles\n",
            "[INFO] Starting ingestion for vehicles.\n",
            "[INFO] Ingestion for vehicles completed.\n",
            "Running Task - Ingestion Lines\n",
            "[INFO] Starting ingestion for lines.\n",
            "[INFO] Ingestion for lines completed.\n",
            "Running Task - Ingestion Municipalities\n",
            "[INFO] Starting ingestion for municipalities.\n",
            "[INFO] Ingestion for municipalities completed.\n",
            "Running Task - Cleansing Vehicles\n",
            "[INFO] Starting cleansing for vehicles.\n",
            "[INFO] Cleansing for vehicles completed.\n",
            "Running Task - Cleansing Lines\n",
            "[INFO] Starting cleansing for lines.\n",
            "[INFO] Cleansing for lines completed.\n",
            "Running Task - Cleansing Municipalities\n",
            "[INFO] Starting cleansing for municipalities.\n",
            "[INFO] Cleansing for municipalities completed.\n",
            "Enriching Vehicles\n",
            "[INFO] Starting enrichment for vehicles.\n",
            "[INFO] Enrichment for vehicles completed.\n",
            "ETL program completed\n"
          ]
        }
      ]
    },
    {
      "cell_type": "code",
      "source": [
        "print(\"What are the top 3 municipalities by vehicles routes?\")\n",
        "from pyspark.sql.functions import *\n",
        "vehicles_enriched = spark.read.parquet(\"/content/lake/gold/vehicles_enriched\").dropDuplicates()\n",
        "(vehicles_enriched\n",
        " .groupBy(\"municipality_name\")\n",
        " .agg(countDistinct(\"id\").alias(\"count_id\"))\n",
        " .sort(desc(\"count_id\"))\n",
        " .show(3, False))\n"
      ],
      "metadata": {
        "colab": {
          "base_uri": "https://localhost:8080/"
        },
        "id": "31DBF3oMvP2K",
        "outputId": "b3317f32-3e02-4863-e9c8-d6b84df7d255"
      },
      "execution_count": 6,
      "outputs": [
        {
          "output_type": "stream",
          "name": "stdout",
          "text": [
            "What are the top 3 municipalities by vehicles routes?\n",
            "+-----------------+--------+\n",
            "|municipality_name|count_id|\n",
            "+-----------------+--------+\n",
            "|Lisboa           |68      |\n",
            "|Loures           |31      |\n",
            "|Sintra           |30      |\n",
            "+-----------------+--------+\n",
            "only showing top 3 rows\n",
            "\n"
          ]
        }
      ]
    },
    {
      "cell_type": "code",
      "source": [
        "print(\"What are the top 3 municipalities with higher vehicle speed on average?\")\n",
        "from pyspark.sql.functions import *\n",
        "vehicles_enriched = spark.read.parquet(\"/content/lake/gold/vehicles_enriched\").dropDuplicates()\n",
        "(vehicles_enriched\n",
        " .groupBy(\"municipality_name\")\n",
        " .agg(avg(\"speed\").alias(\"avg_speed\"))\n",
        " .sort(desc(\"avg_speed\"))\n",
        " .show(3, False))"
      ],
      "metadata": {
        "colab": {
          "base_uri": "https://localhost:8080/"
        },
        "id": "v32v2ICGwWv4",
        "outputId": "f25ae8e9-ae87-46b0-8bd3-04aa97b227d3"
      },
      "execution_count": 7,
      "outputs": [
        {
          "output_type": "stream",
          "name": "stdout",
          "text": [
            "What are the top 3 municipalities with higher vehicle speed on average?\n",
            "+-----------------+------------------+\n",
            "|municipality_name|avg_speed         |\n",
            "+-----------------+------------------+\n",
            "|Montijo          |10.714285578046526|\n",
            "|Moita            |10.472222089767456|\n",
            "|Palmela          |9.563492025647845 |\n",
            "+-----------------+------------------+\n",
            "only showing top 3 rows\n",
            "\n"
          ]
        }
      ]
    }
  ],
  "metadata": {
    "colab": {
      "provenance": [],
      "include_colab_link": true
    },
    "kernelspec": {
      "display_name": "Python 3",
      "name": "python3"
    },
    "language_info": {
      "name": "python"
    }
  },
  "nbformat": 4,
  "nbformat_minor": 0
}