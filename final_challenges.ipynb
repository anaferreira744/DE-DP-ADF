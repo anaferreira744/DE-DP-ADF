{
  "cells": [
    {
      "cell_type": "markdown",
      "metadata": {
        "id": "view-in-github",
        "colab_type": "text"
      },
      "source": [
        "<a href=\"https://colab.research.google.com/github/anaferreira744/DE-DP-ADF/blob/main/final_challenges.ipynb\" target=\"_parent\"><img src=\"https://colab.research.google.com/assets/colab-badge.svg\" alt=\"Open In Colab\"/></a>"
      ]
    },
    {
      "cell_type": "markdown",
      "metadata": {
        "id": "d9LeYFsPTjAb"
      },
      "source": [
        "# Setting up PySpark"
      ]
    },
    {
      "cell_type": "code",
      "execution_count": 1,
      "metadata": {
        "colab": {
          "base_uri": "https://localhost:8080/"
        },
        "id": "uYXeODL0T1fO",
        "outputId": "d28942c2-987a-4eb9-f46e-2580f4b67261"
      },
      "outputs": [
        {
          "output_type": "stream",
          "name": "stdout",
          "text": [
            "Requirement already satisfied: pyspark in /usr/local/lib/python3.10/dist-packages (3.5.3)\n",
            "Requirement already satisfied: py4j==0.10.9.7 in /usr/local/lib/python3.10/dist-packages (from pyspark) (0.10.9.7)\n"
          ]
        }
      ],
      "source": [
        "%pip install pyspark"
      ]
    },
    {
      "cell_type": "markdown",
      "metadata": {
        "id": "Rcybt71kTDNt"
      },
      "source": [
        "# Context\n",
        "Message events are coming from platform message broker (kafka, pubsub, kinesis...).\n",
        "You need to process the data according to the requirements.\n",
        "\n",
        "Message schema:\n",
        "- timestamp\n",
        "- value\n",
        "- event_type\n",
        "- message_id\n",
        "- country_id\n",
        "- user_id\n",
        "\n"
      ]
    },
    {
      "cell_type": "markdown",
      "metadata": {
        "id": "JkyPORKNSYvV"
      },
      "source": [
        "# Challenge 1\n",
        "\n",
        "Step 1\n",
        "- Change exising producer\n",
        "\t- Change parquet location to \"/content/lake/bronze/messages/data\"\n",
        "\t- Add checkpoint (/content/lake/bronze/messages/checkpoint)\n",
        "\t- Delete /content/lake/bronze/messages and reprocess data\n",
        "\t- For reprocessing, run the streaming for at least 1 minute, then stop it\n",
        "\n",
        "Step 2\n",
        "- Implement new stream job to read from messages in bronze layer and split result in two locations\n",
        "\t- \"messages_corrupted\"\n",
        "\t\t- logic: event_status is null, empty or equal to \"NONE\"\n",
        "    - extra logic: add country name by joining message with countries dataset\n",
        "\t\t- partition by \"date\" -extract it from timestamp\n",
        "\t\t- location: /content/lake/silver/messages_corrupted/data\n",
        "\n",
        "\t- \"messages\"\n",
        "\t\t- logic: not corrupted data\n",
        "\t\t- extra logic: add country name by joining message with countries dataset\n",
        "\t\t- partition by \"date\" -extract it from timestamp\n",
        "\t\t- location: /content/lake/silver/messages/data\n",
        "\n",
        "\t- technical requirements\n",
        "\t\t- add checkpint (choose location)\n",
        "\t\t- use StructSchema\n",
        "\t\t- Set trigger interval to 5 seconds\n",
        "\t\t- run streaming for at least 20 seconds, then stop it\n",
        "\n",
        "\t- alternatives\n",
        "\t\t- implementing single streaming job with foreach/- foreachBatch logic to write into two locations\n",
        "\t\t- implementing two streaming jobs, one for messages and another for messages_corrupted\n",
        "\t\t- (paying attention on the paths and checkpoints)\n",
        "\n",
        "\n",
        "  - Check results:\n",
        "    - results from messages in bronze layer should match with the sum of messages+messages_corrupted in the silver layer"
      ]
    },
    {
      "cell_type": "code",
      "execution_count": 2,
      "metadata": {
        "colab": {
          "base_uri": "https://localhost:8080/"
        },
        "id": "Udk3tohSaXOH",
        "outputId": "08cfa57e-0e7e-4008-c3b6-8fa7c949da4e"
      },
      "outputs": [
        {
          "output_type": "stream",
          "name": "stdout",
          "text": [
            "Collecting faker\n",
            "  Downloading Faker-33.1.0-py3-none-any.whl.metadata (15 kB)\n",
            "Requirement already satisfied: python-dateutil>=2.4 in /usr/local/lib/python3.10/dist-packages (from faker) (2.8.2)\n",
            "Requirement already satisfied: typing-extensions in /usr/local/lib/python3.10/dist-packages (from faker) (4.12.2)\n",
            "Requirement already satisfied: six>=1.5 in /usr/local/lib/python3.10/dist-packages (from python-dateutil>=2.4->faker) (1.17.0)\n",
            "Downloading Faker-33.1.0-py3-none-any.whl (1.9 MB)\n",
            "\u001b[2K   \u001b[90m━━━━━━━━━━━━━━━━━━━━━━━━━━━━━━━━━━━━━━━━\u001b[0m \u001b[32m1.9/1.9 MB\u001b[0m \u001b[31m13.5 MB/s\u001b[0m eta \u001b[36m0:00:00\u001b[0m\n",
            "\u001b[?25hInstalling collected packages: faker\n",
            "Successfully installed faker-33.1.0\n"
          ]
        }
      ],
      "source": [
        "%pip install faker"
      ]
    },
    {
      "cell_type": "markdown",
      "metadata": {
        "id": "cDGMKwBdi1qy"
      },
      "source": [
        "# Producer"
      ]
    },
    {
      "cell_type": "code",
      "execution_count": 3,
      "metadata": {
        "colab": {
          "base_uri": "https://localhost:8080/"
        },
        "id": "tPCOdivrfhYh",
        "outputId": "50dbc3f9-aead-4070-d8a3-696691886dec"
      },
      "outputs": [
        {
          "output_type": "execute_result",
          "data": {
            "text/plain": [
              "False"
            ]
          },
          "metadata": {},
          "execution_count": 3
        }
      ],
      "source": [
        "import pyspark.sql.functions as F\n",
        "from pyspark.sql import DataFrame\n",
        "from faker import Faker\n",
        "from pyspark.sql import SparkSession\n",
        "\n",
        "spark = SparkSession.builder.appName('Test streaming').getOrCreate()\n",
        "sc = spark.sparkContext\n",
        "\n",
        "fake = Faker()\n",
        "messages = [fake.uuid4() for _ in range(50)]\n",
        "\n",
        "def enrich_data(df, messages=messages):\n",
        "  fake = Faker()\n",
        "  new_columns = {\n",
        "      'event_type': F.lit(fake.random_element(elements=('OPEN', 'RECEIVED', 'SENT', 'CREATED', 'CLICKED', '', 'NONE'))),\n",
        "      'message_id': F.lit(fake.random_element(elements=messages)),\n",
        "      'channel': F.lit(fake.random_element(elements=('CHAT', 'EMAIL', 'SMS', 'PUSH', 'OTHER'))),\n",
        "      'country_id': F.lit(fake.random_int(min=2000, max=2015)),\n",
        "      'user_id': F.lit(fake.random_int(min=1000, max=1050)),\n",
        "  }\n",
        "  df = df.withColumns(new_columns)\n",
        "  return df\n",
        "\n",
        "def insert_messages(df: DataFrame, batch_id):\n",
        "  enrich = enrich_data(df)\n",
        "  enrich.write.mode(\"append\").format(\"parquet\").save(\"/content/lake/bronze/messages/data\") #step1\n",
        "\n",
        "# read stream\n",
        "df_stream = spark.readStream.format(\"rate\").option(\"rowsPerSecond\", 1).load()\n",
        "\n",
        "# write stream\n",
        "query = (df_stream.writeStream\n",
        ".outputMode('append')\n",
        ".trigger(processingTime='1 seconds')\n",
        ".option(\"checkpointLocation\", \"/content/lake/bronze/messages/checkpoint\") #step1\n",
        ".foreachBatch(insert_messages)\n",
        ".start()\n",
        ")\n",
        "\n",
        "\n",
        "query.awaitTermination(60)\n"
      ]
    },
    {
      "cell_type": "code",
      "source": [
        "query.isActive"
      ],
      "metadata": {
        "colab": {
          "base_uri": "https://localhost:8080/"
        },
        "id": "FjLpEzIF2niK",
        "outputId": "0e991b24-29d8-4dd2-f38e-8cef0da144dd"
      },
      "execution_count": 4,
      "outputs": [
        {
          "output_type": "execute_result",
          "data": {
            "text/plain": [
              "True"
            ]
          },
          "metadata": {},
          "execution_count": 4
        }
      ]
    },
    {
      "cell_type": "code",
      "execution_count": 5,
      "metadata": {
        "id": "KNyUK3yplDhg"
      },
      "outputs": [],
      "source": [
        "query.stop()"
      ]
    },
    {
      "cell_type": "code",
      "execution_count": 6,
      "metadata": {
        "id": "ZWQExsnzlMFe",
        "colab": {
          "base_uri": "https://localhost:8080/"
        },
        "outputId": "79a9ca09-41bd-4e26-c411-083b9fe278e8"
      },
      "outputs": [
        {
          "output_type": "stream",
          "name": "stdout",
          "text": [
            "+--------------------+-----+----------+--------------------+-------+----------+-------+\n",
            "|           timestamp|value|event_type|          message_id|channel|country_id|user_id|\n",
            "+--------------------+-----+----------+--------------------+-------+----------+-------+\n",
            "|2024-12-15 15:36:...|    1|   CREATED|484c8af2-16b3-467...|    SMS|      2012|   1037|\n",
            "|2024-12-15 15:36:...|    3|   CREATED|484c8af2-16b3-467...|    SMS|      2012|   1037|\n",
            "|2024-12-15 15:36:...|    0|   CREATED|484c8af2-16b3-467...|    SMS|      2012|   1037|\n",
            "|2024-12-15 15:36:...|    2|   CREATED|484c8af2-16b3-467...|    SMS|      2012|   1037|\n",
            "|2024-12-15 15:37:...|   33|  RECEIVED|f0649a1b-dc72-40e...|  EMAIL|      2008|   1038|\n",
            "|2024-12-15 15:37:...|   26|  RECEIVED|d2935e69-d874-418...|  EMAIL|      2012|   1029|\n",
            "|2024-12-15 15:37:...|   56|  RECEIVED|2a7251d2-980d-4f0...|  EMAIL|      2011|   1000|\n",
            "|2024-12-15 15:37:...|   53|   CLICKED|bc20e97c-2cad-476...|  EMAIL|      2002|   1007|\n",
            "|2024-12-15 15:37:...|   28|   CREATED|e44574f6-a1cb-48d...|  EMAIL|      2010|   1010|\n",
            "|2024-12-15 15:37:...|   41|  RECEIVED|14477726-930b-4b0...|   CHAT|      2002|   1017|\n",
            "|2024-12-15 15:37:...|   60|  RECEIVED|8e091558-bd8a-4ff...|   PUSH|      2001|   1008|\n",
            "|2024-12-15 15:37:...|   51|  RECEIVED|484c8af2-16b3-467...|   CHAT|      2000|   1018|\n",
            "|2024-12-15 15:37:...|   69|  RECEIVED|7d60c7ea-be30-49b...|   CHAT|      2004|   1035|\n",
            "|2024-12-15 15:37:...|   39|   CREATED|2e3011d5-8a13-4f6...|  OTHER|      2011|   1019|\n",
            "|2024-12-15 15:37:...|   21|   CREATED|67b04e7c-8841-4ce...|  EMAIL|      2005|   1049|\n",
            "|2024-12-15 15:36:...|    7|  RECEIVED|cecd74df-a0ca-48d...|   PUSH|      2001|   1041|\n",
            "|2024-12-15 15:36:...|    6|   CLICKED|53e34047-5795-404...|  OTHER|      2011|   1037|\n",
            "|2024-12-15 15:37:...|   31|  RECEIVED|7b0bf665-1a7a-4bd...|    SMS|      2003|   1016|\n",
            "|2024-12-15 15:37:...|   59|   CREATED|a4ee2520-0002-4ac...|   PUSH|      2000|   1034|\n",
            "|2024-12-15 15:37:...|   46|   CLICKED|c7a82db3-d497-405...|   PUSH|      2015|   1039|\n",
            "+--------------------+-----+----------+--------------------+-------+----------+-------+\n",
            "only showing top 20 rows\n",
            "\n"
          ]
        },
        {
          "output_type": "execute_result",
          "data": {
            "text/plain": [
              "73"
            ]
          },
          "metadata": {},
          "execution_count": 6
        }
      ],
      "source": [
        "df = spark.read.format(\"parquet\").load(\"/content/lake/bronze/messages/data/*\")\n",
        "df.show()\n",
        "df.count()"
      ]
    },
    {
      "cell_type": "markdown",
      "metadata": {
        "id": "RraxHCycMdEZ"
      },
      "source": [
        "# Additional datasets"
      ]
    },
    {
      "cell_type": "code",
      "execution_count": 7,
      "metadata": {
        "id": "cfsus3dxMcQI"
      },
      "outputs": [],
      "source": [
        "countries = [\n",
        "    {\"country_id\": 2000, \"country\": \"Brazil\"},\n",
        "    {\"country_id\": 2001, \"country\": \"Portugal\"},\n",
        "    {\"country_id\": 2002, \"country\": \"Spain\"},\n",
        "    {\"country_id\": 2003, \"country\": \"Germany\"},\n",
        "    {\"country_id\": 2004, \"country\": \"France\"},\n",
        "    {\"country_id\": 2005, \"country\": \"Italy\"},\n",
        "    {\"country_id\": 2006, \"country\": \"United Kingdom\"},\n",
        "    {\"country_id\": 2007, \"country\": \"United States\"},\n",
        "    {\"country_id\": 2008, \"country\": \"Canada\"},\n",
        "    {\"country_id\": 2009, \"country\": \"Australia\"},\n",
        "    {\"country_id\": 2010, \"country\": \"Japan\"},\n",
        "    {\"country_id\": 2011, \"country\": \"China\"},\n",
        "    {\"country_id\": 2012, \"country\": \"India\"},\n",
        "    {\"country_id\": 2013, \"country\": \"South Korea\"},\n",
        "    {\"country_id\": 2014, \"country\": \"Russia\"},\n",
        "    {\"country_id\": 2015, \"country\": \"Argentina\"}\n",
        "]\n",
        "\n",
        "countries = spark.createDataFrame(countries)"
      ]
    },
    {
      "cell_type": "markdown",
      "metadata": {
        "id": "swvPj9hVpzNf"
      },
      "source": [
        "# Streaming Messages x Messages Corrupted"
      ]
    },
    {
      "cell_type": "code",
      "source": [
        "df.schema"
      ],
      "metadata": {
        "id": "mCuaU5iQrzHs",
        "outputId": "7d57a69a-4a2a-4bcd-d44c-c77bbfa09dfb",
        "colab": {
          "base_uri": "https://localhost:8080/"
        }
      },
      "execution_count": 8,
      "outputs": [
        {
          "output_type": "execute_result",
          "data": {
            "text/plain": [
              "StructType([StructField('timestamp', TimestampType(), True), StructField('value', LongType(), True), StructField('event_type', StringType(), True), StructField('message_id', StringType(), True), StructField('channel', StringType(), True), StructField('country_id', IntegerType(), True), StructField('user_id', IntegerType(), True)])"
            ]
          },
          "metadata": {},
          "execution_count": 8
        }
      ]
    },
    {
      "cell_type": "code",
      "source": [
        "from pyspark.sql import SparkSession\n",
        "from pyspark.sql.types import StructType, StructField, StringType, LongType, IntegerType, TimestampType\n",
        "from pyspark.sql import functions as F\n",
        "from datetime import datetime\n",
        "\n",
        "\n",
        "# defining the schema\n",
        "schema = StructType([\n",
        "    StructField('timestamp', TimestampType(), True),\n",
        "    StructField('value', LongType(), True),\n",
        "    StructField('event_type', StringType(), True),\n",
        "    StructField('message_id', StringType(), True),\n",
        "    StructField('channel', StringType(), True),\n",
        "    StructField('country_id', IntegerType(), True),\n",
        "    StructField('user_id', IntegerType(), True)\n",
        "    ])\n",
        "\n",
        "\n",
        "# Function to write data to two different paths (valid data and corrupted data)\n",
        "def split(df: DataFrame, batch_id):\n",
        "  print(f\"[INFO] Processing batch {batch_id} at {datetime.now()}\")\n",
        "  print(f\"[INFO] Total records in batch: {df.count()}\")\n",
        "\n",
        "  df=df.join(countries, on=\"country_id\", how=\"left\")\n",
        "\n",
        "    # Corrupted data:\n",
        "  corrupted_df = df.filter(\n",
        "        (F.col(\"event_type\").isNull()) |\n",
        "        (F.col(\"event_type\") == \"\") |\n",
        "        (F.col(\"event_type\") == \"NONE\"))\n",
        "\n",
        "    # Write corrupted data\n",
        "  corrupted_df.write.mode(\"append\").format(\"parquet\") \\\n",
        "        .partitionBy(\"date\") \\\n",
        "        .save(\"/content/lake/silver/messages_corrupted/data\")\n",
        "\n",
        "  print(f\"[INFO] Corrupted data written successfully for batch {batch_id}.\")\n",
        "\n",
        "\n",
        "    # Valid Data\n",
        "  valid_df = df.filter(~(\n",
        "        (F.col(\"event_type\").isNull()) |\n",
        "        (F.col(\"event_type\") == \"\") |\n",
        "        (F.col(\"event_type\") == \"NONE\")))\n",
        "\n",
        "    # Write valid data\n",
        "  valid_df.write.mode(\"append\").format(\"parquet\") \\\n",
        "        .partitionBy(\"date\") \\\n",
        "        .save(\"/content/lake/silver/messages/data\")\n",
        "\n",
        "  print(f\"[INFO] Valid data written successfully for batch {batch_id}.\")\n",
        "\n",
        "\n",
        "# Read the streaming data from bronze\n",
        "df_stream = spark.readStream.format(\"parquet\") \\\n",
        "    .schema(schema) \\\n",
        "    .load(\"/content/lake/bronze/messages/data/*\")\n",
        "\n",
        "# Extract date from timestamp\n",
        "df_enriched = df_stream.withColumn(\"date\", F.to_date(\"timestamp\"))\n",
        "\n",
        "# Streaming configuration to split the data and write it to the appropriate paths\n",
        "query = (df_enriched.writeStream\n",
        "    .outputMode(\"append\")\n",
        "    .trigger(processingTime=\"5 seconds\")\n",
        "    .option(\"checkpointLocation\", \"/content/lake/silver/checkpoint\")\n",
        "    .foreachBatch(split)\n",
        "    .start()\n",
        ")\n",
        "\n",
        "\n",
        "query.awaitTermination(20)\n",
        "\n"
      ],
      "metadata": {
        "colab": {
          "base_uri": "https://localhost:8080/"
        },
        "id": "L33x8WRi6tkS",
        "outputId": "8b9fb842-a1b0-4f37-cf03-834ccef5786f"
      },
      "execution_count": 13,
      "outputs": [
        {
          "output_type": "stream",
          "name": "stdout",
          "text": [
            "[INFO] Processing batch 0 at 2024-12-15 15:40:37.655136\n",
            "[INFO] Total records in batch: 73\n",
            "[INFO] Corrupted data written successfully for batch 0.\n"
          ]
        },
        {
          "output_type": "execute_result",
          "data": {
            "text/plain": [
              "False"
            ]
          },
          "metadata": {},
          "execution_count": 13
        }
      ]
    },
    {
      "cell_type": "code",
      "source": [
        "query.isActive"
      ],
      "metadata": {
        "id": "N_Bi4d4ouvAl",
        "outputId": "c0606309-03cc-47bc-eb3f-e5c8a363f515",
        "colab": {
          "base_uri": "https://localhost:8080/"
        }
      },
      "execution_count": 14,
      "outputs": [
        {
          "output_type": "execute_result",
          "data": {
            "text/plain": [
              "True"
            ]
          },
          "metadata": {},
          "execution_count": 14
        }
      ]
    },
    {
      "cell_type": "code",
      "source": [
        "query.stop()"
      ],
      "metadata": {
        "id": "gPvkCyJkUjLc"
      },
      "execution_count": 15,
      "outputs": []
    },
    {
      "cell_type": "markdown",
      "metadata": {
        "id": "jLK9jpjCu3xE"
      },
      "source": [
        "## Checking data"
      ]
    },
    {
      "cell_type": "code",
      "execution_count": 16,
      "metadata": {
        "id": "nk8seEvbmvcU",
        "outputId": "6a376fec-089b-418c-bb05-69f788d5e23a",
        "colab": {
          "base_uri": "https://localhost:8080/"
        }
      },
      "outputs": [
        {
          "output_type": "stream",
          "name": "stdout",
          "text": [
            "[INFO] The counts match: Bronze layer count is equal to the sum of valid and corrupted messages in the Silver layer.\n"
          ]
        }
      ],
      "source": [
        "# Count messages in Bronze Layer\n",
        "bronze_df = spark.read.parquet(\"/content/lake/bronze/messages/data/*\")\n",
        "bronze_count = bronze_df.count()\n",
        "\n",
        "# Count messages in Silver Layer (valid and corrupted data)\n",
        "valid_messages_df = spark.read.parquet(\"/content/lake/silver/messages/data\")\n",
        "corrupted_messages_df = spark.read.parquet(\"/content/lake/silver/messages_corrupted/data\")\n",
        "\n",
        "valid_messages_count = valid_messages_df.count()\n",
        "corrupted_messages_count = corrupted_messages_df.count()\n",
        "\n",
        "# Calculate total messages in Silver Layer (valid + corrupted)\n",
        "silver_total_count = valid_messages_count + corrupted_messages_count\n",
        "\n",
        "# Perform the check\n",
        "if bronze_count == silver_total_count:\n",
        "    print(\"[INFO] The counts match: Bronze layer count is equal to the sum of valid and corrupted messages in the Silver layer.\")\n",
        "else:\n",
        "    print(\"[ERROR] The counts do not match!\")\n",
        "    print(f\"Bronze Layer Count: {bronze_count}\")\n",
        "    print(f\"Silver Layer Count (Valid + Corrupted): {silver_total_count}\")"
      ]
    },
    {
      "cell_type": "markdown",
      "metadata": {
        "id": "rfxIlBISSvRP"
      },
      "source": [
        "# Challenge 2\n",
        "\n",
        "- Run business report\n",
        "- But first, there is a bug in the system which is causing some duplicated messages, we need to exclude these lines from the report\n",
        "\n",
        "- removing duplicates logic:\n",
        "  - Identify possible duplicates on message_id, event_type and channel\n",
        "  - in case of duplicates, consider only the first message (occurrence by timestamp)\n",
        "  - Ex:\n",
        "    In table below, the correct message to consider is the second line\n",
        "\n",
        "```\n",
        "    message_id | channel | event_type | timestamp\n",
        "    123        | CHAT    | CREATED    | 10:10:01\n",
        "    123        | CHAT    | CREATED    | 07:56:45 (first occurrence)\n",
        "    123        | CHAT    | CREATED    | 08:13:33\n",
        "```\n",
        "\n",
        "- After cleaning the data we're able to create the busines report"
      ]
    },
    {
      "cell_type": "code",
      "execution_count": 17,
      "metadata": {
        "id": "R3J9XyOHhqvU"
      },
      "outputs": [],
      "source": [
        "# dedup data\n",
        "from pyspark.sql import functions as F\n",
        "from pyspark.sql.window import Window\n",
        "df = spark.read.format(\"parquet\").load(\"/content/lake/silver/messages\")\n",
        "dedup = df.withColumn(\"row_number\", F.row_number().over(Window.partitionBy(\"message_id\", \"event_type\", \"channel\").orderBy(\"timestamp\"))).filter(\"row_number = 1\").drop(\"row_number\")"
      ]
    },
    {
      "cell_type": "markdown",
      "metadata": {
        "id": "RF9L9i25lk74"
      },
      "source": [
        "### Report 1\n",
        "  - Aggregate data by date, event_type and channel\n",
        "  - Count number of messages\n",
        "  - pivot event_type from rows into columns\n",
        "  - schema expected:\n",
        "  \n",
        "```\n",
        "|      date|channel|CLICKED|CREATED|OPEN|RECEIVED|SENT|\n",
        "+----------+-------+-------+-------+----+--------+----+\n",
        "|2024-12-03|    SMS|      4|      4|   1|       1|   5|\n",
        "|2024-12-03|   CHAT|      3|      7|   5|       8|   4|\n",
        "|2024-12-03|   PUSH|   NULL|      3|   4|       3|   4|\n",
        "```"
      ]
    },
    {
      "cell_type": "code",
      "source": [
        "aggregated_df = df.groupBy(\"date\", \"event_type\", \"channel\").agg(\n",
        "    F.count(\"*\").alias(\"message_count\"))\n",
        "\n",
        "pivoted_df = aggregated_df.groupBy(\"date\", \"channel\").pivot(\"event_type\").agg(\n",
        "    F.sum(\"message_count\").alias(\"message_count\"))\n",
        "\n",
        "pivoted_df.show()"
      ],
      "metadata": {
        "colab": {
          "base_uri": "https://localhost:8080/"
        },
        "id": "lVCybb74vAsV",
        "outputId": "c693f925-14e6-4504-97ae-23832445f179"
      },
      "execution_count": 18,
      "outputs": [
        {
          "output_type": "stream",
          "name": "stdout",
          "text": [
            "+----------+-------+-------+-------+----+--------+----+\n",
            "|      date|channel|CLICKED|CREATED|OPEN|RECEIVED|SENT|\n",
            "+----------+-------+-------+-------+----+--------+----+\n",
            "|2024-12-15|   PUSH|      3|      2|   1|       2|   4|\n",
            "|2024-12-15|  OTHER|      1|      1|   1|    NULL|   5|\n",
            "|2024-12-15|  EMAIL|      1|      2|   2|       3|   4|\n",
            "|2024-12-15|    SMS|      4|      7|NULL|       1|   1|\n",
            "|2024-12-15|   CHAT|      2|      1|   3|       3|   2|\n",
            "+----------+-------+-------+-------+----+--------+----+\n",
            "\n"
          ]
        }
      ]
    },
    {
      "cell_type": "markdown",
      "metadata": {
        "id": "bxwOawo2lwQH"
      },
      "source": [
        "## Report 2\n",
        "\n",
        "- Identify the most active users by channel (sorted by number of iterations)\n",
        "- schema expected:\n",
        "\n",
        "```\n",
        "+-------+----------+----+-----+-----+----+---+\n",
        "|user_id|iterations|CHAT|EMAIL|OTHER|PUSH|SMS|\n",
        "+-------+----------+----+-----+-----+----+---+\n",
        "|   1022|         5|   2|    0|    1|   0|  2|\n",
        "|   1004|         4|   1|    1|    1|   1|  0|\n",
        "|   1013|         4|   0|    0|    2|   1|  1|\n",
        "|   1020|         4|   2|    0|    1|   1|  0|\n",
        "```\n"
      ]
    },
    {
      "cell_type": "code",
      "source": [
        "from pyspark.sql import functions as F\n",
        "\n",
        "user_activity_df = df.groupBy(\"user_id\", \"channel\").agg(F.count(\"*\").alias(\"iterations\"))\n",
        "\n",
        "pivot_df = user_activity_df.groupBy(\"user_id\").pivot(\"channel\", [\"CHAT\", \"EMAIL\", \"OTHER\", \"PUSH\", \"SMS\"]).agg(F.sum(\"iterations\").alias(\"iterations\"))\n",
        "\n",
        "pivot_df = pivot_df.fillna(0)\n",
        "\n",
        "pivot_df = pivot_df.withColumn(\"total_iterations\",F.col(\"CHAT\") + F.col(\"EMAIL\") + F.col(\"OTHER\") + F.col(\"PUSH\") + F.col(\"SMS\"))\n",
        "\n",
        "pivot_df = pivot_df.select(\"user_id\", \"total_iterations\", \"CHAT\", \"EMAIL\", \"OTHER\", \"PUSH\", \"SMS\")\n",
        "\n",
        "sorted_df = pivot_df.orderBy(F.col(\"total_iterations\"), ascending=False)\n",
        "\n",
        "sorted_df.show()\n"
      ],
      "metadata": {
        "colab": {
          "base_uri": "https://localhost:8080/"
        },
        "id": "lOOo8LzPwQM2",
        "outputId": "e7a07c6d-14b2-431e-ca65-6bc642ee5aa9"
      },
      "execution_count": 19,
      "outputs": [
        {
          "output_type": "stream",
          "name": "stdout",
          "text": [
            "+-------+----------------+----+-----+-----+----+---+\n",
            "|user_id|total_iterations|CHAT|EMAIL|OTHER|PUSH|SMS|\n",
            "+-------+----------------+----+-----+-----+----+---+\n",
            "|   1037|               6|   0|    0|    2|   0|  4|\n",
            "|   1010|               4|   0|    1|    0|   2|  1|\n",
            "|   1007|               4|   1|    1|    0|   1|  1|\n",
            "|   1008|               3|   0|    2|    0|   1|  0|\n",
            "|   1042|               3|   1|    0|    0|   1|  1|\n",
            "|   1043|               3|   1|    1|    0|   1|  0|\n",
            "|   1034|               2|   0|    0|    0|   2|  0|\n",
            "|   1032|               2|   0|    1|    1|   0|  0|\n",
            "|   1050|               2|   0|    0|    0|   0|  2|\n",
            "|   1022|               2|   1|    0|    0|   0|  1|\n",
            "|   1041|               2|   1|    0|    0|   1|  0|\n",
            "|   1000|               2|   0|    2|    0|   0|  0|\n",
            "|   1039|               2|   0|    0|    1|   1|  0|\n",
            "|   1025|               1|   0|    0|    1|   0|  0|\n",
            "|   1016|               1|   0|    0|    0|   0|  1|\n",
            "|   1019|               1|   0|    0|    1|   0|  0|\n",
            "|   1021|               1|   1|    0|    0|   0|  0|\n",
            "|   1029|               1|   0|    1|    0|   0|  0|\n",
            "|   1035|               1|   1|    0|    0|   0|  0|\n",
            "|   1017|               1|   1|    0|    0|   0|  0|\n",
            "+-------+----------------+----+-----+-----+----+---+\n",
            "only showing top 20 rows\n",
            "\n"
          ]
        }
      ]
    },
    {
      "cell_type": "markdown",
      "metadata": {
        "id": "a9_kzDbDwDOS"
      },
      "source": [
        "# Challenge 3"
      ]
    },
    {
      "cell_type": "code",
      "execution_count": null,
      "metadata": {
        "id": "Ef0RjFTxwE5y"
      },
      "outputs": [],
      "source": [
        "# Theoretical question:\n",
        "\n",
        "# A new usecase requires the message data to be aggregate in near real time\n",
        "# They want to build a dashboard embedded in the platform website to analyze message data in low latency (few minutes)\n",
        "# This application will access directly the data aggregated by streaming process\n",
        "\n",
        "# Q1:\n",
        "- What would be your suggestion to achieve that using Spark Structure Streaming?\n",
        "Or would you choose a different data processing tool?\n",
        "\n",
        "- Which storage would you use and why? (database?, data lake?, kafka?)\n",
        "\n",
        "\n"
      ]
    },
    {
      "cell_type": "markdown",
      "source": [
        "R:\n",
        "To achieve near real-time message aggregation with low latency using Spark Structured Streaming, we can use Kafka as the data source to stream messages into Spark. Spark will process and aggregate the data in real-time, applying aggregation and time-window operations. Kafka provides high throughput and fault tolerance, allowing continuous data ingestion.\n",
        "The aggregated results can be stored in a database for fast, low-latency access by the dashboard."
      ],
      "metadata": {
        "id": "NOpkjoYY5oU1"
      }
    }
  ],
  "metadata": {
    "colab": {
      "provenance": [],
      "include_colab_link": true
    },
    "kernelspec": {
      "display_name": "Python 3",
      "name": "python3"
    },
    "language_info": {
      "name": "python"
    }
  },
  "nbformat": 4,
  "nbformat_minor": 0
}